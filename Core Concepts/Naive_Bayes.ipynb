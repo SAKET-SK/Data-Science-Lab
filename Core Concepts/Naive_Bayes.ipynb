{
 "cells": [
  {
   "cell_type": "code",
   "execution_count": 8,
   "id": "0a4c09cb-b79b-46b5-95b5-01bb1354cb78",
   "metadata": {},
   "outputs": [
    {
     "name": "stdout",
     "output_type": "stream",
     "text": [
      "   Age  Tumor_Size  Diagnosis\n",
      "0   45        12.5          0\n",
      "1   50        15.0          1\n",
      "2   35        10.2          0\n",
      "3   23         7.1          0\n",
      "4   55        20.1          1\n",
      "5   60        22.5          1\n",
      "Prediction for new patient: Benign\n"
     ]
    },
    {
     "name": "stderr",
     "output_type": "stream",
     "text": [
      "C:\\Users\\saket.khopkar\\anaconda3\\Lib\\site-packages\\sklearn\\base.py:493: UserWarning: X does not have valid feature names, but GaussianNB was fitted with feature names\n",
      "  warnings.warn(\n"
     ]
    }
   ],
   "source": [
    "# Gaussian Naive Bayes\n",
    "from sklearn.naive_bayes import GaussianNB\n",
    "from sklearn.model_selection import train_test_split\n",
    "\n",
    "# Sample data\n",
    "import pandas as pd\n",
    "\n",
    "df = pd.DataFrame({\n",
    "    'Age': [45, 50, 35, 23, 55, 60],\n",
    "    'Tumor_Size': [12.5, 15.0, 10.2, 7.1, 20.1, 22.5],\n",
    "    'Diagnosis': [0, 1, 0, 0, 1, 1]  # 0 = Benign, 1 = Malignant\n",
    "})\n",
    "\n",
    "print(df)\n",
    "\n",
    "X = df[['Age', 'Tumor_Size']]\n",
    "y = df['Diagnosis']\n",
    "\n",
    "X_train, X_test, y_train, y_test = train_test_split(X, y)\n",
    "\n",
    "# Train model\n",
    "model = GaussianNB()\n",
    "model.fit(X_train, y_train)\n",
    "\n",
    "# Manually entered input\n",
    "new_patient = [[45, 14.0]]  # Age 40, Tumor size 14.0 mm\n",
    "\n",
    "prediction = model.predict(new_patient)\n",
    "print(\"Prediction for new patient:\", \"Malignant\" if prediction[0] == 1 else \"Benign\")"
   ]
  },
  {
   "cell_type": "code",
   "execution_count": 1,
   "id": "fadf4757-f399-49ee-bba5-13b36ee4f580",
   "metadata": {},
   "outputs": [
    {
     "name": "stdout",
     "output_type": "stream",
     "text": [
      "Prediction for new message: Spam\n"
     ]
    }
   ],
   "source": [
    "# Multinomial Naive Bayes\n",
    "from sklearn.feature_extraction.text import CountVectorizer\n",
    "from sklearn.naive_bayes import MultinomialNB\n",
    "\n",
    "texts = [\n",
    "    \"free money now\", \n",
    "    \"win big prizes\", \n",
    "    \"meeting at 3 pm\", \n",
    "    \"project deadline\", \n",
    "    \"exclusive deal just for you\"\n",
    "]\n",
    "labels = [1, 1, 0, 0, 1]  # 1 = Spam, 0 = Ham\n",
    "\n",
    "vectorizer = CountVectorizer()\n",
    "X = vectorizer.fit_transform(texts)\n",
    "\n",
    "model = MultinomialNB()\n",
    "model.fit(X, labels)\n",
    "\n",
    "# Predict on a new message\n",
    "new_message = [\"win a free deal\"]\n",
    "new_vector = vectorizer.transform(new_message)\n",
    "\n",
    "prediction = model.predict(new_vector)\n",
    "print(\"Prediction for new message:\", \"Spam\" if prediction[0] == 1 else \"Ham\")"
   ]
  },
  {
   "cell_type": "code",
   "execution_count": 4,
   "id": "5f423bbc-e163-43a6-81bb-68e973bbbe19",
   "metadata": {},
   "outputs": [
    {
     "name": "stdout",
     "output_type": "stream",
     "text": [
      "Prediction for binary input message: Spam\n"
     ]
    }
   ],
   "source": [
    "# Bernoulli Naive Bayes\n",
    "from sklearn.feature_extraction.text import CountVectorizer\n",
    "from sklearn.naive_bayes import BernoulliNB\n",
    "\n",
    "texts = [\n",
    "    \"win now\", \n",
    "    \"important meeting\", \n",
    "    \"free gift\", \n",
    "    \"see you at dinner\", \n",
    "    \"urgent cash offer\"\n",
    "]\n",
    "labels = [1, 0, 1, 0, 1]  # 1 = Spam, 0 = Ham\n",
    "\n",
    "vectorizer = CountVectorizer(binary=True)\n",
    "X = vectorizer.fit_transform(texts)\n",
    "\n",
    "model = BernoulliNB()\n",
    "model.fit(X, labels)\n",
    "\n",
    "# Predict on new message\n",
    "new_msg = [\"urgent free win\"]\n",
    "new_bin_vector = vectorizer.transform(new_msg)\n",
    "\n",
    "prediction = model.predict(new_bin_vector)\n",
    "print(\"Prediction for binary input message:\", \"Spam\" if prediction[0] == 1 else \"Ham\")"
   ]
  },
  {
   "cell_type": "code",
   "execution_count": 11,
   "id": "4cdcf1eb-5ad4-425c-b960-1a86d94d05c0",
   "metadata": {},
   "outputs": [
    {
     "name": "stdout",
     "output_type": "stream",
     "text": [
      "Prediction for new review: Positive\n"
     ]
    },
    {
     "data": {
      "text/plain": [
       "array([[0.21691974, 0.78308026]])"
      ]
     },
     "execution_count": 11,
     "metadata": {},
     "output_type": "execute_result"
    }
   ],
   "source": [
    "# Complement Naive Bayes\n",
    "from sklearn.naive_bayes import ComplementNB\n",
    "from sklearn.feature_extraction.text import CountVectorizer\n",
    "\n",
    "reviews = [\n",
    "    \"great product quality\", \n",
    "    \"amazing experience\", \n",
    "    \"bad service\",\n",
    "    \"love it\", \n",
    "    \"worst ever\", \n",
    "    \"terrible support\"\n",
    "]\n",
    "labels = [1, 1, 0, 1, 0, 0]  # 1 = Positive, 0 = Negative\n",
    "\n",
    "vectorizer = CountVectorizer()\n",
    "X = vectorizer.fit_transform(reviews)\n",
    "\n",
    "model = ComplementNB()\n",
    "model.fit(X, labels)\n",
    "\n",
    "# Predict on new review\n",
    "new_review = [\"best product quality\"]\n",
    "new_review_vector = vectorizer.transform(new_review)\n",
    "\n",
    "prediction = model.predict(new_review_vector)\n",
    "print(\"Prediction for new review:\", \"Positive\" if prediction[0] == 1 else \"Negative\")\n",
    "\n",
    "model.predict_proba(new_review_vector)  # acccess probabilities using this function\n"
   ]
  },
  {
   "cell_type": "code",
   "execution_count": null,
   "id": "b1ac49f0-b8e9-4660-b6e8-8f301f7f509e",
   "metadata": {},
   "outputs": [],
   "source": []
  }
 ],
 "metadata": {
  "kernelspec": {
   "display_name": "Python 3 (ipykernel)",
   "language": "python",
   "name": "python3"
  },
  "language_info": {
   "codemirror_mode": {
    "name": "ipython",
    "version": 3
   },
   "file_extension": ".py",
   "mimetype": "text/x-python",
   "name": "python",
   "nbconvert_exporter": "python",
   "pygments_lexer": "ipython3",
   "version": "3.12.7"
  }
 },
 "nbformat": 4,
 "nbformat_minor": 5
}
