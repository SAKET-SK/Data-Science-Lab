{
 "cells": [
  {
   "cell_type": "code",
   "execution_count": 3,
   "id": "1fe47795-a33e-462e-95ad-633f2a2457b1",
   "metadata": {},
   "outputs": [
    {
     "name": "stdout",
     "output_type": "stream",
     "text": [
      "Predicted Prices: [18000.]\n",
      "Feature Importance:\n",
      " Horsepower     500.000000\n",
      "Mileage        149.253731\n",
      "Year         -3507.462687\n",
      "Luxury        3492.537313\n",
      "dtype: float64\n"
     ]
    }
   ],
   "source": [
    "import pandas as pd  \n",
    "import numpy as np  \n",
    "import matplotlib.pyplot as plt  \n",
    "from sklearn.model_selection import train_test_split  \n",
    "from sklearn.linear_model import LinearRegression  \n",
    "\n",
    "# Creating the dataset\n",
    "data = {  \n",
    "    \"Horsepower\": [150, 120, 200, 130, 180],  \n",
    "    \"Mileage\": [50, 80, 30, 70, 40],  \n",
    "    \"Year\": [2018, 2016, 2020, 2017, 2019],  \n",
    "    \"Luxury\": [1, 0, 1, 0, 1],  \n",
    "    \"Price\": [25000, 15000, 40000, 18000, 35000]  \n",
    "}  \n",
    "df = pd.DataFrame(data)\n",
    "\n",
    "# Defining features (X) and target (Y)\n",
    "X = df[[\"Horsepower\", \"Mileage\", \"Year\", \"Luxury\"]]  \n",
    "y = df[\"Price\"]  \n",
    "\n",
    "# Splitting into 80% training and 20% testing\n",
    "X_train, X_test, y_train, y_test = train_test_split(X, y, test_size=0.2, random_state=42)\n",
    "\n",
    "# Create and train the model\n",
    "model = LinearRegression()  \n",
    "model.fit(X_train, y_train)\n",
    "\n",
    "# Predict car prices\n",
    "predictions = model.predict(X_test)  \n",
    "print(\"Predicted Prices:\", predictions)\n",
    "\n",
    "feature_importance = pd.Series(model.coef_, index=X.columns)  \n",
    "print(\"Feature Importance:\\n\", feature_importance)"
   ]
  },
  {
   "cell_type": "code",
   "execution_count": 4,
   "id": "21feeff7-14de-4cec-9d81-4a0b46dc4eea",
   "metadata": {},
   "outputs": [
    {
     "name": "stdout",
     "output_type": "stream",
     "text": [
      "Mean Absolute Error: 3000.00\n",
      "Mean Squared Error: 9000000.00\n",
      "R² Score: nan\n"
     ]
    },
    {
     "name": "stderr",
     "output_type": "stream",
     "text": [
      "C:\\Users\\saket.khopkar\\anaconda3\\Lib\\site-packages\\sklearn\\metrics\\_regression.py:1211: UndefinedMetricWarning: R^2 score is not well-defined with less than two samples.\n",
      "  warnings.warn(msg, UndefinedMetricWarning)\n"
     ]
    }
   ],
   "source": [
    "from sklearn.metrics import mean_absolute_error, mean_squared_error, r2_score  \n",
    "\n",
    "# Calculate evaluation metrics\n",
    "mae = mean_absolute_error(y_test, predictions)  \n",
    "mse = mean_squared_error(y_test, predictions)  \n",
    "r2 = r2_score(y_test, predictions)  \n",
    "\n",
    "print(f\"Mean Absolute Error: {mae:.2f}\")  \n",
    "print(f\"Mean Squared Error: {mse:.2f}\")  \n",
    "print(f\"R² Score: {r2:.2f}\")"
   ]
  },
  {
   "cell_type": "markdown",
   "id": "b09d4665-e7bb-4308-9f49-c10135fbee91",
   "metadata": {},
   "source": [
    "The warning occurs because the R² score requires at least two samples in the test set to compute a meaningful value. Since the dataset is small and the test set contains only one sample, the R² score cannot be calculated.\n",
    "\n",
    "To resolve this, you can either increase the size of the dataset or adjust the test size to ensure that the test set contains at least two samples. Here’s how you can modify the test size:\n"
   ]
  },
  {
   "cell_type": "code",
   "execution_count": 5,
   "id": "3801b6df-74c9-462a-8b98-beb0a7d90877",
   "metadata": {},
   "outputs": [
    {
     "name": "stdout",
     "output_type": "stream",
     "text": [
      "Predicted Prices: [14521.66656281 33840.55552094]\n",
      "Mean Absolute Error: 818.89\n",
      "Mean Squared Error: 786557.19\n",
      "R² Score: 0.99\n"
     ]
    }
   ],
   "source": [
    "# Splitting into 67% training and 33% testing to ensure at least 2 samples in\n",
    "# test set\n",
    "X_train, X_test, y_train, y_test = train_test_split(X, y, test_size=0.33, random_state=42)\n",
    "\n",
    "# Create and train the model\n",
    "model = LinearRegression()  \n",
    "model.fit(X_train, y_train)\n",
    "\n",
    "# Predict car prices\n",
    "predictions = model.predict(X_test)  \n",
    "print(\"Predicted Prices:\", predictions)\n",
    "\n",
    "# Calculate evaluation metrics\n",
    "mae = mean_absolute_error(y_test, predictions)  \n",
    "mse = mean_squared_error(y_test, predictions)  \n",
    "r2 = r2_score(y_test, predictions)  \n",
    "\n",
    "print(f\"Mean Absolute Error: {mae:.2f}\")  \n",
    "print(f\"Mean Squared Error: {mse:.2f}\")  \n",
    "print(f\"R² Score: {r2:.2f}\")"
   ]
  },
  {
   "cell_type": "markdown",
   "id": "4108f284-d51b-472a-8383-f414572daee2",
   "metadata": {},
   "source": [
    "\n",
    "This adjustment ensures that the test set has at least two samples, allowing the R² score to be calculated without warnings.\n",
    "\n"
   ]
  },
  {
   "cell_type": "code",
   "execution_count": 6,
   "id": "87f40d9b-f402-4231-89ae-7104cbfcc2ff",
   "metadata": {},
   "outputs": [
    {
     "name": "stdout",
     "output_type": "stream",
     "text": [
      "Feature Importance:\n",
      " Horsepower      500.00\n",
      "Mileage         149.25\n",
      "Year          -3507.46\n",
      "Luxury         3492.54\n",
      "dtype: object\n"
     ]
    }
   ],
   "source": [
    "# Print feature importance with two decimal places\n",
    "formatted_importance = feature_importance.apply(lambda x: f\"{x:.2f}\")\n",
    "print(\"Feature Importance:\\n\", formatted_importance)"
   ]
  },
  {
   "cell_type": "code",
   "execution_count": null,
   "id": "293fe47e-cd02-4728-b6ce-0d7e49322a2c",
   "metadata": {},
   "outputs": [],
   "source": []
  }
 ],
 "metadata": {
  "kernelspec": {
   "display_name": "Python 3 (ipykernel)",
   "language": "python",
   "name": "python3"
  },
  "language_info": {
   "codemirror_mode": {
    "name": "ipython",
    "version": 3
   },
   "file_extension": ".py",
   "mimetype": "text/x-python",
   "name": "python",
   "nbconvert_exporter": "python",
   "pygments_lexer": "ipython3",
   "version": "3.12.7"
  }
 },
 "nbformat": 4,
 "nbformat_minor": 5
}
