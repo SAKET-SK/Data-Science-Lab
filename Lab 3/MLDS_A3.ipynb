{
  "nbformat": 4,
  "nbformat_minor": 5,
  "metadata": {
    "kernelspec": {
      "display_name": "Python 3",
      "language": "python",
      "name": "python3"
    },
    "language_info": {
      "codemirror_mode": {
        "name": "ipython",
        "version": 3
      },
      "file_extension": ".py",
      "mimetype": "text/x-python",
      "name": "python",
      "nbconvert_exporter": "python",
      "pygments_lexer": "ipython3",
      "version": "3.8.8"
    },
    "colab": {
      "name": "MLDS_A3_41469_Yogesh.ipynb",
      "provenance": []
    }
  },
  "cells": [
    {
      "cell_type": "code",
      "metadata": {
        "id": "2f8beacf"
      },
      "source": [
        "import random\n",
        "import matplotlib\n",
        "import matplotlib.pyplot as plt"
      ],
      "id": "2f8beacf",
      "execution_count": 1,
      "outputs": []
    },
    {
      "cell_type": "code",
      "metadata": {
        "id": "9b77310c"
      },
      "source": [
        "class Net:\n",
        "    def __init__(self):        \n",
        "        self.w1 = 0\n",
        "        self.w2 = 0\n",
        "        self.b = 0\n",
        "        \n",
        "    def forward(self, train):    \n",
        "        wsum = self.w1 * train[0] + self.w2 * train[1] + self.b\n",
        "        pred = 1 if wsum >= 0 else 0\n",
        "        return (pred, wsum)"
      ],
      "id": "9b77310c",
      "execution_count": 2,
      "outputs": []
    },
    {
      "cell_type": "code",
      "metadata": {
        "id": "537e3c17"
      },
      "source": [
        "gates = {'and':  [[(0, 0), (0, 1), (1, 0), (1, 1)], [0, 0, 0, 1]],\n",
        "         'or':   [[(0, 0), (0, 1), (1, 0), (1, 1)], [0, 1, 1, 1]],\n",
        "         'nand': [[(0, 0), (0, 1), (1, 0), (1, 1)], [1, 1, 1, 0]],\n",
        "         'nor':  [[(0, 0), (0, 1), (1, 0), (1, 1)], [1, 0, 0, 0]]}"
      ],
      "id": "537e3c17",
      "execution_count": 3,
      "outputs": []
    },
    {
      "cell_type": "code",
      "metadata": {
        "id": "2dfe05de"
      },
      "source": [
        "def nn(data):\n",
        "    x, y = data[0], data[1]\n",
        "\n",
        "    net = Net()\n",
        "    learning_rate = 0.1\n",
        "\n",
        "    epoch = 40\n",
        "    for i in range(epoch):\n",
        "        index = random.randint(0, 3)\n",
        "        train = x[index]\n",
        "        test = y[index]\n",
        "\n",
        "        predicted, wsum = net.forward(train)  \n",
        "        expected = test\n",
        "\n",
        "        net.w1 += learning_rate * (expected - predicted) * train[0]\n",
        "        net.w2 += learning_rate * (expected - predicted) * train[1]\n",
        "        net.b += learning_rate * (expected - predicted)\n",
        "     \n",
        "    print('model trained!')\n",
        "    print('testing-->')\n",
        "    for i, j in zip(x, y):\n",
        "        predicted = net.forward(i)[0]\n",
        "        print(i, ' = ', predicted, end = ' ')\n",
        "        print('(correct)') if predicted == j else print('(wrong)')"
      ],
      "id": "2dfe05de",
      "execution_count": 4,
      "outputs": []
    },
    {
      "cell_type": "code",
      "metadata": {
        "colab": {
          "base_uri": "https://localhost:8080/"
        },
        "id": "1b932b15",
        "outputId": "c82d56f8-f81e-456f-ba12-cabd15dcb5a4"
      },
      "source": [
        "nn(gates['nand'])"
      ],
      "id": "1b932b15",
      "execution_count": 5,
      "outputs": [
        {
          "output_type": "stream",
          "name": "stdout",
          "text": [
            "model trained!\n",
            "testing-->\n",
            "(0, 0)  =  1 (correct)\n",
            "(0, 1)  =  1 (correct)\n",
            "(1, 0)  =  1 (correct)\n",
            "(1, 1)  =  1 (wrong)\n"
          ]
        }
      ]
    },
    {
      "cell_type": "code",
      "metadata": {
        "colab": {
          "base_uri": "https://localhost:8080/"
        },
        "id": "16014fad",
        "outputId": "0693f18b-ec70-440c-fa85-20a7b173f869"
      },
      "source": [
        "nn(gates['and'])"
      ],
      "id": "16014fad",
      "execution_count": 6,
      "outputs": [
        {
          "output_type": "stream",
          "name": "stdout",
          "text": [
            "model trained!\n",
            "testing-->\n",
            "(0, 0)  =  0 (correct)\n",
            "(0, 1)  =  0 (correct)\n",
            "(1, 0)  =  0 (correct)\n",
            "(1, 1)  =  1 (correct)\n"
          ]
        }
      ]
    },
    {
      "cell_type": "code",
      "metadata": {
        "colab": {
          "base_uri": "https://localhost:8080/"
        },
        "id": "N6ypbWfHcfbH",
        "outputId": "e1a7c8b9-0c55-4dc8-91cb-c81a0206fed1"
      },
      "source": [
        "nn(gates['or'])"
      ],
      "id": "N6ypbWfHcfbH",
      "execution_count": 7,
      "outputs": [
        {
          "output_type": "stream",
          "name": "stdout",
          "text": [
            "model trained!\n",
            "testing-->\n",
            "(0, 0)  =  0 (correct)\n",
            "(0, 1)  =  1 (correct)\n",
            "(1, 0)  =  1 (correct)\n",
            "(1, 1)  =  1 (correct)\n"
          ]
        }
      ]
    },
    {
      "cell_type": "code",
      "metadata": {
        "colab": {
          "base_uri": "https://localhost:8080/"
        },
        "id": "1yGSZnH5cirb",
        "outputId": "6cf8e716-40b9-452b-b526-7771c9423345"
      },
      "source": [
        "nn(gates['nor'])"
      ],
      "id": "1yGSZnH5cirb",
      "execution_count": 8,
      "outputs": [
        {
          "output_type": "stream",
          "name": "stdout",
          "text": [
            "model trained!\n",
            "testing-->\n",
            "(0, 0)  =  1 (correct)\n",
            "(0, 1)  =  0 (correct)\n",
            "(1, 0)  =  0 (correct)\n",
            "(1, 1)  =  0 (correct)\n"
          ]
        }
      ]
    }
  ]
}