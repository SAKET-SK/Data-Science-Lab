{
 "cells": [
  {
   "cell_type": "code",
   "execution_count": 1,
   "id": "bc4dee90",
   "metadata": {},
   "outputs": [],
   "source": [
    "import pandas as pd\n",
    "df = pd.read_csv('train.csv')"
   ]
  },
  {
   "cell_type": "code",
   "execution_count": 2,
   "id": "929c0051",
   "metadata": {},
   "outputs": [
    {
     "name": "stdout",
     "output_type": "stream",
     "text": [
      "<class 'pandas.core.frame.DataFrame'>\n",
      "RangeIndex: 891 entries, 0 to 890\n",
      "Data columns (total 12 columns):\n",
      " #   Column       Non-Null Count  Dtype  \n",
      "---  ------       --------------  -----  \n",
      " 0   PassengerId  891 non-null    int64  \n",
      " 1   Survived     891 non-null    int64  \n",
      " 2   Pclass       891 non-null    int64  \n",
      " 3   Name         891 non-null    object \n",
      " 4   Sex          891 non-null    object \n",
      " 5   Age          714 non-null    float64\n",
      " 6   SibSp        891 non-null    int64  \n",
      " 7   Parch        891 non-null    int64  \n",
      " 8   Ticket       891 non-null    object \n",
      " 9   Fare         891 non-null    float64\n",
      " 10  Cabin        204 non-null    object \n",
      " 11  Embarked     889 non-null    object \n",
      "dtypes: float64(2), int64(5), object(5)\n",
      "memory usage: 83.7+ KB\n"
     ]
    }
   ],
   "source": [
    "df.info()"
   ]
  },
  {
   "cell_type": "code",
   "execution_count": 3,
   "id": "747b6740",
   "metadata": {},
   "outputs": [],
   "source": [
    "# If you carefully observe the above summary of pandas, there are total 891 rows, Age\n",
    "# shows only 714 (means missing), Embarked (2 missing) and Cabin missing a lot as well.\n",
    "# Object data types are non-numeric so we have to find a way to encode them to numerical\n",
    "# values."
   ]
  },
  {
   "cell_type": "code",
   "execution_count": 4,
   "id": "a751e988",
   "metadata": {},
   "outputs": [],
   "source": [
    "# Lets drop some columns that don't conribute much"
   ]
  },
  {
   "cell_type": "code",
   "execution_count": 5,
   "id": "a3f81d80",
   "metadata": {},
   "outputs": [],
   "source": [
    "cols = ['Name','Ticket','Cabin']\n",
    "df = df.drop(cols,axis=1)"
   ]
  },
  {
   "cell_type": "code",
   "execution_count": 6,
   "id": "671ae073",
   "metadata": {},
   "outputs": [
    {
     "name": "stdout",
     "output_type": "stream",
     "text": [
      "<class 'pandas.core.frame.DataFrame'>\n",
      "RangeIndex: 891 entries, 0 to 890\n",
      "Data columns (total 9 columns):\n",
      " #   Column       Non-Null Count  Dtype  \n",
      "---  ------       --------------  -----  \n",
      " 0   PassengerId  891 non-null    int64  \n",
      " 1   Survived     891 non-null    int64  \n",
      " 2   Pclass       891 non-null    int64  \n",
      " 3   Sex          891 non-null    object \n",
      " 4   Age          714 non-null    float64\n",
      " 5   SibSp        891 non-null    int64  \n",
      " 6   Parch        891 non-null    int64  \n",
      " 7   Fare         891 non-null    float64\n",
      " 8   Embarked     889 non-null    object \n",
      "dtypes: float64(2), int64(5), object(2)\n",
      "memory usage: 62.8+ KB\n"
     ]
    }
   ],
   "source": [
    "df.info()"
   ]
  },
  {
   "cell_type": "code",
   "execution_count": 7,
   "id": "9eda20a5",
   "metadata": {},
   "outputs": [],
   "source": [
    "# Dropping rows having missing value"
   ]
  },
  {
   "cell_type": "code",
   "execution_count": 8,
   "id": "d278de89",
   "metadata": {},
   "outputs": [],
   "source": [
    "df = df.dropna()"
   ]
  },
  {
   "cell_type": "code",
   "execution_count": 9,
   "id": "a86c2c07",
   "metadata": {},
   "outputs": [
    {
     "name": "stdout",
     "output_type": "stream",
     "text": [
      "<class 'pandas.core.frame.DataFrame'>\n",
      "Int64Index: 712 entries, 0 to 890\n",
      "Data columns (total 9 columns):\n",
      " #   Column       Non-Null Count  Dtype  \n",
      "---  ------       --------------  -----  \n",
      " 0   PassengerId  712 non-null    int64  \n",
      " 1   Survived     712 non-null    int64  \n",
      " 2   Pclass       712 non-null    int64  \n",
      " 3   Sex          712 non-null    object \n",
      " 4   Age          712 non-null    float64\n",
      " 5   SibSp        712 non-null    int64  \n",
      " 6   Parch        712 non-null    int64  \n",
      " 7   Fare         712 non-null    float64\n",
      " 8   Embarked     712 non-null    object \n",
      "dtypes: float64(2), int64(5), object(2)\n",
      "memory usage: 55.6+ KB\n"
     ]
    }
   ],
   "source": [
    "df.info()"
   ]
  },
  {
   "cell_type": "code",
   "execution_count": 10,
   "id": "33dc4b66",
   "metadata": {},
   "outputs": [],
   "source": [
    "# After dropping rows with missing values we find that the dataset is reduced to 712 rows\n",
    "# from 891, which means we are wasting data. Machine learning models need data for\n",
    "# training to perform well. So we preserve the data and make use of it as much as we can.\n",
    "# We will see it later."
   ]
  },
  {
   "cell_type": "code",
   "execution_count": 11,
   "id": "1796f41b",
   "metadata": {},
   "outputs": [],
   "source": [
    "# Creating Dummy variables"
   ]
  },
  {
   "cell_type": "code",
   "execution_count": 12,
   "id": "49f963fa",
   "metadata": {},
   "outputs": [],
   "source": [
    "# Now we convert the Pclass, Sex, Embarked to columns in pandas and drop them after conversion."
   ]
  },
  {
   "cell_type": "code",
   "execution_count": 13,
   "id": "097058e7",
   "metadata": {},
   "outputs": [],
   "source": [
    "dummies = []\n",
    "cols = ['Pclass','Sex','Embarked']\n",
    "for col in cols:\n",
    "    dummies.append(pd.get_dummies(df[col]))"
   ]
  },
  {
   "cell_type": "code",
   "execution_count": 14,
   "id": "ab0f1b8b",
   "metadata": {},
   "outputs": [],
   "source": [
    "titanic_dummies = pd.concat(dummies, axis=1)"
   ]
  },
  {
   "cell_type": "code",
   "execution_count": 15,
   "id": "dec2c41c",
   "metadata": {},
   "outputs": [],
   "source": [
    "# We have 8 columns transformed to columns where 1,2,3 represents passenger class.\n",
    "# And finally we concatenate to the original dataframe column wise"
   ]
  },
  {
   "cell_type": "code",
   "execution_count": 16,
   "id": "e6ef741b",
   "metadata": {},
   "outputs": [],
   "source": [
    "df = pd.concat((df,titanic_dummies), axis=1)"
   ]
  },
  {
   "cell_type": "code",
   "execution_count": 17,
   "id": "6a8eeb09",
   "metadata": {},
   "outputs": [],
   "source": [
    "# Now that we converted Pclass, Sex, Embarked values into columns, we drop the redundant same columns from the dataframe"
   ]
  },
  {
   "cell_type": "code",
   "execution_count": 18,
   "id": "f01ab27b",
   "metadata": {},
   "outputs": [],
   "source": [
    "df = df.drop(['Pclass','Sex','Embarked'], axis=1)"
   ]
  },
  {
   "cell_type": "code",
   "execution_count": 19,
   "id": "24c9885d",
   "metadata": {},
   "outputs": [
    {
     "name": "stdout",
     "output_type": "stream",
     "text": [
      "<class 'pandas.core.frame.DataFrame'>\n",
      "Int64Index: 712 entries, 0 to 890\n",
      "Data columns (total 14 columns):\n",
      " #   Column       Non-Null Count  Dtype  \n",
      "---  ------       --------------  -----  \n",
      " 0   PassengerId  712 non-null    int64  \n",
      " 1   Survived     712 non-null    int64  \n",
      " 2   Age          712 non-null    float64\n",
      " 3   SibSp        712 non-null    int64  \n",
      " 4   Parch        712 non-null    int64  \n",
      " 5   Fare         712 non-null    float64\n",
      " 6   1            712 non-null    uint8  \n",
      " 7   2            712 non-null    uint8  \n",
      " 8   3            712 non-null    uint8  \n",
      " 9   female       712 non-null    uint8  \n",
      " 10  male         712 non-null    uint8  \n",
      " 11  C            712 non-null    uint8  \n",
      " 12  Q            712 non-null    uint8  \n",
      " 13  S            712 non-null    uint8  \n",
      "dtypes: float64(2), int64(4), uint8(8)\n",
      "memory usage: 44.5 KB\n"
     ]
    }
   ],
   "source": [
    "df.info()"
   ]
  },
  {
   "cell_type": "code",
   "execution_count": 20,
   "id": "58eb5111",
   "metadata": {},
   "outputs": [],
   "source": [
    "# Taking care of missing data"
   ]
  },
  {
   "cell_type": "code",
   "execution_count": 21,
   "id": "202ba2ac",
   "metadata": {},
   "outputs": [],
   "source": [
    "df['Age'] = df['Age'].interpolate()"
   ]
  },
  {
   "cell_type": "code",
   "execution_count": 22,
   "id": "1412a918",
   "metadata": {},
   "outputs": [
    {
     "name": "stdout",
     "output_type": "stream",
     "text": [
      "<class 'pandas.core.frame.DataFrame'>\n",
      "Int64Index: 712 entries, 0 to 890\n",
      "Data columns (total 14 columns):\n",
      " #   Column       Non-Null Count  Dtype  \n",
      "---  ------       --------------  -----  \n",
      " 0   PassengerId  712 non-null    int64  \n",
      " 1   Survived     712 non-null    int64  \n",
      " 2   Age          712 non-null    float64\n",
      " 3   SibSp        712 non-null    int64  \n",
      " 4   Parch        712 non-null    int64  \n",
      " 5   Fare         712 non-null    float64\n",
      " 6   1            712 non-null    uint8  \n",
      " 7   2            712 non-null    uint8  \n",
      " 8   3            712 non-null    uint8  \n",
      " 9   female       712 non-null    uint8  \n",
      " 10  male         712 non-null    uint8  \n",
      " 11  C            712 non-null    uint8  \n",
      " 12  Q            712 non-null    uint8  \n",
      " 13  S            712 non-null    uint8  \n",
      "dtypes: float64(2), int64(4), uint8(8)\n",
      "memory usage: 44.5 KB\n"
     ]
    }
   ],
   "source": [
    "df.info()"
   ]
  },
  {
   "cell_type": "code",
   "execution_count": 23,
   "id": "bd19135f",
   "metadata": {},
   "outputs": [],
   "source": [
    "# Converting the Dataframe to Numpy"
   ]
  },
  {
   "cell_type": "code",
   "execution_count": 24,
   "id": "221ca27a",
   "metadata": {},
   "outputs": [],
   "source": [
    "# Now that we have converted all the data to numeric, its time for preparing the data for machine learning models. This is where \n",
    "# scikit and numpy come into play:\n",
    "# X = Input set with 14 attributes\n",
    "# y = Small y Output, in this case ‘Survived’"
   ]
  },
  {
   "cell_type": "code",
   "execution_count": 25,
   "id": "305e5a88",
   "metadata": {},
   "outputs": [],
   "source": [
    "X = df.values\n",
    "Y = df['Survived'].values"
   ]
  },
  {
   "cell_type": "code",
   "execution_count": 26,
   "id": "d49e26d4",
   "metadata": {},
   "outputs": [
    {
     "ename": "NameError",
     "evalue": "name 'np' is not defined",
     "output_type": "error",
     "traceback": [
      "\u001b[1;31m---------------------------------------------------------------------------\u001b[0m",
      "\u001b[1;31mNameError\u001b[0m                                 Traceback (most recent call last)",
      "\u001b[1;32m<ipython-input-26-927451f6a1fa>\u001b[0m in \u001b[0;36m<module>\u001b[1;34m\u001b[0m\n\u001b[1;32m----> 1\u001b[1;33m \u001b[0mX\u001b[0m \u001b[1;33m=\u001b[0m \u001b[0mnp\u001b[0m\u001b[1;33m.\u001b[0m\u001b[0mdelete\u001b[0m\u001b[1;33m(\u001b[0m\u001b[0mX\u001b[0m\u001b[1;33m,\u001b[0m \u001b[1;36m1\u001b[0m\u001b[1;33m,\u001b[0m \u001b[0maxis\u001b[0m\u001b[1;33m=\u001b[0m\u001b[1;36m1\u001b[0m\u001b[1;33m)\u001b[0m\u001b[1;33m\u001b[0m\u001b[1;33m\u001b[0m\u001b[0m\n\u001b[0m",
      "\u001b[1;31mNameError\u001b[0m: name 'np' is not defined"
     ]
    }
   ],
   "source": [
    "X = np.delete(X, 1, axis=1)"
   ]
  },
  {
   "cell_type": "code",
   "execution_count": 27,
   "id": "d87af6e1",
   "metadata": {},
   "outputs": [],
   "source": [
    "import numpy as np"
   ]
  },
  {
   "cell_type": "code",
   "execution_count": 28,
   "id": "693016d3",
   "metadata": {},
   "outputs": [],
   "source": [
    "X = np.delete(X, 1, axis=1)"
   ]
  },
  {
   "cell_type": "code",
   "execution_count": 29,
   "id": "05de7bae",
   "metadata": {},
   "outputs": [],
   "source": [
    "# X had still Survived values in it, which should not be there. So we drop in numpy column which is the 1st column."
   ]
  },
  {
   "cell_type": "code",
   "execution_count": 30,
   "id": "423927f4",
   "metadata": {},
   "outputs": [],
   "source": [
    "# Now that we are ready with X and y, lets split the dataset for 70% Training and 30% test set using scikit model_selection"
   ]
  },
  {
   "cell_type": "code",
   "execution_count": 31,
   "id": "8bf3e2d7",
   "metadata": {},
   "outputs": [],
   "source": [
    "from sklearn.model_selection import train_test_split\n",
    "X_train, X_test, Y_train, Y_test = train_test_split(X, Y, test_size=0.3, random_state=0)"
   ]
  },
  {
   "cell_type": "code",
   "execution_count": null,
   "id": "88a0391d",
   "metadata": {},
   "outputs": [],
   "source": []
  }
 ],
 "metadata": {
  "kernelspec": {
   "display_name": "Python 3",
   "language": "python",
   "name": "python3"
  },
  "language_info": {
   "codemirror_mode": {
    "name": "ipython",
    "version": 3
   },
   "file_extension": ".py",
   "mimetype": "text/x-python",
   "name": "python",
   "nbconvert_exporter": "python",
   "pygments_lexer": "ipython3",
   "version": "3.8.8"
  }
 },
 "nbformat": 4,
 "nbformat_minor": 5
}
