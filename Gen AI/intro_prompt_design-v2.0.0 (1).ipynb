{
 "cells": [
  {
   "cell_type": "code",
   "execution_count": 1,
   "metadata": {
    "id": "ur8xi4C7S06n",
    "tags": []
   },
   "outputs": [],
   "source": [
    "# Copyright 2025 Google LLC\n",
    "#\n",
    "# Licensed under the Apache License, Version 2.0 (the \"License\");\n",
    "# you may not use this file except in compliance with the License.\n",
    "# You may obtain a copy of the License at\n",
    "#\n",
    "#     https://www.apache.org/licenses/LICENSE-2.0\n",
    "#\n",
    "# Unless required by applicable law or agreed to in writing, software\n",
    "# distributed under the License is distributed on an \"AS IS\" BASIS,\n",
    "# WITHOUT WARRANTIES OR CONDITIONS OF ANY KIND, either express or implied.\n",
    "# See the License for the specific language governing permissions and\n",
    "# limitations under the License."
   ]
  },
  {
   "cell_type": "markdown",
   "metadata": {
    "id": "JAPoU8Sm5E6e"
   },
   "source": [
    "# Prompt Design - Best Practices\n",
    "\n",
    "<table align=\"left\">\n",
    "  <td style=\"text-align: center\">\n",
    "    <a href=\"https://colab.research.google.com/github/GoogleCloudPlatform/generative-ai/blob/main/gemini/prompts/intro_prompt_design.ipynb\">\n",
    "      <img width=\"32px\" src=\"https://www.gstatic.com/pantheon/images/bigquery/welcome_page/colab-logo.svg\" alt=\"Google Colaboratory logo\"><br> Open in Colab\n",
    "    </a>\n",
    "  </td>\n",
    "  <td style=\"text-align: center\">\n",
    "    <a href=\"https://console.cloud.google.com/vertex-ai/colab/import/https:%2F%2Fraw.githubusercontent.com%2FGoogleCloudPlatform%2Fgenerative-ai%2Fmain%2Fgemini%2Fprompts%2Fintro_prompt_design.ipynb\">\n",
    "      <img width=\"32px\" src=\"https://lh3.googleusercontent.com/JmcxdQi-qOpctIvWKgPtrzZdJJK-J3sWE1RsfjZNwshCFgE_9fULcNpuXYTilIR2hjwN\" alt=\"Google Cloud Colab Enterprise logo\"><br> Open in Colab Enterprise\n",
    "    </a>\n",
    "  </td>\n",
    "  <td style=\"text-align: center\">\n",
    "    <a href=\"https://console.cloud.google.com/vertex-ai/workbench/deploy-notebook?download_url=https://raw.githubusercontent.com/GoogleCloudPlatform/generative-ai/main/gemini/prompts/intro_prompt_design.ipynb\">\n",
    "      <img src=\"https://www.gstatic.com/images/branding/gcpiconscolors/vertexai/v1/32px.svg\" alt=\"Vertex AI logo\"><br> Open in Workbench\n",
    "    </a>\n",
    "  </td>\n",
    "  <td style=\"text-align: center\">\n",
    "    <a href=\"https://github.com/GoogleCloudPlatform/generative-ai/blob/main/gemini/prompts/intro_prompt_design.ipynb\">\n",
    "      <img width=\"32px\" src=\"https://www.svgrepo.com/download/217753/github.svg\" alt=\"GitHub logo\"><br> View on GitHub\n",
    "    </a>\n",
    "  </td>\n",
    "  <td style=\"text-align: center\">\n",
    "    <a href=\"https://goo.gle/4fWHlze\">\n",
    "      <img width=\"32px\" src=\"https://cdn.qwiklabs.com/assets/gcp_cloud-e3a77215f0b8bfa9b3f611c0d2208c7e8708ed31.svg\" alt=\"Google Cloud logo\"><br> Open in  Cloud Skills Boost\n",
    "    </a>\n",
    "  </td>\n",
    "</table>\n",
    "\n",
    "<div style=\"clear: both;\"></div>\n",
    "\n",
    "<b>Share to:</b>\n",
    "\n",
    "<a href=\"https://www.linkedin.com/sharing/share-offsite/?url=https%3A//github.com/GoogleCloudPlatform/generative-ai/blob/main/gemini/prompts/intro_prompt_design.ipynb\" target=\"_blank\">\n",
    "  <img width=\"20px\" src=\"https://upload.wikimedia.org/wikipedia/commons/8/81/LinkedIn_icon.svg\" alt=\"LinkedIn logo\">\n",
    "</a>\n",
    "<a href=\"https://bsky.app/intent/compose?text=https%3A//github.com/GoogleCloudPlatform/generative-ai/blob/main/gemini/prompts/intro_prompt_design.ipynb\" target=\"_blank\">\n",
    "  <img width=\"20px\" src=\"https://upload.wikimedia.org/wikipedia/commons/7/7a/Bluesky_Logo.svg\" alt=\"Bluesky logo\">\n",
    "</a>\n",
    "<a href=\"https://twitter.com/intent/tweet?url=https%3A//github.com/GoogleCloudPlatform/generative-ai/blob/main/gemini/prompts/intro_prompt_design.ipynb\" target=\"_blank\">\n",
    "  <img width=\"20px\" src=\"https://upload.wikimedia.org/wikipedia/commons/5/5a/X_icon_2.svg\" alt=\"X logo\">\n",
    "</a>\n",
    "<a href=\"https://reddit.com/submit?url=https%3A//github.com/GoogleCloudPlatform/generative-ai/blob/main/gemini/prompts/intro_prompt_design.ipynb\" target=\"_blank\">\n",
    "  <img width=\"20px\" src=\"https://redditinc.com/hubfs/Reddit%20Inc/Brand/Reddit_Logo.png\" alt=\"Reddit logo\">\n",
    "</a>\n",
    "<a href=\"https://www.facebook.com/sharer/sharer.php?u=https%3A//github.com/GoogleCloudPlatform/generative-ai/blob/main/gemini/prompts/intro_prompt_design.ipynb\" target=\"_blank\">\n",
    "  <img width=\"20px\" src=\"https://upload.wikimedia.org/wikipedia/commons/5/51/Facebook_f_logo_%282019%29.svg\" alt=\"Facebook logo\">\n",
    "</a>"
   ]
  },
  {
   "cell_type": "markdown",
   "metadata": {
    "id": "84f0f73a0f76"
   },
   "source": [
    "| Authors |\n",
    "| --- |\n",
    "| [Polong Lin](https://github.com/polong-lin) |\n",
    "| [Karl Weinmeister](https://github.com/kweinmeister) |"
   ]
  },
  {
   "cell_type": "markdown",
   "metadata": {
    "id": "tvgnzT1CKxrO"
   },
   "source": [
    "## Overview\n",
    "\n",
    "This notebook covers the essentials of prompt engineering, including some best practices.\n",
    "\n",
    "Learn more about prompt design in the [official documentation](https://cloud.google.com/vertex-ai/docs/generative-ai/text/text-overview).\n",
    "\n",
    "In this notebook, you learn best practices around prompt engineering -- how to design prompts to improve the quality of your responses.\n",
    "\n",
    "This notebook covers the following best practices for prompt engineering:\n",
    "\n",
    "- Be concise\n",
    "- Be specific and well-defined\n",
    "- Ask one task at a time\n",
    "- Turn generative tasks into classification tasks\n",
    "- Improve response quality by including examples"
   ]
  },
  {
   "cell_type": "markdown",
   "metadata": {
    "id": "61RBz8LLbxCR"
   },
   "source": [
    "## Getting Started"
   ]
  },
  {
   "cell_type": "markdown",
   "metadata": {
    "id": "No17Cw5hgx12"
   },
   "source": [
    "### Install Google Gen AI SDK\n"
   ]
  },
  {
   "cell_type": "code",
   "execution_count": 2,
   "metadata": {
    "id": "tFy3H3aPgx12",
    "tags": []
   },
   "outputs": [
    {
     "name": "stdout",
     "output_type": "stream",
     "text": [
      "Note: you may need to restart the kernel to use updated packages.\n"
     ]
    }
   ],
   "source": [
    "%pip install --upgrade --quiet google-genai"
   ]
  },
  {
   "cell_type": "markdown",
   "metadata": {
    "id": "06489bd14f16"
   },
   "source": [
    "### Import libraries\n"
   ]
  },
  {
   "cell_type": "code",
   "execution_count": 3,
   "metadata": {
    "id": "154137022fb6",
    "tags": []
   },
   "outputs": [],
   "source": [
    "from IPython.display import Markdown, display\n",
    "from google import genai\n",
    "from google.genai.types import GenerateContentConfig"
   ]
  },
  {
   "cell_type": "markdown",
   "metadata": {
    "id": "DF4l8DTdWgPY"
   },
   "source": [
    "### Set Google Cloud project information and create client\n",
    "\n",
    "To get started using Vertex AI, you must have an existing Google Cloud project and [enable the Vertex AI API](https://console.cloud.google.com/flows/enableapi?apiid=aiplatform.googleapis.com).\n",
    "\n",
    "Learn more about [setting up a project and a development environment](https://cloud.google.com/vertex-ai/docs/start/cloud-environment)."
   ]
  },
  {
   "cell_type": "code",
   "execution_count": 4,
   "metadata": {
    "id": "Nqwi-5ufWp_B",
    "tags": []
   },
   "outputs": [],
   "source": [
    "import os\n",
    "\n",
    "PROJECT_ID = \"qwiklabs-gcp-00-d8c7e57681fd\"  # @param {type: \"string\", placeholder: \"[your-project-id]\", isTemplate: true}\n",
    "if not PROJECT_ID or PROJECT_ID == \"qwiklabs-gcp-00-d8c7e57681fd\":\n",
    "    PROJECT_ID = str(os.environ.get(\"GOOGLE_CLOUD_PROJECT\"))\n",
    "\n",
    "LOCATION = \"europe-west4\""
   ]
  },
  {
   "cell_type": "code",
   "execution_count": 5,
   "metadata": {
    "id": "QqRWdPGmW3NJ",
    "tags": []
   },
   "outputs": [],
   "source": [
    "client = genai.Client(vertexai=True, project=PROJECT_ID, location=LOCATION)"
   ]
  },
  {
   "cell_type": "markdown",
   "metadata": {
    "id": "OnFPpCRtXRl4"
   },
   "source": [
    "### Load model\n",
    "\n",
    "Learn more about all [Gemini models on Vertex AI](https://cloud.google.com/vertex-ai/generative-ai/docs/learn/models#gemini-models)."
   ]
  },
  {
   "cell_type": "code",
   "execution_count": 6,
   "metadata": {
    "id": "IQYu_9SvXQah",
    "tags": []
   },
   "outputs": [],
   "source": [
    "MODEL_ID = \"gemini-2.5-flash\"  # @param {type: \"string\"}"
   ]
  },
  {
   "cell_type": "markdown",
   "metadata": {
    "id": "cVOtUNJ5X0PY"
   },
   "source": [
    "## Prompt engineering best practices"
   ]
  },
  {
   "cell_type": "markdown",
   "metadata": {
    "id": "uv_e0fEPX60q"
   },
   "source": [
    "Prompt engineering is all about how to design your prompts so that the response is what you were indeed hoping to see.\n",
    "\n",
    "The idea of using \"unfancy\" prompts is to minimize the noise in your prompt to reduce the possibility of the LLM misinterpreting the intent of the prompt. Below are a few guidelines on how to engineer \"unfancy\" prompts.\n",
    "\n",
    "In this section, you'll cover the following best practices when engineering prompts:\n",
    "\n",
    "* Be concise\n",
    "* Be specific, and well-defined\n",
    "* Ask one task at a time\n",
    "* Improve response quality by including examples\n",
    "* Turn generative tasks to classification tasks to improve safety"
   ]
  },
  {
   "cell_type": "markdown",
   "metadata": {
    "id": "0pY4XX0OX9_Y"
   },
   "source": [
    "### Be concise"
   ]
  },
  {
   "cell_type": "markdown",
   "metadata": {
    "id": "xlRpxyxGYA1K"
   },
   "source": [
    "🛑 Not recommended. The prompt below is unnecessarily verbose."
   ]
  },
  {
   "cell_type": "code",
   "execution_count": 7,
   "metadata": {
    "id": "YKV4G-CfXdbi",
    "tags": []
   },
   "outputs": [
    {
     "data": {
      "text/markdown": [
       "That's a lovely niche! Dried flowers evoke a sense of timelessness, rustic charm, sustainability, and unique artistry. Here are some name ideas, categorized by their vibe:\n",
       "\n",
       "**Evocative & Poetic:**\n",
       "*   **Everbloom & Co.** (Suggests lasting beauty)\n",
       "*   **The Timeless Bloom** (Directly conveys longevity)\n",
       "*   **Petal & Preserve** (Highlights the craft of preservation)\n",
       "*   **The Enduring Petal** (Focuses on durability)\n",
       "*   **Memory Blooms** (Connects to nostalgia and keepsakes)\n",
       "*   **Heirloom Blooms** (Implies vintage, cherished quality)\n",
       "*   **Quiet Bloom Co.** (Suggests a subtle, understated beauty)\n",
       "*   **Dusty Rose Botanicals** (Evokes the classic dried flower color)\n",
       "*   **Sylvan Blooms** (Suggests woodland, natural beauty)\n",
       "*   **Fable & Flora** (Whimsical, story-like)\n",
       "\n",
       "**Modern & Chic:**\n",
       "*   **Bloom & Dry** (Simple, to the point)\n",
       "*   **Everbloom Atelier** (Adds a touch of craftsmanship)\n",
       "*   **The Dried Edit** (Suggests curation and style)\n",
       "*   **Terra Bloom** (Earth-inspired, natural)\n",
       "*   **Stasis Flora** (Sophisticated, hints at preserved state)\n",
       "*   **The Unfading Co.** (Modern, emphasizes longevity)\n",
       "*   **Petal Provisions** (Sounds curated, like a specialty shop)\n",
       "\n",
       "**Rustic & Earthy:**\n",
       "*   **Root & Bloom (Dried)** (Connects to nature's cycle)\n",
       "*   **The Earthbound Bouquet** (Grounded, natural feel)\n",
       "*   **Wild Dried Blooms** (Suggests natural, untamed beauty)\n",
       "*   **The Foraged Bloom** (Implies natural collection)\n",
       "*   **Sun-Kissed Stems** (Evokes the drying process)\n",
       "\n",
       "**Direct & Descriptive (but still elegant):**\n",
       "*   **Everlasting Bouquets**\n",
       "*   **The Preserved Petal Shop**\n",
       "*   **Timeless Floral Designs**\n",
       "*   **Dried Bloom & Co.**\n",
       "*   **The Forever Flower Shop**\n",
       "\n",
       "**Tips for Choosing:**\n",
       "1.  **Say it Out Loud:** Does it roll off the tongue?\n",
       "2.  **Check Availability:** Is the name available as a domain, social media handle, and business registration?\n",
       "3.  **Target Audience:** Does the name appeal to who you want to attract?\n",
       "4.  **Brand Personality:** Does it match the overall feel and aesthetic you envision for your shop?\n",
       "5.  **Logo Potential:** Can you easily visualize a logo or branding around the name?\n",
       "\n",
       "Good luck with your new venture!"
      ],
      "text/plain": [
       "<IPython.core.display.Markdown object>"
      ]
     },
     "metadata": {},
     "output_type": "display_data"
    }
   ],
   "source": [
    "prompt = \"What do you think could be a good name for a flower shop that specializes in selling bouquets of dried flowers more than fresh flowers?\"\n",
    "\n",
    "response = client.models.generate_content(model=MODEL_ID, contents=prompt)\n",
    "display(Markdown(response.text))"
   ]
  },
  {
   "cell_type": "markdown",
   "metadata": {
    "id": "YrJexRHJYnmC"
   },
   "source": [
    "✅ Recommended. The prompt below is to the point and concise."
   ]
  },
  {
   "cell_type": "code",
   "execution_count": 8,
   "metadata": {
    "id": "VHetn9lCYrXB",
    "tags": []
   },
   "outputs": [
    {
     "data": {
      "text/markdown": [
       "Here are some name suggestions for a flower shop specializing in dried flower bouquets, categorized by their vibe:\n",
       "\n",
       "**Evocative & Poetic:**\n",
       "\n",
       "1.  **Whispering Petals:** Suggests delicate, quiet beauty and preserved moments.\n",
       "2.  **Faded Flora:** Captures the unique, muted beauty of dried arrangements.\n",
       "3.  **Sepia & Stem:** Evokes a vintage, timeless feel, like an old photograph.\n",
       "4.  **Ember & Earth Blooms:** Implies warmth, natural tones, and grounded beauty.\n",
       "5.  **Moonpetal & Moss:** A mystical, earthy, and serene choice.\n",
       "6.  **The Timeless Twig:** Emphasizes longevity and natural elements.\n",
       "7.  **Memory Blooms:** Highlights the keepsake and nostalgic aspect.\n",
       "8.  **Echoing Petals:** Suggests enduring beauty and stories carried through time.\n",
       "9.  **Willow & Wisp:** A delicate, slightly ethereal, and natural name.\n",
       "10. **Dusty Rose Atelier:** \"Dusty Rose\" is a classic dried flower color, \"Atelier\" suggests artistry.\n",
       "\n",
       "**Direct & Elegant:**\n",
       "\n",
       "11. **Everbloom Co.:** Simple, elegant, and clearly states the enduring nature.\n",
       "12. **Preserved Petals:** Straightforward and descriptive.\n",
       "13. **The Everlast Bouquet:** Highlights the long-lasting quality of the product.\n",
       "14. **Terra Bloom:** \"Terra\" means earth, connecting to natural, dried elements.\n",
       "15. **Flora Dried:** Classic, sophisticated, and to the point.\n",
       "16. **The Bloom Collective:** Implies a curated collection of beautiful dried arrangements.\n",
       "17. **Petal & Preserve:** Simple, charming, and descriptive.\n",
       "\n",
       "**Rustic & Earthy:**\n",
       "\n",
       "18. **Root & Bloom:** Suggests a natural, grounded aesthetic.\n",
       "19. **Thistle & Twine:** Common elements associated with rustic, dried arrangements.\n",
       "20. **Clay & Petal:** Evokes natural textures and earthy tones.\n",
       "21. **The Gathered Stem:** Implies natural harvesting and curated bouquets.\n",
       "22. **Field & Forage:** Suggests a wild, natural, and sustainable approach.\n",
       "\n",
       "**Chic & Modern:**\n",
       "\n",
       "23. **Bloom & Balance:** Modern, simple, and hints at harmony in design.\n",
       "24. **The Curated Bloom:** Suggests a highly selective and stylish offering.\n",
       "25. **Arid Bloom:** \"Arid\" directly relates to dried, but with a sleek, modern twist.\n",
       "26. **Stems & Story:** Modern feel with a poetic touch, emphasizing the narrative of each bouquet.\n",
       "27. **Botanical Preserve:** Sophisticated and clear.\n",
       "\n",
       "**Tips for Choosing:**\n",
       "\n",
       "*   **Say it out loud:** Does it roll off the tongue?\n",
       "*   **Check availability:** Is the name available as a domain name, social media handle, and business registration?\n",
       "*   **Consider your target audience:** Does the name appeal to them?\n",
       "*   **Reflect your brand:** Does it match the aesthetic and feel you want for your shop?\n",
       "\n",
       "Good luck!"
      ],
      "text/plain": [
       "<IPython.core.display.Markdown object>"
      ]
     },
     "metadata": {},
     "output_type": "display_data"
    }
   ],
   "source": [
    "prompt = \"Suggest a name for a flower shop that sells bouquets of dried flowers\"\n",
    "\n",
    "response = client.models.generate_content(model=MODEL_ID, contents=prompt)\n",
    "display(Markdown(response.text))"
   ]
  },
  {
   "cell_type": "markdown",
   "metadata": {
    "id": "eXTAvdOHY0OC"
   },
   "source": [
    "### Be specific, and well-defined"
   ]
  },
  {
   "cell_type": "markdown",
   "metadata": {
    "id": "FTH4GEIgY1dp"
   },
   "source": [
    "Suppose that you want to brainstorm creative ways to describe Earth."
   ]
  },
  {
   "cell_type": "markdown",
   "metadata": {
    "id": "o5BmXBiGY4KC"
   },
   "source": [
    "🛑 The prompt below might be a bit too generic (which is certainly OK if you'd like to ask a generic question!)"
   ]
  },
  {
   "cell_type": "code",
   "execution_count": 9,
   "metadata": {
    "id": "eHBaMvv7Y6mR",
    "tags": []
   },
   "outputs": [
    {
     "data": {
      "text/markdown": [
       "Earth, our remarkable home, is the third planet from the Sun and the only known celestial body to harbor life. It's a dynamic, vibrant, and incredibly complex world, often called the \"Blue Planet\" due to the abundance of water on its surface.\n",
       "\n",
       "Here's a closer look at what makes Earth so unique:\n",
       "\n",
       "1.  **Location and Orbit:**\n",
       "    *   **Third Planet from the Sun:** This places it perfectly within the \"Goldilocks Zone\" – not too hot, not too cold – allowing for liquid water to exist, which is crucial for life.\n",
       "    *   **Elliptical Orbit:** Earth orbits the Sun in an elliptical path, taking approximately 365.25 days to complete one revolution, defining our year.\n",
       "    *   **Axial Tilt:** Earth's axis is tilted at about 23.5 degrees relative to its orbital plane. This tilt is responsible for the seasons we experience.\n",
       "\n",
       "2.  **Physical Characteristics:**\n",
       "    *   **Shape and Size:** Earth is an \"oblate spheroid,\" meaning it's slightly flattened at the poles and bulges at the equator due to its rotation. It's the fifth-largest planet in our solar system.\n",
       "    *   **Internal Structure:** Earth has a layered structure:\n",
       "        *   **Crust:** The thin, outermost solid layer where we live.\n",
       "        *   **Mantle:** A thick, semi-solid layer beneath the crust, capable of slow convection currents.\n",
       "        *   **Outer Core:** A liquid layer of iron and nickel, responsible for generating Earth's magnetic field.\n",
       "        *   **Inner Core:** A solid ball of iron and nickel, incredibly hot and under immense pressure.\n",
       "    *   **Atmosphere:** A protective blanket of gases (primarily nitrogen ~78% and oxygen ~21%, with trace amounts of argon, carbon dioxide, etc.) that surrounds the planet. It provides breathable air, regulates temperature, protects from harmful solar radiation, and is responsible for weather phenomena.\n",
       "    *   **Magnetosphere:** Generated by the molten outer core, Earth's magnetic field extends far into space, forming an invisible shield that deflects harmful solar wind and cosmic radiation. This protection is vital for life.\n",
       "\n",
       "3.  **Surface Features and Water:**\n",
       "    *   **\"Blue Planet\":** Approximately 71% of Earth's surface is covered by water, primarily in the form of oceans, but also includes seas, lakes, rivers, and glaciers. This vast amount of liquid water is a defining feature.\n",
       "    *   **Continents and Landforms:** The remaining 29% consists of seven major continents and countless islands, featuring an incredible variety of landforms: towering mountains (like the Himalayas), vast deserts (Sahara), lush forests (Amazon), fertile plains, deep valleys, and active volcanoes.\n",
       "    *   **Plate Tectonics:** The Earth's crust is broken into large pieces called tectonic plates, which are constantly moving, albeit slowly. This movement causes earthquakes, volcanic activity, and the formation of mountain ranges and ocean trenches.\n",
       "    *   **Water Cycle:** Water constantly circulates through evaporation, condensation, precipitation, and runoff, playing a critical role in shaping the landscape and sustaining life.\n",
       "\n",
       "4.  **Life and Biodiversity:**\n",
       "    *   **Abundance of Life:** Earth is home to an astounding diversity of life, from microscopic bacteria to colossal whales. Life exists in nearly every corner of the planet, from the deepest oceans to the highest mountains.\n",
       "    *   **Ecosystems:** Life forms interact with each other and their environment to form intricate ecosystems, which are interconnected and dependent on one another.\n",
       "    *   **Humanity:** Humans have emerged as the dominant species, with a profound impact on the planet, both positive and negative. We have developed complex societies, technologies, and cultures, but also face significant environmental challenges like climate change, pollution, and biodiversity loss.\n",
       "\n",
       "5.  **Dynamic Planet:**\n",
       "    *   Earth is not static; it's constantly evolving. Geological processes reshape its surface, atmospheric currents drive weather, and biological processes continuously cycle nutrients and energy.\n",
       "    *   It experiences daily rotation (creating day and night), seasonal changes due to its tilt, and long-term climate variations.\n",
       "\n",
       "In essence, Earth is a precious and unique celestial body, a \"living entity\" with a delicate balance of physical, chemical, and biological processes that have allowed life to flourish for billions of years. Understanding and protecting it is one of humanity's most crucial responsibilities."
      ],
      "text/plain": [
       "<IPython.core.display.Markdown object>"
      ]
     },
     "metadata": {},
     "output_type": "display_data"
    }
   ],
   "source": [
    "prompt = \"Tell me about Earth\"\n",
    "\n",
    "response = client.models.generate_content(model=MODEL_ID, contents=prompt)\n",
    "display(Markdown(response.text))"
   ]
  },
  {
   "cell_type": "markdown",
   "metadata": {
    "id": "4iyvEbteZnFL"
   },
   "source": [
    "✅ Recommended. The prompt below is specific and well-defined."
   ]
  },
  {
   "cell_type": "code",
   "execution_count": 10,
   "metadata": {
    "id": "JQ80z8urZnne",
    "tags": []
   },
   "outputs": [
    {
     "data": {
      "text/markdown": [
       "Earth truly stands out in our solar system, and possibly in the entire galaxy, due to a unique confluence of factors that have allowed for the flourishing of complex life. Here's a list of ways Earth is unique compared to other known planets:\n",
       "\n",
       "1.  **Abundant Liquid Water on its Surface:** While other celestial bodies have ice (e.g., Mars, Europa) or water vapor, Earth is the only known planet with vast, stable bodies of liquid water (oceans, lakes, rivers) on its surface. This is fundamental for life as we know it.\n",
       "\n",
       "2.  **Location in the Habitable (Goldilocks) Zone:** Earth orbits the Sun at just the right distance – not too hot, not too cold – allowing liquid water to exist stably on its surface. Other planets are either too close (Venus, Mercury) or too far (Mars, outer planets) for this to happen naturally and persistently.\n",
       "\n",
       "3.  **Oxygen-Rich Atmosphere:** Earth's atmosphere is unique in its composition, particularly its high percentage (around 21%) of free oxygen. This oxygen is largely a product of photosynthetic life over billions of years, creating a positive feedback loop for complex, oxygen-breathing organisms. Other planets have atmospheres dominated by carbon dioxide, nitrogen, or hydrogen/helium, or lack significant atmospheres entirely.\n",
       "\n",
       "4.  **Active Plate Tectonics:** Earth is the only known planet in our solar system with active, large-scale plate tectonics. This process constantly recycles the Earth's crust, drives volcanic activity, forms mountains, and is crucial for regulating the planet's temperature and carbon cycle over geological timescales, which in turn helps stabilize the climate over millions of years.\n",
       "\n",
       "5.  **Strong Global Magnetic Field (Magnetosphere):** Earth has a powerful magnetic field generated by its molten outer core. This magnetosphere acts as a shield, deflecting harmful solar wind particles and cosmic rays that would otherwise strip away the atmosphere and expose the surface to lethal radiation, making it uninhabitable.\n",
       "\n",
       "6.  **Large, Stabilizing Moon:** Earth has an unusually large moon relative to its size, which is thought to have formed from a giant impact. This large Moon exerts a significant gravitational pull that stabilizes Earth's axial tilt, preventing dramatic wobbles that could lead to extreme and unpredictable climate changes, thus promoting long-term environmental stability conducive to evolution. It also creates tides, which may have played a role in the emergence of life from the oceans.\n",
       "\n",
       "7.  **Presence of Diverse and Abundant Life (Biosphere):** From microscopic organisms to vast ecosystems and complex multicellular life, Earth is teeming with life. This biosphere actively interacts with and modifies the planet's geology, atmosphere, and oceans, creating a dynamic system unparalleled elsewhere in our solar system.\n",
       "\n",
       "8.  **Presence of Intelligent, Technological Civilization:** As far as we know, Earth is the only planet where intelligent life has evolved to develop complex societies, science, and technology capable of understanding the universe and exploring other celestial bodies.\n",
       "\n",
       "These factors, in their complex interplay, make Earth a truly remarkable and unique world."
      ],
      "text/plain": [
       "<IPython.core.display.Markdown object>"
      ]
     },
     "metadata": {},
     "output_type": "display_data"
    }
   ],
   "source": [
    "prompt = \"Generate a list of ways that makes Earth unique compared to other planets\"\n",
    "\n",
    "response = client.models.generate_content(model=MODEL_ID, contents=prompt)\n",
    "display(Markdown(response.text))"
   ]
  },
  {
   "cell_type": "markdown",
   "metadata": {
    "id": "R5kmfZYHZsJ7"
   },
   "source": [
    "### Ask one task at a time"
   ]
  },
  {
   "cell_type": "markdown",
   "metadata": {
    "id": "rsAezxeYZuUN"
   },
   "source": [
    "🛑 Not recommended. The prompt below has two parts to the question that could be asked separately."
   ]
  },
  {
   "cell_type": "code",
   "execution_count": 11,
   "metadata": {
    "id": "ElywPXpuZtWf",
    "tags": []
   },
   "outputs": [
    {
     "data": {
      "text/markdown": [
       "Let's break down both of your excellent questions!\n",
       "\n",
       "---\n",
       "\n",
       "## Best Method of Boiling Water\n",
       "\n",
       "The \"best\" method often depends on your priorities (speed, energy efficiency, volume, convenience). For most household uses, the **electric kettle** is generally the winner.\n",
       "\n",
       "**1. Electric Kettle (Generally the Best)**\n",
       "*   **Why it's great:**\n",
       "    *   **Speed:** They are incredibly fast because they have a powerful heating element directly submerged in the water, transferring heat very efficiently.\n",
       "    *   **Energy Efficiency:** They are highly efficient. Almost all the energy goes directly into heating the water, with minimal heat loss to the surrounding air or a stovetop element. Most models automatically shut off when the water boils, preventing wasted energy.\n",
       "    *   **Convenience:** Simple to use, portable (within reach of an outlet), and safe with auto-shutoff features.\n",
       "    *   **Cost-Effective:** While there's an initial purchase cost, their energy efficiency can save money in the long run compared to some stovetop methods.\n",
       "\n",
       "**2. Stovetop (Good Alternative, especially for larger volumes)**\n",
       "*   **Methods:** Using a pot or a traditional stovetop kettle.\n",
       "*   **Why it's good:**\n",
       "    *   **Versatility:** You can boil any volume of water in any pot.\n",
       "    *   **No Special Appliance:** If you don't have an electric kettle, your stovetop is always an option.\n",
       "*   **Drawbacks compared to electric kettle:**\n",
       "    *   **Speed:** Generally slower, especially on electric coil stovetops, as heat transfer is less direct. Gas stoves are faster than electric stoves for boiling.\n",
       "    *   **Energy Efficiency:** Less efficient than an electric kettle. A lot of heat escapes into the air around the pot, and the stovetop burner itself heats up.\n",
       "    *   **Monitoring:** Requires manual monitoring to prevent boiling over.\n",
       "\n",
       "**3. Microwave (Not Recommended for Boiling)**\n",
       "*   **Why it's not recommended:**\n",
       "    *   **Safety Risk (Superheating):** Microwaves can heat water unevenly and create \"superheated\" water (water above its boiling point without actually bubbling). When disturbed (e.g., by adding a tea bag or moving the cup), this superheated water can suddenly erupt violently, causing severe burns.\n",
       "    *   **Efficiency:** Only practical for very small amounts of water.\n",
       "    *   **Taste:** Some people report a slightly \"flat\" taste to microwave-boiled water.\n",
       "\n",
       "---\n",
       "\n",
       "## Why is the Sky Blue?\n",
       "\n",
       "The blue color of the sky is due to a phenomenon called **Rayleigh Scattering**.\n",
       "\n",
       "Here's a breakdown:\n",
       "\n",
       "1.  **Sunlight is White Light:** Sunlight, which appears white to us, is actually composed of all the colors of the rainbow (red, orange, yellow, green, blue, indigo, violet). Each color corresponds to a different wavelength of light.\n",
       "    *   **Red light** has longer wavelengths.\n",
       "    *   **Blue and violet light** have shorter wavelengths.\n",
       "\n",
       "2.  **Earth's Atmosphere:** Our planet is surrounded by an atmosphere made up of tiny molecules of gases, primarily nitrogen (N2) and oxygen (O2), along with other trace gases and small particles (dust, water vapor).\n",
       "\n",
       "3.  **Rayleigh Scattering:**\n",
       "    *   When sunlight enters Earth's atmosphere, it encounters these tiny gas molecules.\n",
       "    *   **Rayleigh scattering occurs when light interacts with particles that are much smaller than the wavelength of the light itself.** This is exactly the case with atmospheric gas molecules and visible light.\n",
       "    *   **Crucially, shorter wavelengths of light (like blue and violet) are scattered much more effectively than longer wavelengths (like red and yellow).** Blue light is scattered about 10 times more than red light!\n",
       "\n",
       "4.  **Why We See Blue:**\n",
       "    *   As sunlight travels through the atmosphere, the blue and violet light gets scattered in all directions by the nitrogen and oxygen molecules.\n",
       "    *   Since blue light is scattered so much more intensely, it reaches our eyes from all parts of the sky, making the sky appear blue.\n",
       "    *   Even though violet light scatters even more than blue, our eyes are more sensitive to blue light, and some of the violet is absorbed higher in the atmosphere, so we perceive the overall color as blue.\n",
       "\n",
       "5.  **What About Other Colors (Sunsets/Sunrises)?**\n",
       "    *   When the sun is directly overhead, its light has traveled the shortest distance through the atmosphere. Most of the blue light has been scattered away, but enough of the other colors still reach us directly.\n",
       "    *   At **sunrise or sunset**, the sun's light has to travel through a much thicker layer of the atmosphere to reach our eyes. By the time the light gets to us, almost all of the blue and violet light has been scattered away. This leaves primarily the longer wavelengths—red, orange, and yellow—to pass directly through, making the sun and the clouds near it appear these warm colors."
      ],
      "text/plain": [
       "<IPython.core.display.Markdown object>"
      ]
     },
     "metadata": {},
     "output_type": "display_data"
    }
   ],
   "source": [
    "prompt = \"What's the best method of boiling water and why is the sky blue?\"\n",
    "\n",
    "response = client.models.generate_content(model=MODEL_ID, contents=prompt)\n",
    "display(Markdown(response.text))"
   ]
  },
  {
   "cell_type": "markdown",
   "metadata": {
    "id": "ejzahazBZ8vk"
   },
   "source": [
    "✅ Recommended. The prompts below asks one task a time."
   ]
  },
  {
   "cell_type": "code",
   "execution_count": 12,
   "metadata": {
    "id": "C5ckp2F0Z_Ba",
    "tags": []
   },
   "outputs": [
    {
     "data": {
      "text/markdown": [
       "The \"best\" method for boiling water really depends on your priorities: **speed, energy efficiency, convenience, and volume.**\n",
       "\n",
       "Here's a breakdown of common methods and their strengths:\n",
       "\n",
       "1.  **Electric Kettle (Overall Winner for Small-to-Medium Volumes)**\n",
       "    *   **Pros:**\n",
       "        *   **Fastest:** Especially for 1-2 liters. The heating element is directly submerged in the water, minimizing heat loss.\n",
       "        *   **Most Energy-Efficient:** Heats only the water, not the surrounding air or a large burner.\n",
       "        *   **Convenient:** Portable, often has auto shut-off when boiled, and cordless pouring.\n",
       "    *   **Cons:** Limited volume, requires an electrical outlet.\n",
       "    *   **Best for:** Tea, coffee, instant noodles, small amounts for cooking.\n",
       "\n",
       "2.  **Induction Stovetop (Fast & Efficient for All Volumes)**\n",
       "    *   **Pros:**\n",
       "        *   **Very Fast:** Rivals or even surpasses electric kettles for speed, especially for larger volumes.\n",
       "        *   **Highly Energy-Efficient:** Uses electromagnetic fields to directly heat the cookware, minimizing wasted heat.\n",
       "        *   **Precise Control:** Instant heat adjustments.\n",
       "    *   **Cons:** Requires induction-compatible cookware (magnetic bottom), higher initial cost for the stove.\n",
       "    *   **Best for:** Rapid boiling of any volume, from a cup to a large pot for pasta, if you have the setup.\n",
       "\n",
       "3.  **Gas Stovetop (Good All-Rounder)**\n",
       "    *   **Pros:**\n",
       "        *   **Fast:** High BTU burners can boil water quickly, especially larger volumes.\n",
       "        *   **Good Control:** Instant visual feedback for flame size.\n",
       "        *   **No Special Cookware:** Works with any stovetop-safe pot.\n",
       "    *   **Cons:** Less energy-efficient than electric kettles or induction (heat escapes around the pot), produces combustion byproducts.\n",
       "    *   **Best for:** General cooking, large volumes, situations where an electric kettle isn't available or sufficient.\n",
       "\n",
       "4.  **Electric Coil/Radiant Stovetop (Less Efficient)**\n",
       "    *   **Pros:** Common, no special cookware needed.\n",
       "    *   **Cons:**\n",
       "        *   **Slowest:** The element itself needs to heat up, then transfer heat to the pot.\n",
       "        *   **Least Energy-Efficient:** A lot of heat is lost to the air around the element and pot.\n",
       "    *   **Best for:** If it's your only option.\n",
       "\n",
       "5.  **Microwave (Only for Very Small Volumes, Use Caution)**\n",
       "    *   **Pros:** Convenient for a single mug, no stovetop needed.\n",
       "    *   **Cons:**\n",
       "        *   **Slow:** Especially for anything more than one cup.\n",
       "        *   **Uneven Heating:** Can create \"superheated\" water (water heated above its boiling point without actually bubbling), which can violently erupt when disturbed (e.g., adding a teabag).\n",
       "        *   Not suitable for large volumes or metal pots.\n",
       "    *   **Best for:** *Only* a single mug of water if you're in a hurry and don't have another option. Always add a non-metal stirring stick or wooden spoon to the mug before heating to prevent superheating, and let it sit for a moment after heating.\n",
       "\n",
       "---\n",
       "\n",
       "**General Tips for Efficient and Safe Boiling (Regardless of Method):**\n",
       "\n",
       "*   **Use a Lid:** This is the single most important tip for energy efficiency and speed. A lid traps heat and steam, significantly reducing boiling time and energy consumption.\n",
       "*   **Only Boil What You Need:** Don't fill a 2-liter kettle to boil water for one cup of tea.\n",
       "*   **Start with Cold Water (for drinking/cooking):** While hot tap water can boil faster, hot water from your tap might contain more dissolved minerals or impurities from your water heater or pipes. For consumption, cold water is generally safer.\n",
       "*   **Add Salt After Boiling (for cooking):** Salt actually raises the boiling point slightly and can slow down the boiling process. Add it to pasta water *after* it's already boiling.\n",
       "\n",
       "---\n",
       "\n",
       "**Conclusion:**\n",
       "\n",
       "For most households, the **electric kettle** is the \"best\" everyday method for its speed, energy efficiency, and convenience for typical volumes. If you cook large amounts frequently and have the option, an **induction stovetop** is unparalleled."
      ],
      "text/plain": [
       "<IPython.core.display.Markdown object>"
      ]
     },
     "metadata": {},
     "output_type": "display_data"
    }
   ],
   "source": [
    "prompt = \"What's the best method of boiling water?\"\n",
    "\n",
    "response = client.models.generate_content(model=MODEL_ID, contents=prompt)\n",
    "display(Markdown(response.text))"
   ]
  },
  {
   "cell_type": "code",
   "execution_count": 13,
   "metadata": {
    "id": "KwUzhud4aA89",
    "tags": []
   },
   "outputs": [
    {
     "data": {
      "text/markdown": [
       "The sky appears blue primarily due to a phenomenon called **Rayleigh scattering**. It's all about how sunlight interacts with the gases and tiny particles in Earth's atmosphere.\n",
       "\n",
       "Here's a breakdown:\n",
       "\n",
       "1.  **Sunlight is White Light (but made of colors):**\n",
       "    Sunlight, which appears white to our eyes, is actually composed of all the colors of the rainbow (red, orange, yellow, green, blue, indigo, violet). Each color corresponds to a different **wavelength** of light. Red light has the longest wavelength, and violet/blue light has the shortest.\n",
       "\n",
       "2.  **Earth's Atmosphere is Made of Tiny Particles:**\n",
       "    Our atmosphere is primarily made of tiny gas molecules, mainly nitrogen (about 78%) and oxygen (about 21%). These molecules are much, *much* smaller than the wavelengths of visible light.\n",
       "\n",
       "3.  **The Scattering Effect (Rayleigh Scattering):**\n",
       "    When sunlight enters the atmosphere, it bumps into these gas molecules. Instead of just passing through, the light gets **scattered** in all directions. This scattering is not uniform for all colors:\n",
       "    *   **Blue and violet light** have much shorter wavelengths. Because their wavelengths are similar in size to (or smaller than) the atmospheric molecules, they are scattered *much more efficiently* (about 10 times more efficiently than red light) in all directions.\n",
       "    *   **Red, orange, and yellow light** have longer wavelengths. These longer wavelengths are not scattered as much by the tiny molecules and tend to pass more directly through the atmosphere.\n",
       "\n",
       "4.  **Why We See Blue (and not Violet):**\n",
       "    While violet light actually scatters *even more* than blue light, our eyes are more sensitive to blue light. Also, there's slightly less violet light in the sun's spectrum to begin with. So, the *combination* of intense blue scattering and our eye's greater sensitivity to blue light results in us perceiving the sky as blue.\n",
       "\n",
       "5.  **The Rest of the Light:**\n",
       "    The longer wavelength colors (red, orange, yellow) are not scattered as much and tend to pass more directly through the atmosphere. This is why, when the sun is low on the horizon (sunrise/sunset), its light has to travel through *much more* atmosphere. Most of the blue light has already been scattered away, leaving the reds, oranges, and yellows to reach our eyes directly, creating those beautiful sunset colors.\n",
       "\n",
       "In essence: **Sunlight (all colors) + Tiny atmospheric molecules + More efficient scattering of short-wavelength blue light + Our eye's sensitivity to blue = A blue sky!**"
      ],
      "text/plain": [
       "<IPython.core.display.Markdown object>"
      ]
     },
     "metadata": {},
     "output_type": "display_data"
    }
   ],
   "source": [
    "prompt = \"Why is the sky blue?\"\n",
    "\n",
    "response = client.models.generate_content(model=MODEL_ID, contents=prompt)\n",
    "display(Markdown(response.text))"
   ]
  },
  {
   "cell_type": "markdown",
   "metadata": {
    "id": "PJIL2RTQaGcT"
   },
   "source": [
    "### Watch out for hallucinations"
   ]
  },
  {
   "cell_type": "markdown",
   "metadata": {
    "id": "8Y8kYxrSaHE9"
   },
   "source": [
    "Although LLMs have been trained on a large amount of data, they can generate text containing statements not grounded in truth or reality; these responses from the LLM are often referred to as \"hallucinations\" due to their limited memorization capabilities. Note that simply prompting the LLM to provide a citation isn't a fix to this problem, as there are instances of LLMs providing false or inaccurate citations. Dealing with hallucinations is a fundamental challenge of LLMs and an ongoing research area, so it is important to be cognizant that LLMs may seem to give you confident, correct-sounding statements that are in fact incorrect.\n",
    "\n",
    "Note that if you intend to use LLMs for the creative use cases, hallucinating could actually be quite useful."
   ]
  },
  {
   "cell_type": "markdown",
   "metadata": {
    "id": "8NY5nAGeaJYS"
   },
   "source": [
    "Try the prompt like the one below repeatedly. We set the temperature to `1.0` so that it takes more risks in its choices. It's possible that it may provide an inaccurate, but confident answer."
   ]
  },
  {
   "cell_type": "code",
   "execution_count": 14,
   "metadata": {
    "id": "QALPjEILaM62",
    "tags": []
   },
   "outputs": [
    {
     "data": {
      "text/markdown": [
       "As a large language model, I don't have a real-time \"today\" in the human sense. My knowledge isn't constantly updated with the current moment.\n",
       "\n",
       "However, I can tell you that based on my internal clock, it is **Tuesday, May 14, 2024**."
      ],
      "text/plain": [
       "<IPython.core.display.Markdown object>"
      ]
     },
     "metadata": {},
     "output_type": "display_data"
    }
   ],
   "source": [
    "generation_config = GenerateContentConfig(temperature=1.0)\n",
    "\n",
    "prompt = \"What day is it today?\"\n",
    "\n",
    "response = client.models.generate_content(model=MODEL_ID, contents=prompt)\n",
    "display(Markdown(response.text))"
   ]
  },
  {
   "cell_type": "markdown",
   "metadata": {
    "id": "BRkwzbgRbhKt"
   },
   "source": [
    "Since LLMs do not have access to real-time information without further integrations, you may have noticed it hallucinates what day it is today in some of the outputs."
   ]
  },
  {
   "cell_type": "markdown",
   "metadata": {
    "id": "3c811e310d02"
   },
   "source": [
    "### Using system instructions to guardrail the model from irrelevant responses\n",
    "\n",
    "How can we attempt to reduce the chances of irrelevant responses and hallucinations?\n",
    "\n",
    "One way is to provide the LLM with [system instructions](https://cloud.google.com/vertex-ai/generative-ai/docs/learn/prompts/system-instruction-introduction).\n",
    "\n",
    "Let's see how system instructions works and how you can use them to reduce hallucinations or irrelevant questions for a travel chatbot.\n",
    "\n",
    "Suppose we ask a simple question about one of Italy's most famous tourist spots."
   ]
  },
  {
   "cell_type": "code",
   "execution_count": 15,
   "metadata": {
    "id": "rB6zJU76biFK",
    "tags": []
   },
   "outputs": [
    {
     "data": {
      "text/markdown": [
       "That's a great question for a travel website! Milan offers many fantastic sightseeing opportunities.\n",
       "\n",
       "For the absolute best place for sightseeing in Milan, I highly recommend visiting the **Duomo di Milano** (Milan Cathedral). It's an incredibly iconic and breathtaking landmark.\n",
       "\n",
       "You can explore:\n",
       "*   The magnificent Gothic architecture from the outside.\n",
       "*   The vast interior with its stunning stained-glass windows.\n",
       "*   The rooftop terraces, which offer incredible panoramic views of the city (and even the Alps on a clear day!).\n",
       "\n",
       "It's truly an unforgettable experience for any visitor to Milan!"
      ],
      "text/plain": [
       "<IPython.core.display.Markdown object>"
      ]
     },
     "metadata": {},
     "output_type": "display_data"
    }
   ],
   "source": [
    "generation_config = GenerateContentConfig(temperature=1.0)\n",
    "\n",
    "chat = client.chats.create(\n",
    "    model=MODEL_ID,\n",
    "    config=GenerateContentConfig(\n",
    "        system_instruction=[\n",
    "            \"Hello! You are an AI chatbot for a travel web site.\",\n",
    "            \"Your mission is to provide helpful queries for travelers.\",\n",
    "            \"Remember that before you answer a question, you must check to see if it complies with your mission.\",\n",
    "            \"If not, you can say, Sorry I can't answer that question.\",\n",
    "        ]\n",
    "    ),\n",
    ")\n",
    "\n",
    "prompt = \"What is the best place for sightseeing in Milan, Italy?\"\n",
    "\n",
    "response = chat.send_message(prompt)\n",
    "display(Markdown(response.text))"
   ]
  },
  {
   "cell_type": "markdown",
   "metadata": {
    "id": "WZa-Qcf9cF4A"
   },
   "source": [
    "Now let us pretend to be a user asks the chatbot a question that is unrelated to travel."
   ]
  },
  {
   "cell_type": "code",
   "execution_count": 16,
   "metadata": {
    "id": "AZKBIDr2cGnu",
    "tags": []
   },
   "outputs": [
    {
     "data": {
      "text/markdown": [
       "Sorry, I can't answer that question."
      ],
      "text/plain": [
       "<IPython.core.display.Markdown object>"
      ]
     },
     "metadata": {},
     "output_type": "display_data"
    }
   ],
   "source": [
    "prompt = \"How do I make pizza dough at home?\"\n",
    "\n",
    "response = chat.send_message(prompt)\n",
    "display(Markdown(response.text))"
   ]
  },
  {
   "cell_type": "markdown",
   "metadata": {
    "id": "JiUYIhwpctCy"
   },
   "source": [
    "You can see that this way, a guardrail in the prompt prevented the chatbot from veering off course."
   ]
  },
  {
   "cell_type": "markdown",
   "metadata": {
    "id": "ZuuDhA37cvmP"
   },
   "source": [
    "### Turn generative tasks into classification tasks to reduce output variability"
   ]
  },
  {
   "cell_type": "markdown",
   "metadata": {
    "id": "kUCUrsUzczmb"
   },
   "source": [
    "#### Generative tasks lead to higher output variability"
   ]
  },
  {
   "cell_type": "markdown",
   "metadata": {
    "id": "a1xASHAkc46n"
   },
   "source": [
    "The prompt below results in an open-ended response, useful for brainstorming, but response is highly variable."
   ]
  },
  {
   "cell_type": "code",
   "execution_count": 17,
   "metadata": {
    "id": "nPfXQWIacwRf",
    "tags": []
   },
   "outputs": [
    {
     "data": {
      "text/markdown": [
       "That's an excellent goal! Hands-on activities are by far the best way to improve programming skills. Here are a few recommendations, catering to different interests and skill levels, along with why they're beneficial:\n",
       "\n",
       "---\n",
       "\n",
       "## **1. Project-Based Learning: Build Something You Care About**\n",
       "\n",
       "This is arguably the most effective way to learn. Instead of just solving isolated problems, you're building a complete thing, which involves design, planning, debugging, and seeing a tangible result.\n",
       "\n",
       "**Why it's good:**\n",
       "*   **Motivation:** You're building something *you* want.\n",
       "*   **Holistic Skills:** Covers design, implementation, testing, debugging, and often user experience.\n",
       "*   **Portfolio:** Great for college applications or internships.\n",
       "*   **Real-World Application:** You'll encounter challenges similar to professional developers.\n",
       "\n",
       "**Ideas (pick one that sparks your interest!):**\n",
       "\n",
       "*   **A Simple Game (Text-based or Basic Graphics):**\n",
       "    *   **Examples:** Tic-Tac-Toe, Hangman, a choose-your-own-adventure story, a simple platformer or Space Invaders clone.\n",
       "    *   **Skills Learned:** Game logic, user input, loops, conditionals, object-oriented programming (if using sprites/objects), collision detection (for graphics).\n",
       "    *   **Suggested Languages/Libraries:** Python (Pygame for graphics, or just standard library for text), JavaScript (HTML Canvas).\n",
       "\n",
       "*   **A Personal Utility Tool/Script:**\n",
       "    *   **Examples:**\n",
       "        *   A script that organizes files in a folder (e.g., moves all PDFs to a \"PDFs\" subfolder).\n",
       "        *   A simple web scraper that pulls daily weather, news headlines, or stock prices.\n",
       "        *   A habit tracker or a simple to-do list application.\n",
       "        *   A unit converter or calculator.\n",
       "    *   **Skills Learned:** File I/O, string manipulation, data parsing (JSON/HTML), working with APIs (if fetching data), error handling, command-line arguments.\n",
       "    *   **Suggested Languages:** Python (excellent for scripting), JavaScript (Node.js for backend scripts).\n",
       "\n",
       "*   **A Basic Website/Web Application:**\n",
       "    *   **Examples:**\n",
       "        *   A personal portfolio website.\n",
       "        *   A simple blog (even if it's just static pages for now).\n",
       "        *   A front-end quiz application (HTML/CSS/JS only).\n",
       "        *   A basic message board or chat app (with a backend).\n",
       "    *   **Skills Learned:**\n",
       "        *   **Frontend:** HTML (structure), CSS (styling), JavaScript (interactivity).\n",
       "        *   **Backend (optional):** Databases, server-side logic, APIs, user authentication.\n",
       "    *   **Suggested Languages/Frameworks:** HTML/CSS/JavaScript (essential for frontend), Python (Flask/Django), Node.js (Express), PHP (Laravel) for backend.\n",
       "\n",
       "*   **Data Analysis & Visualization Project:**\n",
       "    *   **Examples:**\n",
       "        *   Analyze publicly available datasets (e.g., from Kaggle, government open data portals) on anything from movie ratings to climate data.\n",
       "        *   Visualize trends in sports statistics.\n",
       "        *   Create interactive charts from your own collected data (e.g., sleep patterns, study time).\n",
       "    *   **Skills Learned:** Data cleaning, data manipulation (sorting, filtering), statistical analysis, charting and graphing, critical thinking about data.\n",
       "    *   **Suggested Languages/Libraries:** Python (Pandas for data, Matplotlib/Seaborn/Plotly for visualization), R.\n",
       "\n",
       "**Tips for Project-Based Learning:**\n",
       "*   **Start Small:** Don't try to build the next Facebook. Start with a tiny, achievable version.\n",
       "*   **Break It Down:** Divide your project into smaller, manageable tasks.\n",
       "*   **Use Version Control:** Learn Git and GitHub. It's an industry standard and great for tracking your progress and backing up your code.\n",
       "*   **Google is Your Friend:** You won't know everything. Learning *how* to find solutions is a crucial skill.\n",
       "*   **Don't Be Afraid to Debug:** Errors are opportunities to learn.\n",
       "\n",
       "---\n",
       "\n",
       "## **2. Algorithmic Problem Solving / Competitive Programming**\n",
       "\n",
       "This focuses on improving your problem-solving skills, understanding data structures, and writing efficient code.\n",
       "\n",
       "**Why it's good:**\n",
       "*   **Core CS Skills:** Deepens understanding of algorithms, data structures, and computational thinking.\n",
       "*   **Logic & Efficiency:** Teaches you to think critically about different approaches and optimize your code.\n",
       "*   **Interview Prep:** Many tech companies use these types of problems in interviews.\n",
       "\n",
       "**Platforms to Try:**\n",
       "*   **HackerRank (Beginner-Friendly):** Has various domains (algorithms, data structures, SQL, etc.) and a good learning path.\n",
       "*   **LeetCode (More Advanced, but has \"Easy\" problems):** Widely used for technical interview prep. Start with the \"Easy\" problems.\n",
       "*   **Codeforces / AtCoder (Competitive):** These are for more serious competitive programming, with contests and a ranking system. Great once you're comfortable with the basics.\n",
       "*   **USACO (for US students interested in competitive programming):** Offers a structured learning path with increasingly difficult problems, leading up to a national competition. Excellent for building foundational skills.\n",
       "\n",
       "**Tips for Algorithmic Problem Solving:**\n",
       "*   **Start with \"Easy\" Problems:** Don't jump into hard ones. Build confidence.\n",
       "*   **Understand the Problem:** Read it carefully. What are the inputs, outputs, constraints?\n",
       "*   **Think Before You Code:** Don't just immediately write code. Brainstorm different approaches.\n",
       "*   **Test Your Code:** Come up with your own test cases beyond the examples given.\n",
       "*   **Look at Solutions (After Trying):** If you're stuck, look at others' solutions to understand different approaches, but always try your best first. Then, try to implement it yourself *without* looking.\n",
       "*   **Learn Data Structures & Algorithms:** As you solve problems, you'll naturally learn about arrays, linked lists, trees, graphs, sorting algorithms, searching algorithms, etc. Actively study them as you encounter them.\n",
       "\n",
       "---\n",
       "\n",
       "## **How to Choose & Get Started:**\n",
       "\n",
       "1.  **Reflect on Your Interests:** Do you prefer building creative things, or solving logical puzzles?\n",
       "2.  **Current Skill Level:**\n",
       "    *   **Beginner:** Start with simpler text-based games, utility scripts, or \"Easy\" problems on HackerRank.\n",
       "    *   **Intermediate:** Tackle web development (frontend first), graphical games, or more complex algorithms.\n",
       "3.  **Pick ONE and Commit:** Don't try to do everything at once. Focus on one activity until you feel you've made significant progress or learned a lot.\n",
       "4.  **Find Resources:** YouTube tutorials, free online courses (Codecademy, freeCodeCamp, Udemy free courses), documentation for libraries/languages.\n",
       "\n",
       "Most importantly: **Have fun!** Programming is a creative and powerful skill. Enjoy the process of building and learning."
      ],
      "text/plain": [
       "<IPython.core.display.Markdown object>"
      ]
     },
     "metadata": {},
     "output_type": "display_data"
    }
   ],
   "source": [
    "prompt = \"I'm a high school student. Recommend me a programming activity to improve my skills.\"\n",
    "\n",
    "response = client.models.generate_content(model=MODEL_ID, contents=prompt)\n",
    "display(Markdown(response.text))"
   ]
  },
  {
   "cell_type": "markdown",
   "metadata": {
    "id": "iAmm9wPYc_1o"
   },
   "source": [
    "#### Classification tasks reduces output variability"
   ]
  },
  {
   "cell_type": "markdown",
   "metadata": {
    "id": "VvRpK_0GdCpf"
   },
   "source": [
    "The prompt below results in a choice and may be useful if you want the output to be easier to control."
   ]
  },
  {
   "cell_type": "code",
   "execution_count": 18,
   "metadata": {
    "id": "kYDKh0r2dAqo",
    "tags": []
   },
   "outputs": [
    {
     "data": {
      "text/markdown": [
       "As a high school student looking to get into programming, the choice of language can significantly impact your learning experience and future opportunities. Let's break down each option:\n",
       "\n",
       "---\n",
       "\n",
       "**My Strong Recommendation: Learn Python (a)**\n",
       "\n",
       "**Why Python is the best choice for a high school student:**\n",
       "\n",
       "1.  **Beginner-Friendly Syntax:** Python is renowned for its readability and simplicity. Its syntax is very close to plain English, making it much easier for beginners to grasp fundamental programming concepts without getting bogged down in complex rules (like semicolons, curly braces, etc.).\n",
       "2.  **Incredibly Versatile:** Python is a true multi-tool. You can use it for:\n",
       "    *   **Web Development:** With frameworks like Django and Flask.\n",
       "    *   **Data Science & Machine Learning:** It's the dominant language in these rapidly growing fields (libraries like NumPy, Pandas, TensorFlow, PyTorch).\n",
       "    *   **Artificial Intelligence:** From simple scripts to complex AI models.\n",
       "    *   **Automation & Scripting:** Automating repetitive tasks on your computer.\n",
       "    *   **Game Development:** Using libraries like Pygame for 2D games.\n",
       "    *   **Scientific Computing & Academia:** Used widely in research and universities.\n",
       "    *   **General Purpose Applications:** Building almost any kind of software.\n",
       "3.  **Vast Community & Resources:** Because Python is so popular, there's an enormous amount of online tutorials, courses (free and paid), books, and an active community ready to help you with any questions. This makes learning much less frustrating.\n",
       "4.  **High Demand in the Job Market:** Python skills are highly sought after across a multitude of industries, making it an excellent foundation for future internships, college, and careers.\n",
       "5.  **Directly Applicable to Many Fields:** Whether you're interested in science, engineering, business, or the arts, Python can be used to analyze data, build tools, or automate processes relevant to those areas.\n",
       "\n",
       "---\n",
       "\n",
       "**A Strong Second Choice / Excellent Companion: Learn JavaScript (b)**\n",
       "\n",
       "**Why JavaScript is a great choice (and why you might learn it after Python or simultaneously):**\n",
       "\n",
       "1.  **The Language of the Web:** If you're interested in building interactive websites and web applications, JavaScript is *essential*. It runs directly in web browsers.\n",
       "2.  **Full-Stack Potential:** With Node.js, JavaScript can also be used for server-side (backend) development, meaning you can build entire web applications (both front-end and back-end) using just one language.\n",
       "3.  **Visual and Interactive:** Learning JavaScript often means seeing immediate visual results in a web browser, which can be very engaging and motivating for beginners.\n",
       "4.  **Huge Ecosystem:** A massive collection of frameworks and libraries (like React, Angular, Vue, Express) that make web development faster and more powerful.\n",
       "5.  **Mobile Development:** With frameworks like React Native, you can even build native mobile apps using JavaScript.\n",
       "\n",
       "**Considerations for JavaScript:** It can be a bit more complex for absolute beginners than Python due to concepts like asynchronous programming, \"this\" context, and the rapid evolution of its ecosystem, but it's incredibly rewarding if you're passionate about web technologies.\n",
       "\n",
       "---\n",
       "\n",
       "**Not Recommended for Your First Language: Learn Fortran (c)**\n",
       "\n",
       "**Why Fortran is generally NOT the best choice for a high school student's first language:**\n",
       "\n",
       "1.  **Niche Application:** Fortran is primarily used in very specific domains: high-performance computing, scientific simulations (e.g., climate modeling, fluid dynamics, nuclear physics), and legacy systems. Unless you are *absolutely certain* you want to pursue a career specifically in these highly specialized fields, it won't give you the broad applicability of Python or JavaScript.\n",
       "2.  **Older Syntax:** Fortran has an older, less modern syntax compared to Python or JavaScript. It's generally less intuitive and less \"friendly\" for a beginner trying to grasp core programming concepts.\n",
       "3.  **Limited General Purpose Use:** You wouldn't typically use Fortran to build a website, a mobile app, or automate your daily computer tasks. Its strength is pure computational speed for numerical problems.\n",
       "4.  **Smaller Community & Resources (for beginners):** While there's a strong community among Fortran users, finding beginner-friendly tutorials and resources is much harder than for Python or JavaScript.\n",
       "5.  **Less Engaging for Beginners:** It's harder to build \"fun\" or visually interactive projects quickly with Fortran, which can be demotivating for a high school student.\n",
       "\n",
       "---\n",
       "\n",
       "**In Summary & My Advice:**\n",
       "\n",
       "Start with **Python**. It will give you a solid foundation in programming concepts, expose you to a vast array of applications, and prepare you for almost any STEM field in college and beyond. Its gentle learning curve and extensive resources make it the perfect entry point.\n",
       "\n",
       "Once you're comfortable with Python, if you find yourself interested in building websites or anything that runs in a browser, then **JavaScript** would be an excellent second language to learn. Many programmers are proficient in both.\n",
       "\n",
       "**Fortran** is a powerful language, but it's best reserved for later in your academic or professional career if you discover a specific need for it in high-performance scientific computing. It's not suitable as a general-purpose introductory language.\n",
       "\n",
       "**No matter what you choose:**\n",
       "\n",
       "*   **Start with a project:** Don't just learn syntax; try to build something, even if it's small (a calculator, a text-based adventure game, a simple data analyzer).\n",
       "*   **Be consistent:** Little bits of practice regularly are better than long, infrequent sessions.\n",
       "*   **Don't be afraid to make mistakes:** It's part of the learning process!\n",
       "*   **Use online resources:** Codecademy, freeCodeCamp, W3Schools, YouTube tutorials, and official documentation are your friends.\n",
       "\n",
       "Good luck! Programming is a rewarding skill to learn."
      ],
      "text/plain": [
       "<IPython.core.display.Markdown object>"
      ]
     },
     "metadata": {},
     "output_type": "display_data"
    }
   ],
   "source": [
    "prompt = \"\"\"I'm a high school student. Which of these activities do you suggest and why:\n",
    "a) learn Python\n",
    "b) learn JavaScript\n",
    "c) learn Fortran\n",
    "\"\"\"\n",
    "\n",
    "response = client.models.generate_content(model=MODEL_ID, contents=prompt)\n",
    "display(Markdown(response.text))"
   ]
  },
  {
   "cell_type": "markdown",
   "metadata": {
    "id": "iTd60b1GdIsx"
   },
   "source": [
    "### Improve response quality by including examples"
   ]
  },
  {
   "cell_type": "markdown",
   "metadata": {
    "id": "yJi44NejdJYE"
   },
   "source": [
    "Another way to improve response quality is to add examples in your prompt. The LLM learns in-context from the examples on how to respond. Typically, one to five examples (shots) are enough to improve the quality of responses. Including too many examples can cause the model to over-fit the data and reduce the quality of responses.\n",
    "\n",
    "Similar to classical model training, the quality and distribution of the examples is very important. Pick examples that are representative of the scenarios that you need the model to learn, and keep the distribution of the examples (e.g. number of examples per class in the case of classification) aligned with your actual distribution."
   ]
  },
  {
   "cell_type": "markdown",
   "metadata": {
    "id": "sMbLginWdOKs"
   },
   "source": [
    "#### Zero-shot prompt"
   ]
  },
  {
   "cell_type": "markdown",
   "metadata": {
    "id": "Crh2Loi2dQ0v"
   },
   "source": [
    "Below is an example of zero-shot prompting, where you don't provide any examples to the LLM within the prompt itself."
   ]
  },
  {
   "cell_type": "code",
   "execution_count": 19,
   "metadata": {
    "id": "-7myRc-SdTQ4",
    "tags": []
   },
   "outputs": [
    {
     "data": {
      "text/markdown": [
       "Positive"
      ],
      "text/plain": [
       "<IPython.core.display.Markdown object>"
      ]
     },
     "metadata": {},
     "output_type": "display_data"
    }
   ],
   "source": [
    "prompt = \"\"\"Decide whether a Tweet's sentiment is positive, neutral, or negative.\n",
    "\n",
    "Tweet: I loved the new YouTube video you made!\n",
    "Sentiment:\n",
    "\"\"\"\n",
    "\n",
    "response = client.models.generate_content(model=MODEL_ID, contents=prompt)\n",
    "display(Markdown(response.text))"
   ]
  },
  {
   "cell_type": "markdown",
   "metadata": {
    "id": "ucRtPn9SdL64"
   },
   "source": [
    "#### One-shot prompt"
   ]
  },
  {
   "cell_type": "markdown",
   "metadata": {
    "id": "rs0gQH2vdYBi"
   },
   "source": [
    "Below is an example of one-shot prompting, where you provide one example to the LLM within the prompt to give some guidance on what type of response you want."
   ]
  },
  {
   "cell_type": "code",
   "execution_count": 20,
   "metadata": {
    "id": "iEq-KxGYdaT5",
    "tags": []
   },
   "outputs": [
    {
     "data": {
      "text/markdown": [
       "negative"
      ],
      "text/plain": [
       "<IPython.core.display.Markdown object>"
      ]
     },
     "metadata": {},
     "output_type": "display_data"
    }
   ],
   "source": [
    "prompt = \"\"\"Decide whether a Tweet's sentiment is positive, neutral, or negative.\n",
    "\n",
    "Tweet: I loved the new YouTube video you made!\n",
    "Sentiment: positive\n",
    "\n",
    "Tweet: That was awful. Super boring 😠\n",
    "Sentiment:\n",
    "\"\"\"\n",
    "\n",
    "response = client.models.generate_content(model=MODEL_ID, contents=prompt)\n",
    "display(Markdown(response.text))"
   ]
  },
  {
   "cell_type": "markdown",
   "metadata": {
    "id": "JnKLjJzmdfL_"
   },
   "source": [
    "#### Few-shot prompt"
   ]
  },
  {
   "cell_type": "markdown",
   "metadata": {
    "id": "6Zv-9F5OdgI_"
   },
   "source": [
    "Below is an example of few-shot prompting, where you provide a few examples to the LLM within the prompt to give some guidance on what type of response you want."
   ]
  },
  {
   "cell_type": "code",
   "execution_count": 21,
   "metadata": {
    "id": "u37P9tG4dk9S",
    "tags": []
   },
   "outputs": [
    {
     "data": {
      "text/markdown": [
       "positive"
      ],
      "text/plain": [
       "<IPython.core.display.Markdown object>"
      ]
     },
     "metadata": {},
     "output_type": "display_data"
    }
   ],
   "source": [
    "prompt = \"\"\"Decide whether a Tweet's sentiment is positive, neutral, or negative.\n",
    "\n",
    "Tweet: I loved the new YouTube video you made!\n",
    "Sentiment: positive\n",
    "\n",
    "Tweet: That was awful. Super boring 😠\n",
    "Sentiment: negative\n",
    "\n",
    "Tweet: Something surprised me about this video - it was actually original. It was not the same old recycled stuff that I always see. Watch it - you will not regret it.\n",
    "Sentiment:\n",
    "\"\"\"\n",
    "\n",
    "response = client.models.generate_content(model=MODEL_ID, contents=prompt)\n",
    "display(Markdown(response.text))"
   ]
  },
  {
   "cell_type": "markdown",
   "metadata": {
    "id": "wDMD3xb2dvX6"
   },
   "source": [
    "#### Choosing between zero-shot, one-shot, few-shot prompting methods"
   ]
  },
  {
   "cell_type": "markdown",
   "metadata": {
    "id": "s92W0YpNdxJp"
   },
   "source": [
    "Which prompt technique to use will solely depends on your goal. The zero-shot prompts are more open-ended and can give you creative answers, while one-shot and few-shot prompts teach the model how to behave so you can get more predictable answers that are consistent with the examples provided."
   ]
  }
 ],
 "metadata": {
  "colab": {
   "name": "intro_prompt_design.ipynb",
   "toc_visible": true
  },
  "environment": {
   "kernel": "conda-base-py",
   "name": "workbench-notebooks.m131",
   "type": "gcloud",
   "uri": "us-docker.pkg.dev/deeplearning-platform-release/gcr.io/workbench-notebooks:m131"
  },
  "kernelspec": {
   "display_name": "Python 3 (ipykernel) (Local) (Local)",
   "language": "python",
   "name": "conda-base-py"
  },
  "language_info": {
   "codemirror_mode": {
    "name": "ipython",
    "version": 3
   },
   "file_extension": ".py",
   "mimetype": "text/x-python",
   "name": "python",
   "nbconvert_exporter": "python",
   "pygments_lexer": "ipython3",
   "version": "3.10.18"
  }
 },
 "nbformat": 4,
 "nbformat_minor": 4
}
