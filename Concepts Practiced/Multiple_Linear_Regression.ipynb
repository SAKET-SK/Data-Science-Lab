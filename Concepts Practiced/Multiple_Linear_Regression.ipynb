{
  "cells": [
    {
      "cell_type": "code",
      "source": [
        "import pandas as pd  \r\n",
        "import numpy as np  \r\n",
        "import matplotlib.pyplot as plt  \r\n",
        "from sklearn.model_selection import train_test_split  \r\n",
        "from sklearn.linear_model import LinearRegression  \r\n",
        "\r\n",
        "# Creating the dataset\r\n",
        "data = {  \r\n",
        "    \"Horsepower\": [150, 120, 200, 130, 180],  \r\n",
        "    \"Mileage\": [50, 80, 30, 70, 40],  \r\n",
        "    \"Year\": [2018, 2016, 2020, 2017, 2019],  \r\n",
        "    \"Luxury\": [1, 0, 1, 0, 1],  \r\n",
        "    \"Price\": [25000, 15000, 40000, 18000, 35000]  \r\n",
        "}  \r\n",
        "df = pd.DataFrame(data)\r\n",
        "\r\n",
        "# Defining features (X) and target (Y)\r\n",
        "X = df[[\"Horsepower\", \"Mileage\", \"Year\", \"Luxury\"]]  \r\n",
        "y = df[\"Price\"]  \r\n",
        "\r\n",
        "# Splitting into 80% training and 20% testing\r\n",
        "X_train, X_test, y_train, y_test = train_test_split(X, y, test_size=0.2, random_state=42)\r\n",
        "\r\n",
        "# Create and train the model\r\n",
        "model = LinearRegression()  \r\n",
        "model.fit(X_train, y_train)\r\n",
        "\r\n",
        "# Predict car prices\r\n",
        "predictions = model.predict(X_test)  \r\n",
        "print(\"Predicted Prices:\", predictions)\r\n",
        "\r\n",
        "feature_importance = pd.Series(model.coef_, index=X.columns)  \r\n",
        "print(\"Feature Importance:\n\", feature_importance)"
      ]
    },
    {
      "cell_type": "code",
      "source": [
        "from sklearn.metrics import mean_absolute_error, mean_squared_error, r2_score  \r\n",
        "\r\n",
        "# Calculate evaluation metrics\r\n",
        "mae = mean_absolute_error(y_test, predictions)  \r\n",
        "mse = mean_squared_error(y_test, predictions)  \r\n",
        "r2 = r2_score(y_test, predictions)  \r\n",
        "\r\n",
        "print(f\"Mean Absolute Error: {mae:.2f}\")  \r\n",
        "print(f\"Mean Squared Error: {mse:.2f}\")  \r\n",
        "print(f\"R² Score: {r2:.2f}\")"
      ]
    },
    {
      "cell_type": "code",
      "source": [
        "# Print feature importance with two decimal places\n",
        "formatted_importance = feature_importance.apply(lambda x: f\"{x:.2f}\")\n",
        "print(\"Feature Importance:\n\", formatted_importance)"
      ]
    }
  ],
  "metadata": {
    "kernelspec": {
      "name": "pyodide",
      "display_name": "Python",
      "language": "python",
      "ext": "py"
    }
  },
  "nbformat": 4,
  "nbformat_minor": 5
}
