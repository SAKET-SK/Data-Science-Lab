{
  "nbformat": 4,
  "nbformat_minor": 0,
  "metadata": {
    "colab": {
      "name": "Untitled0.ipynb",
      "provenance": [],
      "collapsed_sections": []
    },
    "kernelspec": {
      "name": "python3",
      "display_name": "Python 3"
    },
    "language_info": {
      "name": "python"
    }
  },
  "cells": [
    {
      "cell_type": "code",
      "metadata": {
        "id": "uLIotgyeCYdV"
      },
      "source": [
        "import pandas as pd"
      ],
      "execution_count": 1,
      "outputs": []
    },
    {
      "cell_type": "code",
      "metadata": {
        "id": "FIFz0BAyCyE_"
      },
      "source": [
        "df = pd.read_csv('/content/sample_data/housepricedata.csv')"
      ],
      "execution_count": 7,
      "outputs": []
    },
    {
      "cell_type": "code",
      "metadata": {
        "colab": {
          "base_uri": "https://localhost:8080/",
          "height": 419
        },
        "id": "aJUXVa6cFLRe",
        "outputId": "05ba24a2-3c25-4f17-d483-419254762901"
      },
      "source": [
        "df"
      ],
      "execution_count": 8,
      "outputs": [
        {
          "output_type": "execute_result",
          "data": {
            "text/html": [
              "<div>\n",
              "<style scoped>\n",
              "    .dataframe tbody tr th:only-of-type {\n",
              "        vertical-align: middle;\n",
              "    }\n",
              "\n",
              "    .dataframe tbody tr th {\n",
              "        vertical-align: top;\n",
              "    }\n",
              "\n",
              "    .dataframe thead th {\n",
              "        text-align: right;\n",
              "    }\n",
              "</style>\n",
              "<table border=\"1\" class=\"dataframe\">\n",
              "  <thead>\n",
              "    <tr style=\"text-align: right;\">\n",
              "      <th></th>\n",
              "      <th>LotArea</th>\n",
              "      <th>OverallQual</th>\n",
              "      <th>OverallCond</th>\n",
              "      <th>TotalBsmtSF</th>\n",
              "      <th>FullBath</th>\n",
              "      <th>HalfBath</th>\n",
              "      <th>BedroomAbvGr</th>\n",
              "      <th>TotRmsAbvGrd</th>\n",
              "      <th>Fireplaces</th>\n",
              "      <th>GarageArea</th>\n",
              "      <th>AboveMedianPrice</th>\n",
              "    </tr>\n",
              "  </thead>\n",
              "  <tbody>\n",
              "    <tr>\n",
              "      <th>0</th>\n",
              "      <td>8450</td>\n",
              "      <td>7</td>\n",
              "      <td>5</td>\n",
              "      <td>856</td>\n",
              "      <td>2</td>\n",
              "      <td>1</td>\n",
              "      <td>3</td>\n",
              "      <td>8</td>\n",
              "      <td>0</td>\n",
              "      <td>548</td>\n",
              "      <td>1</td>\n",
              "    </tr>\n",
              "    <tr>\n",
              "      <th>1</th>\n",
              "      <td>9600</td>\n",
              "      <td>6</td>\n",
              "      <td>8</td>\n",
              "      <td>1262</td>\n",
              "      <td>2</td>\n",
              "      <td>0</td>\n",
              "      <td>3</td>\n",
              "      <td>6</td>\n",
              "      <td>1</td>\n",
              "      <td>460</td>\n",
              "      <td>1</td>\n",
              "    </tr>\n",
              "    <tr>\n",
              "      <th>2</th>\n",
              "      <td>11250</td>\n",
              "      <td>7</td>\n",
              "      <td>5</td>\n",
              "      <td>920</td>\n",
              "      <td>2</td>\n",
              "      <td>1</td>\n",
              "      <td>3</td>\n",
              "      <td>6</td>\n",
              "      <td>1</td>\n",
              "      <td>608</td>\n",
              "      <td>1</td>\n",
              "    </tr>\n",
              "    <tr>\n",
              "      <th>3</th>\n",
              "      <td>9550</td>\n",
              "      <td>7</td>\n",
              "      <td>5</td>\n",
              "      <td>756</td>\n",
              "      <td>1</td>\n",
              "      <td>0</td>\n",
              "      <td>3</td>\n",
              "      <td>7</td>\n",
              "      <td>1</td>\n",
              "      <td>642</td>\n",
              "      <td>0</td>\n",
              "    </tr>\n",
              "    <tr>\n",
              "      <th>4</th>\n",
              "      <td>14260</td>\n",
              "      <td>8</td>\n",
              "      <td>5</td>\n",
              "      <td>1145</td>\n",
              "      <td>2</td>\n",
              "      <td>1</td>\n",
              "      <td>4</td>\n",
              "      <td>9</td>\n",
              "      <td>1</td>\n",
              "      <td>836</td>\n",
              "      <td>1</td>\n",
              "    </tr>\n",
              "    <tr>\n",
              "      <th>...</th>\n",
              "      <td>...</td>\n",
              "      <td>...</td>\n",
              "      <td>...</td>\n",
              "      <td>...</td>\n",
              "      <td>...</td>\n",
              "      <td>...</td>\n",
              "      <td>...</td>\n",
              "      <td>...</td>\n",
              "      <td>...</td>\n",
              "      <td>...</td>\n",
              "      <td>...</td>\n",
              "    </tr>\n",
              "    <tr>\n",
              "      <th>1455</th>\n",
              "      <td>7917</td>\n",
              "      <td>6</td>\n",
              "      <td>5</td>\n",
              "      <td>953</td>\n",
              "      <td>2</td>\n",
              "      <td>1</td>\n",
              "      <td>3</td>\n",
              "      <td>7</td>\n",
              "      <td>1</td>\n",
              "      <td>460</td>\n",
              "      <td>1</td>\n",
              "    </tr>\n",
              "    <tr>\n",
              "      <th>1456</th>\n",
              "      <td>13175</td>\n",
              "      <td>6</td>\n",
              "      <td>6</td>\n",
              "      <td>1542</td>\n",
              "      <td>2</td>\n",
              "      <td>0</td>\n",
              "      <td>3</td>\n",
              "      <td>7</td>\n",
              "      <td>2</td>\n",
              "      <td>500</td>\n",
              "      <td>1</td>\n",
              "    </tr>\n",
              "    <tr>\n",
              "      <th>1457</th>\n",
              "      <td>9042</td>\n",
              "      <td>7</td>\n",
              "      <td>9</td>\n",
              "      <td>1152</td>\n",
              "      <td>2</td>\n",
              "      <td>0</td>\n",
              "      <td>4</td>\n",
              "      <td>9</td>\n",
              "      <td>2</td>\n",
              "      <td>252</td>\n",
              "      <td>1</td>\n",
              "    </tr>\n",
              "    <tr>\n",
              "      <th>1458</th>\n",
              "      <td>9717</td>\n",
              "      <td>5</td>\n",
              "      <td>6</td>\n",
              "      <td>1078</td>\n",
              "      <td>1</td>\n",
              "      <td>0</td>\n",
              "      <td>2</td>\n",
              "      <td>5</td>\n",
              "      <td>0</td>\n",
              "      <td>240</td>\n",
              "      <td>0</td>\n",
              "    </tr>\n",
              "    <tr>\n",
              "      <th>1459</th>\n",
              "      <td>9937</td>\n",
              "      <td>5</td>\n",
              "      <td>6</td>\n",
              "      <td>1256</td>\n",
              "      <td>1</td>\n",
              "      <td>1</td>\n",
              "      <td>3</td>\n",
              "      <td>6</td>\n",
              "      <td>0</td>\n",
              "      <td>276</td>\n",
              "      <td>0</td>\n",
              "    </tr>\n",
              "  </tbody>\n",
              "</table>\n",
              "<p>1460 rows × 11 columns</p>\n",
              "</div>"
            ],
            "text/plain": [
              "      LotArea  OverallQual  ...  GarageArea  AboveMedianPrice\n",
              "0        8450            7  ...         548                 1\n",
              "1        9600            6  ...         460                 1\n",
              "2       11250            7  ...         608                 1\n",
              "3        9550            7  ...         642                 0\n",
              "4       14260            8  ...         836                 1\n",
              "...       ...          ...  ...         ...               ...\n",
              "1455     7917            6  ...         460                 1\n",
              "1456    13175            6  ...         500                 1\n",
              "1457     9042            7  ...         252                 1\n",
              "1458     9717            5  ...         240                 0\n",
              "1459     9937            5  ...         276                 0\n",
              "\n",
              "[1460 rows x 11 columns]"
            ]
          },
          "metadata": {},
          "execution_count": 8
        }
      ]
    },
    {
      "cell_type": "code",
      "metadata": {
        "id": "_yOlFG2HGJnd"
      },
      "source": [
        "dataset=df.values"
      ],
      "execution_count": 9,
      "outputs": []
    },
    {
      "cell_type": "code",
      "metadata": {
        "colab": {
          "base_uri": "https://localhost:8080/"
        },
        "id": "rFOu9E-hGNc1",
        "outputId": "fd76f528-fad5-4dc9-e28e-aaaaa820e4c3"
      },
      "source": [
        "dataset"
      ],
      "execution_count": 10,
      "outputs": [
        {
          "output_type": "execute_result",
          "data": {
            "text/plain": [
              "array([[ 8450,     7,     5, ...,     0,   548,     1],\n",
              "       [ 9600,     6,     8, ...,     1,   460,     1],\n",
              "       [11250,     7,     5, ...,     1,   608,     1],\n",
              "       ...,\n",
              "       [ 9042,     7,     9, ...,     2,   252,     1],\n",
              "       [ 9717,     5,     6, ...,     0,   240,     0],\n",
              "       [ 9937,     5,     6, ...,     0,   276,     0]])"
            ]
          },
          "metadata": {},
          "execution_count": 10
        }
      ]
    },
    {
      "cell_type": "code",
      "metadata": {
        "id": "L_QxTEU6GQst"
      },
      "source": [
        "x = dataset[:,0:10]\n",
        "y = dataset[:,10]"
      ],
      "execution_count": 11,
      "outputs": []
    },
    {
      "cell_type": "code",
      "metadata": {
        "id": "Hp_y0UUhGtUl"
      },
      "source": [
        "from sklearn import preprocessing"
      ],
      "execution_count": 12,
      "outputs": []
    },
    {
      "cell_type": "code",
      "metadata": {
        "id": "jT1e4xy8Gy2G"
      },
      "source": [
        "min_max_scaler = preprocessing.MinMaxScaler()\n",
        "X_scale = min_max_scaler.fit_transform(x)"
      ],
      "execution_count": 14,
      "outputs": []
    },
    {
      "cell_type": "code",
      "metadata": {
        "colab": {
          "base_uri": "https://localhost:8080/"
        },
        "id": "BnsMbPMhHNZX",
        "outputId": "21d917f9-a8ae-4ae7-9a70-5f90772afad6"
      },
      "source": [
        "X_scale"
      ],
      "execution_count": 15,
      "outputs": [
        {
          "output_type": "execute_result",
          "data": {
            "text/plain": [
              "array([[0.0334198 , 0.66666667, 0.5       , ..., 0.5       , 0.        ,\n",
              "        0.3864598 ],\n",
              "       [0.03879502, 0.55555556, 0.875     , ..., 0.33333333, 0.33333333,\n",
              "        0.32440056],\n",
              "       [0.04650728, 0.66666667, 0.5       , ..., 0.33333333, 0.33333333,\n",
              "        0.42877292],\n",
              "       ...,\n",
              "       [0.03618687, 0.66666667, 1.        , ..., 0.58333333, 0.66666667,\n",
              "        0.17771509],\n",
              "       [0.03934189, 0.44444444, 0.625     , ..., 0.25      , 0.        ,\n",
              "        0.16925247],\n",
              "       [0.04037019, 0.44444444, 0.625     , ..., 0.33333333, 0.        ,\n",
              "        0.19464034]])"
            ]
          },
          "metadata": {},
          "execution_count": 15
        }
      ]
    },
    {
      "cell_type": "code",
      "metadata": {
        "id": "D4oR4eg6HRUW"
      },
      "source": [
        "from sklearn.model_selection import train_test_split"
      ],
      "execution_count": 16,
      "outputs": []
    },
    {
      "cell_type": "code",
      "metadata": {
        "id": "Jmh3fgRvHa41"
      },
      "source": [
        "X_train, X_val_and_test, Y_train, Y_val_and_test = train_test_split(X_scale, y, test_size=0.3, random_state=0)"
      ],
      "execution_count": 20,
      "outputs": []
    },
    {
      "cell_type": "code",
      "metadata": {
        "id": "MSIyF7KsImuO"
      },
      "source": [
        "X_val, X_test, Y_val, Y_test = train_test_split(X_val_and_test, Y_val_and_test, test_size=0.3, random_state=0)"
      ],
      "execution_count": 21,
      "outputs": []
    },
    {
      "cell_type": "code",
      "metadata": {
        "colab": {
          "base_uri": "https://localhost:8080/"
        },
        "id": "BZrqTqJBIviU",
        "outputId": "dc0b3df9-5a38-4a7d-8823-1cc317190949"
      },
      "source": [
        "print(X_train.shape, X_val.shape, X_test.shape, Y_train.shape, Y_val.shape, Y_test.shape)"
      ],
      "execution_count": 22,
      "outputs": [
        {
          "output_type": "stream",
          "name": "stdout",
          "text": [
            "(1022, 10) (306, 10) (132, 10) (1022,) (306,) (132,)\n"
          ]
        }
      ]
    },
    {
      "cell_type": "code",
      "metadata": {
        "id": "slgno32cI2t9"
      },
      "source": [
        "from keras.models import Sequential\n",
        "from keras.layers import Dense"
      ],
      "execution_count": 23,
      "outputs": []
    },
    {
      "cell_type": "code",
      "metadata": {
        "colab": {
          "base_uri": "https://localhost:8080/"
        },
        "id": "MdRLHELsI79K",
        "outputId": "0b769c1c-b4e4-4ed2-f81f-e56a69fd2b64"
      },
      "source": [
        "model = Sequential([\n",
        "Dense(32, activation='relu', input_shape=(10,)),\n",
        "Dense(32, activation='relu'),\n",
        "Dense(1, activation='sigmoid'),\n",
        "])\n",
        "\n",
        "model.compile(optimizer='sgd',\n",
        "\n",
        "loss='binary_crossentropy',\n",
        "metrics=['accuracy'])\n",
        "\n",
        "hist = model.fit(X_train, Y_train,\n",
        "batch_size=32, epochs=100,\n",
        "validation_data=(X_val, Y_val))"
      ],
      "execution_count": 24,
      "outputs": [
        {
          "output_type": "stream",
          "name": "stdout",
          "text": [
            "Epoch 1/100\n",
            "32/32 [==============================] - 1s 8ms/step - loss: 0.7005 - accuracy: 0.3679 - val_loss: 0.6941 - val_accuracy: 0.4641\n",
            "Epoch 2/100\n",
            "32/32 [==============================] - 0s 3ms/step - loss: 0.6924 - accuracy: 0.5108 - val_loss: 0.6860 - val_accuracy: 0.5784\n",
            "Epoch 3/100\n",
            "32/32 [==============================] - 0s 2ms/step - loss: 0.6853 - accuracy: 0.5607 - val_loss: 0.6784 - val_accuracy: 0.6405\n",
            "Epoch 4/100\n",
            "32/32 [==============================] - 0s 3ms/step - loss: 0.6788 - accuracy: 0.6526 - val_loss: 0.6713 - val_accuracy: 0.6667\n",
            "Epoch 5/100\n",
            "32/32 [==============================] - 0s 2ms/step - loss: 0.6725 - accuracy: 0.6399 - val_loss: 0.6645 - val_accuracy: 0.7026\n",
            "Epoch 6/100\n",
            "32/32 [==============================] - 0s 2ms/step - loss: 0.6662 - accuracy: 0.7114 - val_loss: 0.6578 - val_accuracy: 0.7484\n",
            "Epoch 7/100\n",
            "32/32 [==============================] - 0s 2ms/step - loss: 0.6601 - accuracy: 0.7202 - val_loss: 0.6512 - val_accuracy: 0.7712\n",
            "Epoch 8/100\n",
            "32/32 [==============================] - 0s 3ms/step - loss: 0.6543 - accuracy: 0.7417 - val_loss: 0.6449 - val_accuracy: 0.7810\n",
            "Epoch 9/100\n",
            "32/32 [==============================] - 0s 3ms/step - loss: 0.6486 - accuracy: 0.7593 - val_loss: 0.6385 - val_accuracy: 0.7941\n",
            "Epoch 10/100\n",
            "32/32 [==============================] - 0s 2ms/step - loss: 0.6428 - accuracy: 0.7564 - val_loss: 0.6321 - val_accuracy: 0.8072\n",
            "Epoch 11/100\n",
            "32/32 [==============================] - 0s 3ms/step - loss: 0.6368 - accuracy: 0.7681 - val_loss: 0.6254 - val_accuracy: 0.8170\n",
            "Epoch 12/100\n",
            "32/32 [==============================] - 0s 3ms/step - loss: 0.6306 - accuracy: 0.7906 - val_loss: 0.6182 - val_accuracy: 0.8203\n",
            "Epoch 13/100\n",
            "32/32 [==============================] - 0s 2ms/step - loss: 0.6239 - accuracy: 0.7896 - val_loss: 0.6108 - val_accuracy: 0.8301\n",
            "Epoch 14/100\n",
            "32/32 [==============================] - 0s 3ms/step - loss: 0.6170 - accuracy: 0.7877 - val_loss: 0.6032 - val_accuracy: 0.8333\n",
            "Epoch 15/100\n",
            "32/32 [==============================] - 0s 2ms/step - loss: 0.6099 - accuracy: 0.8033 - val_loss: 0.5951 - val_accuracy: 0.8399\n",
            "Epoch 16/100\n",
            "32/32 [==============================] - 0s 3ms/step - loss: 0.6025 - accuracy: 0.8170 - val_loss: 0.5868 - val_accuracy: 0.8399\n",
            "Epoch 17/100\n",
            "32/32 [==============================] - 0s 2ms/step - loss: 0.5947 - accuracy: 0.8170 - val_loss: 0.5784 - val_accuracy: 0.8464\n",
            "Epoch 18/100\n",
            "32/32 [==============================] - 0s 3ms/step - loss: 0.5867 - accuracy: 0.8209 - val_loss: 0.5697 - val_accuracy: 0.8660\n",
            "Epoch 19/100\n",
            "32/32 [==============================] - 0s 2ms/step - loss: 0.5783 - accuracy: 0.8327 - val_loss: 0.5606 - val_accuracy: 0.8660\n",
            "Epoch 20/100\n",
            "32/32 [==============================] - 0s 3ms/step - loss: 0.5698 - accuracy: 0.8346 - val_loss: 0.5514 - val_accuracy: 0.8693\n",
            "Epoch 21/100\n",
            "32/32 [==============================] - 0s 3ms/step - loss: 0.5611 - accuracy: 0.8346 - val_loss: 0.5419 - val_accuracy: 0.8725\n",
            "Epoch 22/100\n",
            "32/32 [==============================] - 0s 2ms/step - loss: 0.5523 - accuracy: 0.8337 - val_loss: 0.5328 - val_accuracy: 0.8693\n",
            "Epoch 23/100\n",
            "32/32 [==============================] - 0s 2ms/step - loss: 0.5431 - accuracy: 0.8474 - val_loss: 0.5229 - val_accuracy: 0.8660\n",
            "Epoch 24/100\n",
            "32/32 [==============================] - 0s 3ms/step - loss: 0.5340 - accuracy: 0.8474 - val_loss: 0.5131 - val_accuracy: 0.8660\n",
            "Epoch 25/100\n",
            "32/32 [==============================] - 0s 2ms/step - loss: 0.5246 - accuracy: 0.8493 - val_loss: 0.5031 - val_accuracy: 0.8660\n",
            "Epoch 26/100\n",
            "32/32 [==============================] - 0s 3ms/step - loss: 0.5153 - accuracy: 0.8483 - val_loss: 0.4930 - val_accuracy: 0.8660\n",
            "Epoch 27/100\n",
            "32/32 [==============================] - 0s 2ms/step - loss: 0.5060 - accuracy: 0.8474 - val_loss: 0.4834 - val_accuracy: 0.8693\n",
            "Epoch 28/100\n",
            "32/32 [==============================] - 0s 3ms/step - loss: 0.4967 - accuracy: 0.8513 - val_loss: 0.4734 - val_accuracy: 0.8693\n",
            "Epoch 29/100\n",
            "32/32 [==============================] - 0s 3ms/step - loss: 0.4876 - accuracy: 0.8503 - val_loss: 0.4644 - val_accuracy: 0.8725\n",
            "Epoch 30/100\n",
            "32/32 [==============================] - 0s 3ms/step - loss: 0.4786 - accuracy: 0.8523 - val_loss: 0.4551 - val_accuracy: 0.8725\n",
            "Epoch 31/100\n",
            "32/32 [==============================] - 0s 2ms/step - loss: 0.4696 - accuracy: 0.8571 - val_loss: 0.4457 - val_accuracy: 0.8758\n",
            "Epoch 32/100\n",
            "32/32 [==============================] - 0s 2ms/step - loss: 0.4610 - accuracy: 0.8542 - val_loss: 0.4364 - val_accuracy: 0.8758\n",
            "Epoch 33/100\n",
            "32/32 [==============================] - 0s 3ms/step - loss: 0.4524 - accuracy: 0.8562 - val_loss: 0.4274 - val_accuracy: 0.8758\n",
            "Epoch 34/100\n",
            "32/32 [==============================] - 0s 3ms/step - loss: 0.4446 - accuracy: 0.8532 - val_loss: 0.4195 - val_accuracy: 0.8725\n",
            "Epoch 35/100\n",
            "32/32 [==============================] - 0s 2ms/step - loss: 0.4365 - accuracy: 0.8562 - val_loss: 0.4116 - val_accuracy: 0.8725\n",
            "Epoch 36/100\n",
            "32/32 [==============================] - 0s 2ms/step - loss: 0.4289 - accuracy: 0.8611 - val_loss: 0.4031 - val_accuracy: 0.8758\n",
            "Epoch 37/100\n",
            "32/32 [==============================] - 0s 2ms/step - loss: 0.4219 - accuracy: 0.8591 - val_loss: 0.3963 - val_accuracy: 0.8725\n",
            "Epoch 38/100\n",
            "32/32 [==============================] - 0s 3ms/step - loss: 0.4151 - accuracy: 0.8640 - val_loss: 0.3886 - val_accuracy: 0.8791\n",
            "Epoch 39/100\n",
            "32/32 [==============================] - 0s 3ms/step - loss: 0.4085 - accuracy: 0.8620 - val_loss: 0.3825 - val_accuracy: 0.8725\n",
            "Epoch 40/100\n",
            "32/32 [==============================] - 0s 2ms/step - loss: 0.4022 - accuracy: 0.8659 - val_loss: 0.3758 - val_accuracy: 0.8725\n",
            "Epoch 41/100\n",
            "32/32 [==============================] - 0s 2ms/step - loss: 0.3963 - accuracy: 0.8659 - val_loss: 0.3694 - val_accuracy: 0.8758\n",
            "Epoch 42/100\n",
            "32/32 [==============================] - 0s 2ms/step - loss: 0.3907 - accuracy: 0.8679 - val_loss: 0.3638 - val_accuracy: 0.8725\n",
            "Epoch 43/100\n",
            "32/32 [==============================] - 0s 2ms/step - loss: 0.3853 - accuracy: 0.8650 - val_loss: 0.3579 - val_accuracy: 0.8791\n",
            "Epoch 44/100\n",
            "32/32 [==============================] - 0s 2ms/step - loss: 0.3803 - accuracy: 0.8669 - val_loss: 0.3526 - val_accuracy: 0.8791\n",
            "Epoch 45/100\n",
            "32/32 [==============================] - 0s 2ms/step - loss: 0.3754 - accuracy: 0.8679 - val_loss: 0.3474 - val_accuracy: 0.8791\n",
            "Epoch 46/100\n",
            "32/32 [==============================] - 0s 3ms/step - loss: 0.3713 - accuracy: 0.8679 - val_loss: 0.3429 - val_accuracy: 0.8824\n",
            "Epoch 47/100\n",
            "32/32 [==============================] - 0s 3ms/step - loss: 0.3673 - accuracy: 0.8679 - val_loss: 0.3384 - val_accuracy: 0.8824\n",
            "Epoch 48/100\n",
            "32/32 [==============================] - 0s 2ms/step - loss: 0.3630 - accuracy: 0.8669 - val_loss: 0.3350 - val_accuracy: 0.8856\n",
            "Epoch 49/100\n",
            "32/32 [==============================] - 0s 3ms/step - loss: 0.3596 - accuracy: 0.8679 - val_loss: 0.3313 - val_accuracy: 0.8824\n",
            "Epoch 50/100\n",
            "32/32 [==============================] - 0s 3ms/step - loss: 0.3564 - accuracy: 0.8689 - val_loss: 0.3273 - val_accuracy: 0.8889\n",
            "Epoch 51/100\n",
            "32/32 [==============================] - 0s 3ms/step - loss: 0.3527 - accuracy: 0.8708 - val_loss: 0.3246 - val_accuracy: 0.8791\n",
            "Epoch 52/100\n",
            "32/32 [==============================] - 0s 2ms/step - loss: 0.3496 - accuracy: 0.8699 - val_loss: 0.3211 - val_accuracy: 0.8791\n",
            "Epoch 53/100\n",
            "32/32 [==============================] - 0s 2ms/step - loss: 0.3466 - accuracy: 0.8738 - val_loss: 0.3175 - val_accuracy: 0.8889\n",
            "Epoch 54/100\n",
            "32/32 [==============================] - 0s 3ms/step - loss: 0.3436 - accuracy: 0.8689 - val_loss: 0.3137 - val_accuracy: 0.8889\n",
            "Epoch 55/100\n",
            "32/32 [==============================] - 0s 2ms/step - loss: 0.3415 - accuracy: 0.8718 - val_loss: 0.3116 - val_accuracy: 0.8889\n",
            "Epoch 56/100\n",
            "32/32 [==============================] - 0s 2ms/step - loss: 0.3387 - accuracy: 0.8748 - val_loss: 0.3084 - val_accuracy: 0.8889\n",
            "Epoch 57/100\n",
            "32/32 [==============================] - 0s 2ms/step - loss: 0.3366 - accuracy: 0.8757 - val_loss: 0.3059 - val_accuracy: 0.8889\n",
            "Epoch 58/100\n",
            "32/32 [==============================] - 0s 2ms/step - loss: 0.3340 - accuracy: 0.8738 - val_loss: 0.3064 - val_accuracy: 0.8824\n",
            "Epoch 59/100\n",
            "32/32 [==============================] - 0s 3ms/step - loss: 0.3325 - accuracy: 0.8708 - val_loss: 0.3022 - val_accuracy: 0.8922\n",
            "Epoch 60/100\n",
            "32/32 [==============================] - 0s 3ms/step - loss: 0.3306 - accuracy: 0.8708 - val_loss: 0.2992 - val_accuracy: 0.8922\n",
            "Epoch 61/100\n",
            "32/32 [==============================] - 0s 4ms/step - loss: 0.3282 - accuracy: 0.8728 - val_loss: 0.2976 - val_accuracy: 0.8922\n",
            "Epoch 62/100\n",
            "32/32 [==============================] - 0s 3ms/step - loss: 0.3265 - accuracy: 0.8728 - val_loss: 0.2946 - val_accuracy: 0.8922\n",
            "Epoch 63/100\n",
            "32/32 [==============================] - 0s 3ms/step - loss: 0.3248 - accuracy: 0.8738 - val_loss: 0.2944 - val_accuracy: 0.8889\n",
            "Epoch 64/100\n",
            "32/32 [==============================] - 0s 2ms/step - loss: 0.3223 - accuracy: 0.8748 - val_loss: 0.2906 - val_accuracy: 0.8922\n",
            "Epoch 65/100\n",
            "32/32 [==============================] - 0s 3ms/step - loss: 0.3216 - accuracy: 0.8748 - val_loss: 0.2899 - val_accuracy: 0.8922\n",
            "Epoch 66/100\n",
            "32/32 [==============================] - 0s 3ms/step - loss: 0.3198 - accuracy: 0.8738 - val_loss: 0.2883 - val_accuracy: 0.8889\n",
            "Epoch 67/100\n",
            "32/32 [==============================] - 0s 2ms/step - loss: 0.3189 - accuracy: 0.8787 - val_loss: 0.2857 - val_accuracy: 0.8954\n",
            "Epoch 68/100\n",
            "32/32 [==============================] - 0s 3ms/step - loss: 0.3165 - accuracy: 0.8718 - val_loss: 0.2871 - val_accuracy: 0.8987\n",
            "Epoch 69/100\n",
            "32/32 [==============================] - 0s 2ms/step - loss: 0.3152 - accuracy: 0.8767 - val_loss: 0.2824 - val_accuracy: 0.8954\n",
            "Epoch 70/100\n",
            "32/32 [==============================] - 0s 2ms/step - loss: 0.3148 - accuracy: 0.8757 - val_loss: 0.2817 - val_accuracy: 0.8987\n",
            "Epoch 71/100\n",
            "32/32 [==============================] - 0s 2ms/step - loss: 0.3129 - accuracy: 0.8767 - val_loss: 0.2794 - val_accuracy: 0.8954\n",
            "Epoch 72/100\n",
            "32/32 [==============================] - 0s 3ms/step - loss: 0.3124 - accuracy: 0.8777 - val_loss: 0.2787 - val_accuracy: 0.8987\n",
            "Epoch 73/100\n",
            "32/32 [==============================] - 0s 2ms/step - loss: 0.3105 - accuracy: 0.8757 - val_loss: 0.2795 - val_accuracy: 0.8987\n",
            "Epoch 74/100\n",
            "32/32 [==============================] - 0s 2ms/step - loss: 0.3094 - accuracy: 0.8826 - val_loss: 0.2762 - val_accuracy: 0.9020\n",
            "Epoch 75/100\n",
            "32/32 [==============================] - 0s 3ms/step - loss: 0.3086 - accuracy: 0.8777 - val_loss: 0.2751 - val_accuracy: 0.9020\n",
            "Epoch 76/100\n",
            "32/32 [==============================] - 0s 3ms/step - loss: 0.3074 - accuracy: 0.8757 - val_loss: 0.2760 - val_accuracy: 0.8987\n",
            "Epoch 77/100\n",
            "32/32 [==============================] - 0s 2ms/step - loss: 0.3061 - accuracy: 0.8816 - val_loss: 0.2726 - val_accuracy: 0.9020\n",
            "Epoch 78/100\n",
            "32/32 [==============================] - 0s 2ms/step - loss: 0.3058 - accuracy: 0.8767 - val_loss: 0.2714 - val_accuracy: 0.9020\n",
            "Epoch 79/100\n",
            "32/32 [==============================] - 0s 2ms/step - loss: 0.3043 - accuracy: 0.8796 - val_loss: 0.2705 - val_accuracy: 0.8987\n",
            "Epoch 80/100\n",
            "32/32 [==============================] - 0s 3ms/step - loss: 0.3034 - accuracy: 0.8777 - val_loss: 0.2686 - val_accuracy: 0.9052\n",
            "Epoch 81/100\n",
            "32/32 [==============================] - 0s 2ms/step - loss: 0.3026 - accuracy: 0.8748 - val_loss: 0.2698 - val_accuracy: 0.9052\n",
            "Epoch 82/100\n",
            "32/32 [==============================] - 0s 3ms/step - loss: 0.3011 - accuracy: 0.8806 - val_loss: 0.2664 - val_accuracy: 0.9052\n",
            "Epoch 83/100\n",
            "32/32 [==============================] - 0s 3ms/step - loss: 0.3007 - accuracy: 0.8748 - val_loss: 0.2676 - val_accuracy: 0.9052\n",
            "Epoch 84/100\n",
            "32/32 [==============================] - 0s 3ms/step - loss: 0.2992 - accuracy: 0.8777 - val_loss: 0.2705 - val_accuracy: 0.8987\n",
            "Epoch 85/100\n",
            "32/32 [==============================] - 0s 3ms/step - loss: 0.2990 - accuracy: 0.8806 - val_loss: 0.2639 - val_accuracy: 0.9085\n",
            "Epoch 86/100\n",
            "32/32 [==============================] - 0s 2ms/step - loss: 0.2983 - accuracy: 0.8757 - val_loss: 0.2639 - val_accuracy: 0.9020\n",
            "Epoch 87/100\n",
            "32/32 [==============================] - 0s 2ms/step - loss: 0.2965 - accuracy: 0.8767 - val_loss: 0.2615 - val_accuracy: 0.9052\n",
            "Epoch 88/100\n",
            "32/32 [==============================] - 0s 2ms/step - loss: 0.2966 - accuracy: 0.8748 - val_loss: 0.2611 - val_accuracy: 0.9085\n",
            "Epoch 89/100\n",
            "32/32 [==============================] - 0s 3ms/step - loss: 0.2959 - accuracy: 0.8738 - val_loss: 0.2625 - val_accuracy: 0.9052\n",
            "Epoch 90/100\n",
            "32/32 [==============================] - 0s 2ms/step - loss: 0.2945 - accuracy: 0.8777 - val_loss: 0.2589 - val_accuracy: 0.9118\n",
            "Epoch 91/100\n",
            "32/32 [==============================] - 0s 3ms/step - loss: 0.2944 - accuracy: 0.8738 - val_loss: 0.2595 - val_accuracy: 0.9118\n",
            "Epoch 92/100\n",
            "32/32 [==============================] - 0s 2ms/step - loss: 0.2933 - accuracy: 0.8738 - val_loss: 0.2577 - val_accuracy: 0.9020\n",
            "Epoch 93/100\n",
            "32/32 [==============================] - 0s 3ms/step - loss: 0.2933 - accuracy: 0.8777 - val_loss: 0.2581 - val_accuracy: 0.9118\n",
            "Epoch 94/100\n",
            "32/32 [==============================] - 0s 2ms/step - loss: 0.2922 - accuracy: 0.8787 - val_loss: 0.2566 - val_accuracy: 0.9118\n",
            "Epoch 95/100\n",
            "32/32 [==============================] - 0s 3ms/step - loss: 0.2921 - accuracy: 0.8728 - val_loss: 0.2563 - val_accuracy: 0.9118\n",
            "Epoch 96/100\n",
            "32/32 [==============================] - 0s 3ms/step - loss: 0.2904 - accuracy: 0.8738 - val_loss: 0.2550 - val_accuracy: 0.9118\n",
            "Epoch 97/100\n",
            "32/32 [==============================] - 0s 3ms/step - loss: 0.2901 - accuracy: 0.8767 - val_loss: 0.2536 - val_accuracy: 0.9118\n",
            "Epoch 98/100\n",
            "32/32 [==============================] - 0s 3ms/step - loss: 0.2893 - accuracy: 0.8738 - val_loss: 0.2532 - val_accuracy: 0.9150\n",
            "Epoch 99/100\n",
            "32/32 [==============================] - 0s 3ms/step - loss: 0.2886 - accuracy: 0.8777 - val_loss: 0.2521 - val_accuracy: 0.9118\n",
            "Epoch 100/100\n",
            "32/32 [==============================] - 0s 2ms/step - loss: 0.2876 - accuracy: 0.8796 - val_loss: 0.2517 - val_accuracy: 0.9150\n"
          ]
        }
      ]
    },
    {
      "cell_type": "code",
      "metadata": {
        "colab": {
          "base_uri": "https://localhost:8080/",
          "height": 295
        },
        "id": "behJETOKJIvM",
        "outputId": "ca996ab3-3e11-4856-abab-cba6fefe5abd"
      },
      "source": [
        "import matplotlib.pyplot as plt\n",
        "\n",
        "plt.plot(hist.history['loss'])\n",
        "plt.plot(hist.history['val_loss'])\n",
        "plt.title('Model loss')\n",
        "plt.ylabel('Loss')\n",
        "plt.xlabel('Epoch')\n",
        "plt.legend(['Train', 'Val'], loc='upper right')\n",
        "plt.show()"
      ],
      "execution_count": 25,
      "outputs": [
        {
          "output_type": "display_data",
          "data": {
            "image/png": "[encoded data removed]",
            "text/plain": [
              "<Figure size 432x288 with 1 Axes>"
            ]
          },
          "metadata": {
            "needs_background": "light"
          }
        }
      ]
    },
    {
      "cell_type": "code",
      "metadata": {
        "colab": {
          "base_uri": "https://localhost:8080/",
          "height": 295
        },
        "id": "INOtL1haJRDs",
        "outputId": "1ce917aa-7d0b-45ba-9653-2d4bae1b6190"
      },
      "source": [
        "import matplotlib.pyplot as plt\n",
        "plt.plot(hist.history['accuracy'])\n",
        "plt.plot(hist.history['val_accuracy'])\n",
        "plt.title('Model accuracy')\n",
        "plt.ylabel('Accuracy')\n",
        "plt.xlabel('Epoch')\n",
        "plt.legend(['Train', 'Val'], loc='lower right')\n",
        "plt.show()"
      ],
      "execution_count": 26,
      "outputs": [
        {
          "output_type": "display_data",
          "data": {
            "image/png": "[encoded data removed]",
            "text/plain": [
              "<Figure size 432x288 with 1 Axes>"
            ]
          },
          "metadata": {
            "needs_background": "light"
          }
        }
      ]
    },
    {
      "cell_type": "code",
      "metadata": {
        "id": "ivXP_ic5JWRE"
      },
      "source": [
        "model_2 = Sequential([\n",
        "Dense(1000, activation='relu', input_shape=(10,)),\n",
        "Dense(1000, activation='relu'),\n",
        "Dense(1000, activation='relu'),\n",
        "Dense(1000, activation='relu'),\n",
        "Dense(1, activation='sigmoid'),\n",
        "])"
      ],
      "execution_count": 27,
      "outputs": []
    },
    {
      "cell_type": "code",
      "metadata": {
        "id": "bAmnQoxkJcrc"
      },
      "source": [
        "model_2.compile(optimizer='adam',\n",
        "loss='binary_crossentropy',\n",
        "metrics=['accuracy'])"
      ],
      "execution_count": 28,
      "outputs": []
    },
    {
      "cell_type": "code",
      "metadata": {
        "colab": {
          "base_uri": "https://localhost:8080/"
        },
        "id": "-6ZRbLElJeSU",
        "outputId": "f621fd8f-b92e-4b2b-bda1-d713a542fd1d"
      },
      "source": [
        "hist_2 = model_2.fit(X_train, Y_train,\n",
        "batch_size=32, epochs=100,\n",
        "validation_data=(X_val, Y_val))"
      ],
      "execution_count": 29,
      "outputs": [
        {
          "output_type": "stream",
          "name": "stdout",
          "text": [
            "Epoch 1/100\n",
            "32/32 [==============================] - 2s 46ms/step - loss: 0.4853 - accuracy: 0.7720 - val_loss: 0.3772 - val_accuracy: 0.8399\n",
            "Epoch 2/100\n",
            "32/32 [==============================] - 1s 38ms/step - loss: 0.3773 - accuracy: 0.8552 - val_loss: 0.4830 - val_accuracy: 0.8268\n",
            "Epoch 3/100\n",
            "32/32 [==============================] - 1s 38ms/step - loss: 0.3422 - accuracy: 0.8503 - val_loss: 0.2853 - val_accuracy: 0.8954\n",
            "Epoch 4/100\n",
            "32/32 [==============================] - 1s 37ms/step - loss: 0.2803 - accuracy: 0.8757 - val_loss: 0.2548 - val_accuracy: 0.9085\n",
            "Epoch 5/100\n",
            "32/32 [==============================] - 1s 37ms/step - loss: 0.2809 - accuracy: 0.8787 - val_loss: 0.2465 - val_accuracy: 0.8987\n",
            "Epoch 6/100\n",
            "32/32 [==============================] - 1s 38ms/step - loss: 0.2421 - accuracy: 0.8894 - val_loss: 0.2294 - val_accuracy: 0.9150\n",
            "Epoch 7/100\n",
            "32/32 [==============================] - 1s 38ms/step - loss: 0.3058 - accuracy: 0.8748 - val_loss: 0.2756 - val_accuracy: 0.9020\n",
            "Epoch 8/100\n",
            "32/32 [==============================] - 1s 38ms/step - loss: 0.2575 - accuracy: 0.8845 - val_loss: 0.2203 - val_accuracy: 0.9150\n",
            "Epoch 9/100\n",
            "32/32 [==============================] - 1s 38ms/step - loss: 0.2324 - accuracy: 0.8943 - val_loss: 0.2506 - val_accuracy: 0.9052\n",
            "Epoch 10/100\n",
            "32/32 [==============================] - 1s 38ms/step - loss: 0.2416 - accuracy: 0.8963 - val_loss: 0.2262 - val_accuracy: 0.9183\n",
            "Epoch 11/100\n",
            "32/32 [==============================] - 1s 38ms/step - loss: 0.2649 - accuracy: 0.8904 - val_loss: 0.2515 - val_accuracy: 0.9248\n",
            "Epoch 12/100\n",
            "32/32 [==============================] - 1s 38ms/step - loss: 0.2335 - accuracy: 0.9080 - val_loss: 0.2491 - val_accuracy: 0.9020\n",
            "Epoch 13/100\n",
            "32/32 [==============================] - 1s 38ms/step - loss: 0.2260 - accuracy: 0.9022 - val_loss: 0.2352 - val_accuracy: 0.9020\n",
            "Epoch 14/100\n",
            "32/32 [==============================] - 1s 38ms/step - loss: 0.2207 - accuracy: 0.9080 - val_loss: 0.2333 - val_accuracy: 0.9216\n",
            "Epoch 15/100\n",
            "32/32 [==============================] - 1s 37ms/step - loss: 0.2085 - accuracy: 0.9080 - val_loss: 0.2151 - val_accuracy: 0.9150\n",
            "Epoch 16/100\n",
            "32/32 [==============================] - 1s 39ms/step - loss: 0.2201 - accuracy: 0.8943 - val_loss: 0.2222 - val_accuracy: 0.9216\n",
            "Epoch 17/100\n",
            "32/32 [==============================] - 1s 40ms/step - loss: 0.2120 - accuracy: 0.9100 - val_loss: 0.2158 - val_accuracy: 0.9248\n",
            "Epoch 18/100\n",
            "32/32 [==============================] - 1s 39ms/step - loss: 0.2088 - accuracy: 0.9070 - val_loss: 0.2229 - val_accuracy: 0.9216\n",
            "Epoch 19/100\n",
            "32/32 [==============================] - 1s 38ms/step - loss: 0.2233 - accuracy: 0.9070 - val_loss: 0.2124 - val_accuracy: 0.9150\n",
            "Epoch 20/100\n",
            "32/32 [==============================] - 1s 37ms/step - loss: 0.2204 - accuracy: 0.9031 - val_loss: 0.2194 - val_accuracy: 0.9216\n",
            "Epoch 21/100\n",
            "32/32 [==============================] - 1s 38ms/step - loss: 0.2259 - accuracy: 0.9070 - val_loss: 0.2308 - val_accuracy: 0.8889\n",
            "Epoch 22/100\n",
            "32/32 [==============================] - 1s 37ms/step - loss: 0.2543 - accuracy: 0.9012 - val_loss: 0.2269 - val_accuracy: 0.8987\n",
            "Epoch 23/100\n",
            "32/32 [==============================] - 1s 38ms/step - loss: 0.2135 - accuracy: 0.9070 - val_loss: 0.2274 - val_accuracy: 0.9248\n",
            "Epoch 24/100\n",
            "32/32 [==============================] - 1s 38ms/step - loss: 0.2034 - accuracy: 0.9080 - val_loss: 0.2430 - val_accuracy: 0.8987\n",
            "Epoch 25/100\n",
            "32/32 [==============================] - 1s 39ms/step - loss: 0.2052 - accuracy: 0.9080 - val_loss: 0.2237 - val_accuracy: 0.9248\n",
            "Epoch 26/100\n",
            "32/32 [==============================] - 1s 39ms/step - loss: 0.2285 - accuracy: 0.9110 - val_loss: 0.2170 - val_accuracy: 0.9052\n",
            "Epoch 27/100\n",
            "32/32 [==============================] - 1s 38ms/step - loss: 0.2303 - accuracy: 0.8973 - val_loss: 0.2196 - val_accuracy: 0.9118\n",
            "Epoch 28/100\n",
            "32/32 [==============================] - 1s 38ms/step - loss: 0.2042 - accuracy: 0.9149 - val_loss: 0.2155 - val_accuracy: 0.9118\n",
            "Epoch 29/100\n",
            "32/32 [==============================] - 1s 36ms/step - loss: 0.2059 - accuracy: 0.9139 - val_loss: 0.2523 - val_accuracy: 0.8987\n",
            "Epoch 30/100\n",
            "32/32 [==============================] - 1s 37ms/step - loss: 0.1989 - accuracy: 0.9168 - val_loss: 0.2295 - val_accuracy: 0.9085\n",
            "Epoch 31/100\n",
            "32/32 [==============================] - 1s 39ms/step - loss: 0.2006 - accuracy: 0.9139 - val_loss: 0.2281 - val_accuracy: 0.9118\n",
            "Epoch 32/100\n",
            "32/32 [==============================] - 1s 37ms/step - loss: 0.1869 - accuracy: 0.9227 - val_loss: 0.2549 - val_accuracy: 0.9216\n",
            "Epoch 33/100\n",
            "32/32 [==============================] - 1s 39ms/step - loss: 0.2041 - accuracy: 0.9070 - val_loss: 0.2303 - val_accuracy: 0.9085\n",
            "Epoch 34/100\n",
            "32/32 [==============================] - 1s 38ms/step - loss: 0.1903 - accuracy: 0.9178 - val_loss: 0.2386 - val_accuracy: 0.9150\n",
            "Epoch 35/100\n",
            "32/32 [==============================] - 1s 37ms/step - loss: 0.2173 - accuracy: 0.9159 - val_loss: 0.2407 - val_accuracy: 0.9216\n",
            "Epoch 36/100\n",
            "32/32 [==============================] - 1s 37ms/step - loss: 0.1862 - accuracy: 0.9188 - val_loss: 0.2558 - val_accuracy: 0.9118\n",
            "Epoch 37/100\n",
            "32/32 [==============================] - 1s 36ms/step - loss: 0.1816 - accuracy: 0.9178 - val_loss: 0.2235 - val_accuracy: 0.9346\n",
            "Epoch 38/100\n",
            "32/32 [==============================] - 1s 38ms/step - loss: 0.1864 - accuracy: 0.9178 - val_loss: 0.2502 - val_accuracy: 0.9118\n",
            "Epoch 39/100\n",
            "32/32 [==============================] - 1s 37ms/step - loss: 0.1859 - accuracy: 0.9315 - val_loss: 0.2891 - val_accuracy: 0.9216\n",
            "Epoch 40/100\n",
            "32/32 [==============================] - 1s 39ms/step - loss: 0.1726 - accuracy: 0.9207 - val_loss: 0.2459 - val_accuracy: 0.9281\n",
            "Epoch 41/100\n",
            "32/32 [==============================] - 1s 38ms/step - loss: 0.1871 - accuracy: 0.9207 - val_loss: 0.2462 - val_accuracy: 0.9150\n",
            "Epoch 42/100\n",
            "32/32 [==============================] - 1s 38ms/step - loss: 0.1766 - accuracy: 0.9305 - val_loss: 0.2710 - val_accuracy: 0.9248\n",
            "Epoch 43/100\n",
            "32/32 [==============================] - 1s 40ms/step - loss: 0.1801 - accuracy: 0.9256 - val_loss: 0.2619 - val_accuracy: 0.9379\n",
            "Epoch 44/100\n",
            "32/32 [==============================] - 1s 37ms/step - loss: 0.1791 - accuracy: 0.9178 - val_loss: 0.2509 - val_accuracy: 0.9183\n",
            "Epoch 45/100\n",
            "32/32 [==============================] - 1s 38ms/step - loss: 0.1684 - accuracy: 0.9266 - val_loss: 0.2932 - val_accuracy: 0.9150\n",
            "Epoch 46/100\n",
            "32/32 [==============================] - 1s 36ms/step - loss: 0.1895 - accuracy: 0.9198 - val_loss: 0.2781 - val_accuracy: 0.9118\n",
            "Epoch 47/100\n",
            "32/32 [==============================] - 1s 37ms/step - loss: 0.1912 - accuracy: 0.9178 - val_loss: 0.2826 - val_accuracy: 0.9085\n",
            "Epoch 48/100\n",
            "32/32 [==============================] - 1s 37ms/step - loss: 0.1873 - accuracy: 0.9247 - val_loss: 0.2682 - val_accuracy: 0.9020\n",
            "Epoch 49/100\n",
            "32/32 [==============================] - 1s 40ms/step - loss: 0.1604 - accuracy: 0.9247 - val_loss: 0.3435 - val_accuracy: 0.9052\n",
            "Epoch 50/100\n",
            "32/32 [==============================] - 1s 40ms/step - loss: 0.1791 - accuracy: 0.9247 - val_loss: 0.2318 - val_accuracy: 0.9346\n",
            "Epoch 51/100\n",
            "32/32 [==============================] - 1s 38ms/step - loss: 0.1891 - accuracy: 0.9237 - val_loss: 0.2493 - val_accuracy: 0.9150\n",
            "Epoch 52/100\n",
            "32/32 [==============================] - 1s 38ms/step - loss: 0.1626 - accuracy: 0.9227 - val_loss: 0.2299 - val_accuracy: 0.9183\n",
            "Epoch 53/100\n",
            "32/32 [==============================] - 1s 37ms/step - loss: 0.1800 - accuracy: 0.9276 - val_loss: 0.2535 - val_accuracy: 0.9248\n",
            "Epoch 54/100\n",
            "32/32 [==============================] - 1s 38ms/step - loss: 0.1679 - accuracy: 0.9305 - val_loss: 0.3208 - val_accuracy: 0.9281\n",
            "Epoch 55/100\n",
            "32/32 [==============================] - 1s 38ms/step - loss: 0.1720 - accuracy: 0.9286 - val_loss: 0.2889 - val_accuracy: 0.9346\n",
            "Epoch 56/100\n",
            "32/32 [==============================] - 1s 37ms/step - loss: 0.1755 - accuracy: 0.9217 - val_loss: 0.3073 - val_accuracy: 0.9150\n",
            "Epoch 57/100\n",
            "32/32 [==============================] - 1s 41ms/step - loss: 0.1797 - accuracy: 0.9188 - val_loss: 0.3440 - val_accuracy: 0.8987\n",
            "Epoch 58/100\n",
            "32/32 [==============================] - 1s 40ms/step - loss: 0.1609 - accuracy: 0.9286 - val_loss: 0.2576 - val_accuracy: 0.9216\n",
            "Epoch 59/100\n",
            "32/32 [==============================] - 1s 39ms/step - loss: 0.1464 - accuracy: 0.9442 - val_loss: 0.3601 - val_accuracy: 0.9118\n",
            "Epoch 60/100\n",
            "32/32 [==============================] - 1s 38ms/step - loss: 0.1569 - accuracy: 0.9227 - val_loss: 0.2685 - val_accuracy: 0.9216\n",
            "Epoch 61/100\n",
            "32/32 [==============================] - 1s 38ms/step - loss: 0.1544 - accuracy: 0.9325 - val_loss: 0.2928 - val_accuracy: 0.9248\n",
            "Epoch 62/100\n",
            "32/32 [==============================] - 1s 39ms/step - loss: 0.1691 - accuracy: 0.9256 - val_loss: 0.3362 - val_accuracy: 0.9248\n",
            "Epoch 63/100\n",
            "32/32 [==============================] - 1s 37ms/step - loss: 0.1546 - accuracy: 0.9374 - val_loss: 0.3245 - val_accuracy: 0.9150\n",
            "Epoch 64/100\n",
            "32/32 [==============================] - 1s 38ms/step - loss: 0.1802 - accuracy: 0.9354 - val_loss: 0.3359 - val_accuracy: 0.9216\n",
            "Epoch 65/100\n",
            "32/32 [==============================] - 1s 41ms/step - loss: 0.1610 - accuracy: 0.9247 - val_loss: 0.3197 - val_accuracy: 0.9183\n",
            "Epoch 66/100\n",
            "32/32 [==============================] - 1s 41ms/step - loss: 0.1671 - accuracy: 0.9247 - val_loss: 0.2766 - val_accuracy: 0.9183\n",
            "Epoch 67/100\n",
            "32/32 [==============================] - 1s 40ms/step - loss: 0.1684 - accuracy: 0.9276 - val_loss: 0.3101 - val_accuracy: 0.9150\n",
            "Epoch 68/100\n",
            "32/32 [==============================] - 1s 39ms/step - loss: 0.1770 - accuracy: 0.9217 - val_loss: 0.3078 - val_accuracy: 0.9281\n",
            "Epoch 69/100\n",
            "32/32 [==============================] - 1s 39ms/step - loss: 0.1580 - accuracy: 0.9325 - val_loss: 0.3159 - val_accuracy: 0.9020\n",
            "Epoch 70/100\n",
            "32/32 [==============================] - 1s 39ms/step - loss: 0.1500 - accuracy: 0.9432 - val_loss: 0.3684 - val_accuracy: 0.9216\n",
            "Epoch 71/100\n",
            "32/32 [==============================] - 1s 39ms/step - loss: 0.1500 - accuracy: 0.9344 - val_loss: 0.3160 - val_accuracy: 0.9248\n",
            "Epoch 72/100\n",
            "32/32 [==============================] - 1s 39ms/step - loss: 0.1440 - accuracy: 0.9384 - val_loss: 0.3834 - val_accuracy: 0.9085\n",
            "Epoch 73/100\n",
            "32/32 [==============================] - 1s 41ms/step - loss: 0.1765 - accuracy: 0.9159 - val_loss: 0.2980 - val_accuracy: 0.9052\n",
            "Epoch 74/100\n",
            "32/32 [==============================] - 1s 40ms/step - loss: 0.1442 - accuracy: 0.9403 - val_loss: 0.3409 - val_accuracy: 0.9216\n",
            "Epoch 75/100\n",
            "32/32 [==============================] - 1s 42ms/step - loss: 0.1399 - accuracy: 0.9452 - val_loss: 0.3223 - val_accuracy: 0.9052\n",
            "Epoch 76/100\n",
            "32/32 [==============================] - 1s 39ms/step - loss: 0.1426 - accuracy: 0.9384 - val_loss: 0.3419 - val_accuracy: 0.9281\n",
            "Epoch 77/100\n",
            "32/32 [==============================] - 1s 38ms/step - loss: 0.1287 - accuracy: 0.9472 - val_loss: 0.3798 - val_accuracy: 0.9281\n",
            "Epoch 78/100\n",
            "32/32 [==============================] - 1s 39ms/step - loss: 0.1447 - accuracy: 0.9364 - val_loss: 0.3852 - val_accuracy: 0.9183\n",
            "Epoch 79/100\n",
            "32/32 [==============================] - 1s 39ms/step - loss: 0.1341 - accuracy: 0.9374 - val_loss: 0.3953 - val_accuracy: 0.9183\n",
            "Epoch 80/100\n",
            "32/32 [==============================] - 1s 38ms/step - loss: 0.1594 - accuracy: 0.9354 - val_loss: 0.3576 - val_accuracy: 0.9281\n",
            "Epoch 81/100\n",
            "32/32 [==============================] - 1s 39ms/step - loss: 0.1268 - accuracy: 0.9501 - val_loss: 0.3732 - val_accuracy: 0.9118\n",
            "Epoch 82/100\n",
            "32/32 [==============================] - 1s 39ms/step - loss: 0.1519 - accuracy: 0.9442 - val_loss: 0.2797 - val_accuracy: 0.9248\n",
            "Epoch 83/100\n",
            "32/32 [==============================] - 1s 40ms/step - loss: 0.1477 - accuracy: 0.9295 - val_loss: 0.3537 - val_accuracy: 0.9118\n",
            "Epoch 84/100\n",
            "32/32 [==============================] - 1s 39ms/step - loss: 0.1448 - accuracy: 0.9413 - val_loss: 0.3779 - val_accuracy: 0.9085\n",
            "Epoch 85/100\n",
            "32/32 [==============================] - 1s 39ms/step - loss: 0.1192 - accuracy: 0.9540 - val_loss: 0.3579 - val_accuracy: 0.9216\n",
            "Epoch 86/100\n",
            "32/32 [==============================] - 1s 39ms/step - loss: 0.1717 - accuracy: 0.9256 - val_loss: 0.2381 - val_accuracy: 0.9379\n",
            "Epoch 87/100\n",
            "32/32 [==============================] - 1s 40ms/step - loss: 0.1357 - accuracy: 0.9384 - val_loss: 0.3472 - val_accuracy: 0.9183\n",
            "Epoch 88/100\n",
            "32/32 [==============================] - 1s 42ms/step - loss: 0.1267 - accuracy: 0.9432 - val_loss: 0.4554 - val_accuracy: 0.9020\n",
            "Epoch 89/100\n",
            "32/32 [==============================] - 1s 41ms/step - loss: 0.1822 - accuracy: 0.9168 - val_loss: 0.3275 - val_accuracy: 0.8987\n",
            "Epoch 90/100\n",
            "32/32 [==============================] - 1s 41ms/step - loss: 0.1243 - accuracy: 0.9491 - val_loss: 0.3551 - val_accuracy: 0.9248\n",
            "Epoch 91/100\n",
            "32/32 [==============================] - 1s 40ms/step - loss: 0.1154 - accuracy: 0.9511 - val_loss: 0.3939 - val_accuracy: 0.9281\n",
            "Epoch 92/100\n",
            "32/32 [==============================] - 1s 39ms/step - loss: 0.1280 - accuracy: 0.9481 - val_loss: 0.3878 - val_accuracy: 0.8954\n",
            "Epoch 93/100\n",
            "32/32 [==============================] - 1s 39ms/step - loss: 0.1131 - accuracy: 0.9540 - val_loss: 0.4536 - val_accuracy: 0.9281\n",
            "Epoch 94/100\n",
            "32/32 [==============================] - 1s 39ms/step - loss: 0.1193 - accuracy: 0.9481 - val_loss: 0.5318 - val_accuracy: 0.9085\n",
            "Epoch 95/100\n",
            "32/32 [==============================] - 1s 40ms/step - loss: 0.1442 - accuracy: 0.9364 - val_loss: 0.3921 - val_accuracy: 0.9118\n",
            "Epoch 96/100\n",
            "32/32 [==============================] - 1s 40ms/step - loss: 0.1200 - accuracy: 0.9569 - val_loss: 0.3546 - val_accuracy: 0.9346\n",
            "Epoch 97/100\n",
            "32/32 [==============================] - 1s 41ms/step - loss: 0.1067 - accuracy: 0.9511 - val_loss: 0.4478 - val_accuracy: 0.9118\n",
            "Epoch 98/100\n",
            "32/32 [==============================] - 1s 40ms/step - loss: 0.1144 - accuracy: 0.9540 - val_loss: 0.4520 - val_accuracy: 0.9052\n",
            "Epoch 99/100\n",
            "32/32 [==============================] - 1s 41ms/step - loss: 0.1294 - accuracy: 0.9452 - val_loss: 0.3824 - val_accuracy: 0.9150\n",
            "Epoch 100/100\n",
            "32/32 [==============================] - 1s 39ms/step - loss: 0.1174 - accuracy: 0.9511 - val_loss: 0.3773 - val_accuracy: 0.9248\n"
          ]
        }
      ]
    },
    {
      "cell_type": "code",
      "metadata": {
        "colab": {
          "base_uri": "https://localhost:8080/",
          "height": 295
        },
        "id": "e8txNbCeKCV2",
        "outputId": "de1b2caa-8758-46d0-907c-2617347b916a"
      },
      "source": [
        "plt.plot(hist_2.history['loss'])\n",
        "plt.plot(hist_2.history['val_loss'])\n",
        "plt.title('Model loss')\n",
        "plt.ylabel('Loss')\n",
        "plt.xlabel('Epoch')\n",
        "plt.legend(['Train', 'Val'], loc='upper right')\n",
        "plt.show()"
      ],
      "execution_count": 30,
      "outputs": [
        {
          "output_type": "display_data",
          "data": {
            "image/png": "[encoded data removed]",
            "text/plain": [
              "<Figure size 432x288 with 1 Axes>"
            ]
          },
          "metadata": {
            "needs_background": "light"
          }
        }
      ]
    },
    {
      "cell_type": "code",
      "metadata": {
        "colab": {
          "base_uri": "https://localhost:8080/",
          "height": 295
        },
        "id": "cRPLu4N3KqRM",
        "outputId": "78aa961a-0958-4480-fc48-4dd929220707"
      },
      "source": [
        "plt.plot(hist_2.history['accuracy'])\n",
        "plt.plot(hist_2.history['val_accuracy'])\n",
        "plt.title('Model accuracy')\n",
        "plt.ylabel('Accuracy')\n",
        "plt.xlabel('Epoch')\n",
        "plt.legend(['Train', 'Val'], loc='lower right')\n",
        "plt.show()"
      ],
      "execution_count": 31,
      "outputs": [
        {
          "output_type": "display_data",
          "data": {
            "image/png": "[encoded data removed]",
            "text/plain": [
              "<Figure size 432x288 with 1 Axes>"
            ]
          },
          "metadata": {
            "needs_background": "light"
          }
        }
      ]
    },
    {
      "cell_type": "code",
      "metadata": {
        "id": "VU57HYjRKwbE"
      },
      "source": [
        "from keras.layers import Dropout\n",
        "from keras import regularizers"
      ],
      "execution_count": 32,
      "outputs": []
    },
    {
      "cell_type": "code",
      "metadata": {
        "id": "y5sJWAMZKzgE"
      },
      "source": [
        "model_3 = Sequential([\n",
        "Dense(1000, activation='relu', kernel_regularizer=regularizers.l2(0.01), input_shape=(10,)),\n",
        "Dropout(0.3),\n",
        "Dense(1000, activation='relu', kernel_regularizer=regularizers.l2(0.01)),\n",
        "Dropout(0.3),\n",
        "Dense(1000, activation='relu', kernel_regularizer=regularizers.l2(0.01)),\n",
        "Dropout(0.3),\n",
        "Dense(1000, activation='relu', kernel_regularizer=regularizers.l2(0.01)),\n",
        "Dropout(0.3),\n",
        "Dense(1, activation='sigmoid', kernel_regularizer=regularizers.l2(0.01)),\n",
        "])\n",
        "model_3.compile(optimizer='adam',\n",
        "loss='binary_crossentropy',\n",
        "metrics=['accuracy'])"
      ],
      "execution_count": 40,
      "outputs": []
    },
    {
      "cell_type": "code",
      "metadata": {
        "colab": {
          "base_uri": "https://localhost:8080/"
        },
        "id": "DmA-IBDiMCB0",
        "outputId": "93f376b9-0acd-4faf-e231-bfb87ff98033"
      },
      "source": [
        "model_3.compile(optimizer='adam',\n",
        "loss='binary_crossentropy',\n",
        "metrics=['accuracy']),"
      ],
      "execution_count": 38,
      "outputs": [
        {
          "output_type": "execute_result",
          "data": {
            "text/plain": [
              "(None,)"
            ]
          },
          "metadata": {},
          "execution_count": 38
        }
      ]
    },
    {
      "cell_type": "code",
      "metadata": {
        "colab": {
          "base_uri": "https://localhost:8080/"
        },
        "id": "bXr5dvf9MMwr",
        "outputId": "f38bbded-3c91-49ac-c5a0-4e37e3255822"
      },
      "source": [
        "hist_3 = model_3.fit(X_train, Y_train,\n",
        "batch_size=32, epochs=100,\n",
        "validation_data=(X_val, Y_val))"
      ],
      "execution_count": 41,
      "outputs": [
        {
          "output_type": "stream",
          "name": "stdout",
          "text": [
            "Epoch 1/100\n",
            "32/32 [==============================] - 3s 61ms/step - loss: 14.2202 - accuracy: 0.6536 - val_loss: 3.8509 - val_accuracy: 0.8072\n",
            "Epoch 2/100\n",
            "32/32 [==============================] - 2s 53ms/step - loss: 1.6736 - accuracy: 0.8278 - val_loss: 0.6439 - val_accuracy: 0.8856\n",
            "Epoch 3/100\n",
            "32/32 [==============================] - 2s 49ms/step - loss: 0.6447 - accuracy: 0.8180 - val_loss: 0.5635 - val_accuracy: 0.8627\n",
            "Epoch 4/100\n",
            "32/32 [==============================] - 2s 48ms/step - loss: 0.5485 - accuracy: 0.8474 - val_loss: 0.4700 - val_accuracy: 0.8954\n",
            "Epoch 5/100\n",
            "32/32 [==============================] - 2s 50ms/step - loss: 0.5215 - accuracy: 0.8523 - val_loss: 0.5034 - val_accuracy: 0.8693\n",
            "Epoch 6/100\n",
            "32/32 [==============================] - 2s 51ms/step - loss: 0.4890 - accuracy: 0.8640 - val_loss: 0.4684 - val_accuracy: 0.8758\n",
            "Epoch 7/100\n",
            "32/32 [==============================] - 2s 51ms/step - loss: 0.4873 - accuracy: 0.8650 - val_loss: 0.4184 - val_accuracy: 0.9183\n",
            "Epoch 8/100\n",
            "32/32 [==============================] - 2s 52ms/step - loss: 0.4784 - accuracy: 0.8640 - val_loss: 0.4150 - val_accuracy: 0.9150\n",
            "Epoch 9/100\n",
            "32/32 [==============================] - 2s 49ms/step - loss: 0.4746 - accuracy: 0.8767 - val_loss: 0.4111 - val_accuracy: 0.9150\n",
            "Epoch 10/100\n",
            "32/32 [==============================] - 2s 50ms/step - loss: 0.4655 - accuracy: 0.8757 - val_loss: 0.4358 - val_accuracy: 0.8824\n",
            "Epoch 11/100\n",
            "32/32 [==============================] - 2s 50ms/step - loss: 0.4673 - accuracy: 0.8689 - val_loss: 0.4097 - val_accuracy: 0.9085\n",
            "Epoch 12/100\n",
            "32/32 [==============================] - 2s 50ms/step - loss: 0.4801 - accuracy: 0.8571 - val_loss: 0.4308 - val_accuracy: 0.8889\n",
            "Epoch 13/100\n",
            "32/32 [==============================] - 2s 51ms/step - loss: 0.4670 - accuracy: 0.8767 - val_loss: 0.4301 - val_accuracy: 0.9020\n",
            "Epoch 14/100\n",
            "32/32 [==============================] - 2s 50ms/step - loss: 0.4744 - accuracy: 0.8630 - val_loss: 0.4163 - val_accuracy: 0.8987\n",
            "Epoch 15/100\n",
            "32/32 [==============================] - 2s 50ms/step - loss: 0.4924 - accuracy: 0.8611 - val_loss: 0.4184 - val_accuracy: 0.9085\n",
            "Epoch 16/100\n",
            "32/32 [==============================] - 2s 50ms/step - loss: 0.4567 - accuracy: 0.8728 - val_loss: 0.3962 - val_accuracy: 0.9118\n",
            "Epoch 17/100\n",
            "32/32 [==============================] - 2s 51ms/step - loss: 0.4566 - accuracy: 0.8679 - val_loss: 0.4036 - val_accuracy: 0.9020\n",
            "Epoch 18/100\n",
            "32/32 [==============================] - 2s 48ms/step - loss: 0.4496 - accuracy: 0.8748 - val_loss: 0.4005 - val_accuracy: 0.9118\n",
            "Epoch 19/100\n",
            "32/32 [==============================] - 2s 50ms/step - loss: 0.4689 - accuracy: 0.8748 - val_loss: 0.4301 - val_accuracy: 0.9052\n",
            "Epoch 20/100\n",
            "32/32 [==============================] - 2s 51ms/step - loss: 0.4593 - accuracy: 0.8728 - val_loss: 0.4173 - val_accuracy: 0.9183\n",
            "Epoch 21/100\n",
            "32/32 [==============================] - 2s 49ms/step - loss: 0.4419 - accuracy: 0.8748 - val_loss: 0.3944 - val_accuracy: 0.9183\n",
            "Epoch 22/100\n",
            "32/32 [==============================] - 2s 49ms/step - loss: 0.4502 - accuracy: 0.8699 - val_loss: 0.3895 - val_accuracy: 0.9150\n",
            "Epoch 23/100\n",
            "32/32 [==============================] - 2s 49ms/step - loss: 0.4532 - accuracy: 0.8826 - val_loss: 0.4606 - val_accuracy: 0.8627\n",
            "Epoch 24/100\n",
            "32/32 [==============================] - 2s 50ms/step - loss: 0.4421 - accuracy: 0.8689 - val_loss: 0.3882 - val_accuracy: 0.9248\n",
            "Epoch 25/100\n",
            "32/32 [==============================] - 2s 49ms/step - loss: 0.4372 - accuracy: 0.8777 - val_loss: 0.4117 - val_accuracy: 0.9216\n",
            "Epoch 26/100\n",
            "32/32 [==============================] - 2s 50ms/step - loss: 0.4605 - accuracy: 0.8650 - val_loss: 0.4024 - val_accuracy: 0.9150\n",
            "Epoch 27/100\n",
            "32/32 [==============================] - 2s 49ms/step - loss: 0.4466 - accuracy: 0.8708 - val_loss: 0.3856 - val_accuracy: 0.9216\n",
            "Epoch 28/100\n",
            "32/32 [==============================] - 2s 49ms/step - loss: 0.4445 - accuracy: 0.8845 - val_loss: 0.4325 - val_accuracy: 0.9020\n",
            "Epoch 29/100\n",
            "32/32 [==============================] - 2s 50ms/step - loss: 0.4585 - accuracy: 0.8748 - val_loss: 0.4373 - val_accuracy: 0.8889\n",
            "Epoch 30/100\n",
            "32/32 [==============================] - 2s 48ms/step - loss: 0.4562 - accuracy: 0.8796 - val_loss: 0.4069 - val_accuracy: 0.9183\n",
            "Epoch 31/100\n",
            "32/32 [==============================] - 2s 49ms/step - loss: 0.4521 - accuracy: 0.8738 - val_loss: 0.4227 - val_accuracy: 0.9150\n",
            "Epoch 32/100\n",
            "32/32 [==============================] - 2s 49ms/step - loss: 0.4523 - accuracy: 0.8718 - val_loss: 0.3902 - val_accuracy: 0.9281\n",
            "Epoch 33/100\n",
            "32/32 [==============================] - 2s 50ms/step - loss: 0.4441 - accuracy: 0.8650 - val_loss: 0.4032 - val_accuracy: 0.8987\n",
            "Epoch 34/100\n",
            "32/32 [==============================] - 2s 49ms/step - loss: 0.4538 - accuracy: 0.8738 - val_loss: 0.3861 - val_accuracy: 0.9248\n",
            "Epoch 35/100\n",
            "32/32 [==============================] - 2s 49ms/step - loss: 0.4411 - accuracy: 0.8718 - val_loss: 0.3842 - val_accuracy: 0.9248\n",
            "Epoch 36/100\n",
            "32/32 [==============================] - 2s 50ms/step - loss: 0.4486 - accuracy: 0.8581 - val_loss: 0.3842 - val_accuracy: 0.9248\n",
            "Epoch 37/100\n",
            "32/32 [==============================] - 2s 51ms/step - loss: 0.4395 - accuracy: 0.8796 - val_loss: 0.3875 - val_accuracy: 0.9216\n",
            "Epoch 38/100\n",
            "32/32 [==============================] - 2s 51ms/step - loss: 0.4302 - accuracy: 0.8836 - val_loss: 0.3843 - val_accuracy: 0.9248\n",
            "Epoch 39/100\n",
            "32/32 [==============================] - 2s 52ms/step - loss: 0.4396 - accuracy: 0.8748 - val_loss: 0.3836 - val_accuracy: 0.9248\n",
            "Epoch 40/100\n",
            "32/32 [==============================] - 2s 51ms/step - loss: 0.4616 - accuracy: 0.8659 - val_loss: 0.4324 - val_accuracy: 0.8922\n",
            "Epoch 41/100\n",
            "32/32 [==============================] - 2s 50ms/step - loss: 0.4357 - accuracy: 0.8875 - val_loss: 0.3852 - val_accuracy: 0.9281\n",
            "Epoch 42/100\n",
            "32/32 [==============================] - 2s 51ms/step - loss: 0.4587 - accuracy: 0.8699 - val_loss: 0.4116 - val_accuracy: 0.9020\n",
            "Epoch 43/100\n",
            "32/32 [==============================] - 2s 50ms/step - loss: 0.4531 - accuracy: 0.8757 - val_loss: 0.3914 - val_accuracy: 0.9150\n",
            "Epoch 44/100\n",
            "32/32 [==============================] - 2s 51ms/step - loss: 0.4432 - accuracy: 0.8728 - val_loss: 0.3998 - val_accuracy: 0.9183\n",
            "Epoch 45/100\n",
            "32/32 [==============================] - 2s 52ms/step - loss: 0.4375 - accuracy: 0.8748 - val_loss: 0.3860 - val_accuracy: 0.9216\n",
            "Epoch 46/100\n",
            "32/32 [==============================] - 2s 50ms/step - loss: 0.4440 - accuracy: 0.8708 - val_loss: 0.3877 - val_accuracy: 0.9118\n",
            "Epoch 47/100\n",
            "32/32 [==============================] - 2s 50ms/step - loss: 0.4353 - accuracy: 0.8689 - val_loss: 0.4088 - val_accuracy: 0.9118\n",
            "Epoch 48/100\n",
            "32/32 [==============================] - 2s 49ms/step - loss: 0.4411 - accuracy: 0.8689 - val_loss: 0.3873 - val_accuracy: 0.9052\n",
            "Epoch 49/100\n",
            "32/32 [==============================] - 2s 51ms/step - loss: 0.4319 - accuracy: 0.8826 - val_loss: 0.3949 - val_accuracy: 0.9183\n",
            "Epoch 50/100\n",
            "32/32 [==============================] - 2s 51ms/step - loss: 0.4396 - accuracy: 0.8757 - val_loss: 0.3855 - val_accuracy: 0.9216\n",
            "Epoch 51/100\n",
            "32/32 [==============================] - 2s 50ms/step - loss: 0.4469 - accuracy: 0.8806 - val_loss: 0.4014 - val_accuracy: 0.9183\n",
            "Epoch 52/100\n",
            "32/32 [==============================] - 2s 51ms/step - loss: 0.4494 - accuracy: 0.8689 - val_loss: 0.3847 - val_accuracy: 0.9216\n",
            "Epoch 53/100\n",
            "32/32 [==============================] - 2s 51ms/step - loss: 0.4362 - accuracy: 0.8816 - val_loss: 0.4121 - val_accuracy: 0.9085\n",
            "Epoch 54/100\n",
            "32/32 [==============================] - 2s 49ms/step - loss: 0.4506 - accuracy: 0.8689 - val_loss: 0.3833 - val_accuracy: 0.9150\n",
            "Epoch 55/100\n",
            "32/32 [==============================] - 2s 52ms/step - loss: 0.4484 - accuracy: 0.8728 - val_loss: 0.4057 - val_accuracy: 0.9020\n",
            "Epoch 56/100\n",
            "32/32 [==============================] - 2s 52ms/step - loss: 0.4260 - accuracy: 0.8816 - val_loss: 0.3846 - val_accuracy: 0.9216\n",
            "Epoch 57/100\n",
            "32/32 [==============================] - 2s 50ms/step - loss: 0.4437 - accuracy: 0.8689 - val_loss: 0.3843 - val_accuracy: 0.9020\n",
            "Epoch 58/100\n",
            "32/32 [==============================] - 2s 50ms/step - loss: 0.4492 - accuracy: 0.8738 - val_loss: 0.4239 - val_accuracy: 0.9183\n",
            "Epoch 59/100\n",
            "32/32 [==============================] - 2s 51ms/step - loss: 0.4413 - accuracy: 0.8816 - val_loss: 0.4296 - val_accuracy: 0.9020\n",
            "Epoch 60/100\n",
            "32/32 [==============================] - 2s 50ms/step - loss: 0.4817 - accuracy: 0.8601 - val_loss: 0.4092 - val_accuracy: 0.9183\n",
            "Epoch 61/100\n",
            "32/32 [==============================] - 2s 49ms/step - loss: 0.4390 - accuracy: 0.8787 - val_loss: 0.4059 - val_accuracy: 0.9118\n",
            "Epoch 62/100\n",
            "32/32 [==============================] - 2s 51ms/step - loss: 0.4395 - accuracy: 0.8767 - val_loss: 0.3818 - val_accuracy: 0.9118\n",
            "Epoch 63/100\n",
            "32/32 [==============================] - 2s 51ms/step - loss: 0.4348 - accuracy: 0.8718 - val_loss: 0.3860 - val_accuracy: 0.9216\n",
            "Epoch 64/100\n",
            "32/32 [==============================] - 2s 51ms/step - loss: 0.4665 - accuracy: 0.8679 - val_loss: 0.4040 - val_accuracy: 0.9150\n",
            "Epoch 65/100\n",
            "32/32 [==============================] - 2s 50ms/step - loss: 0.4460 - accuracy: 0.8659 - val_loss: 0.3818 - val_accuracy: 0.9150\n",
            "Epoch 66/100\n",
            "32/32 [==============================] - 2s 50ms/step - loss: 0.4350 - accuracy: 0.8748 - val_loss: 0.3837 - val_accuracy: 0.9216\n",
            "Epoch 67/100\n",
            "32/32 [==============================] - 2s 51ms/step - loss: 0.4485 - accuracy: 0.8718 - val_loss: 0.4099 - val_accuracy: 0.8987\n",
            "Epoch 68/100\n",
            "32/32 [==============================] - 2s 51ms/step - loss: 0.4352 - accuracy: 0.8816 - val_loss: 0.3863 - val_accuracy: 0.9216\n",
            "Epoch 69/100\n",
            "32/32 [==============================] - 2s 51ms/step - loss: 0.4430 - accuracy: 0.8650 - val_loss: 0.3864 - val_accuracy: 0.9118\n",
            "Epoch 70/100\n",
            "32/32 [==============================] - 2s 50ms/step - loss: 0.4341 - accuracy: 0.8914 - val_loss: 0.3842 - val_accuracy: 0.9183\n",
            "Epoch 71/100\n",
            "32/32 [==============================] - 2s 49ms/step - loss: 0.4385 - accuracy: 0.8777 - val_loss: 0.3980 - val_accuracy: 0.8987\n",
            "Epoch 72/100\n",
            "32/32 [==============================] - 2s 50ms/step - loss: 0.4383 - accuracy: 0.8787 - val_loss: 0.4077 - val_accuracy: 0.9118\n",
            "Epoch 73/100\n",
            "32/32 [==============================] - 2s 50ms/step - loss: 0.4434 - accuracy: 0.8767 - val_loss: 0.3897 - val_accuracy: 0.9150\n",
            "Epoch 74/100\n",
            "32/32 [==============================] - 2s 49ms/step - loss: 0.4495 - accuracy: 0.8787 - val_loss: 0.3886 - val_accuracy: 0.9183\n",
            "Epoch 75/100\n",
            "32/32 [==============================] - 2s 51ms/step - loss: 0.4312 - accuracy: 0.8728 - val_loss: 0.3815 - val_accuracy: 0.9216\n",
            "Epoch 76/100\n",
            "32/32 [==============================] - 2s 50ms/step - loss: 0.4381 - accuracy: 0.8728 - val_loss: 0.3879 - val_accuracy: 0.9183\n",
            "Epoch 77/100\n",
            "32/32 [==============================] - 2s 50ms/step - loss: 0.4447 - accuracy: 0.8738 - val_loss: 0.3913 - val_accuracy: 0.9183\n",
            "Epoch 78/100\n",
            "32/32 [==============================] - 2s 49ms/step - loss: 0.4416 - accuracy: 0.8689 - val_loss: 0.3803 - val_accuracy: 0.9183\n",
            "Epoch 79/100\n",
            "32/32 [==============================] - 2s 48ms/step - loss: 0.4320 - accuracy: 0.8738 - val_loss: 0.3962 - val_accuracy: 0.9183\n",
            "Epoch 80/100\n",
            "32/32 [==============================] - 2s 49ms/step - loss: 0.4414 - accuracy: 0.8718 - val_loss: 0.3883 - val_accuracy: 0.9183\n",
            "Epoch 81/100\n",
            "32/32 [==============================] - 2s 51ms/step - loss: 0.4349 - accuracy: 0.8816 - val_loss: 0.4345 - val_accuracy: 0.8922\n",
            "Epoch 82/100\n",
            "32/32 [==============================] - 2s 51ms/step - loss: 0.4339 - accuracy: 0.8796 - val_loss: 0.3803 - val_accuracy: 0.9216\n",
            "Epoch 83/100\n",
            "32/32 [==============================] - 2s 50ms/step - loss: 0.4432 - accuracy: 0.8699 - val_loss: 0.4285 - val_accuracy: 0.8922\n",
            "Epoch 84/100\n",
            "32/32 [==============================] - 2s 51ms/step - loss: 0.4454 - accuracy: 0.8767 - val_loss: 0.3800 - val_accuracy: 0.9183\n",
            "Epoch 85/100\n",
            "32/32 [==============================] - 2s 50ms/step - loss: 0.4501 - accuracy: 0.8650 - val_loss: 0.3991 - val_accuracy: 0.9183\n",
            "Epoch 86/100\n",
            "32/32 [==============================] - 2s 51ms/step - loss: 0.4357 - accuracy: 0.8757 - val_loss: 0.3853 - val_accuracy: 0.9216\n",
            "Epoch 87/100\n",
            "32/32 [==============================] - 2s 51ms/step - loss: 0.4325 - accuracy: 0.8806 - val_loss: 0.3832 - val_accuracy: 0.9183\n",
            "Epoch 88/100\n",
            "32/32 [==============================] - 2s 51ms/step - loss: 0.4401 - accuracy: 0.8787 - val_loss: 0.3849 - val_accuracy: 0.9052\n",
            "Epoch 89/100\n",
            "32/32 [==============================] - 2s 50ms/step - loss: 0.4383 - accuracy: 0.8718 - val_loss: 0.3996 - val_accuracy: 0.9183\n",
            "Epoch 90/100\n",
            "32/32 [==============================] - 2s 48ms/step - loss: 0.4343 - accuracy: 0.8816 - val_loss: 0.3825 - val_accuracy: 0.9052\n",
            "Epoch 91/100\n",
            "32/32 [==============================] - 2s 51ms/step - loss: 0.4366 - accuracy: 0.8718 - val_loss: 0.3868 - val_accuracy: 0.9085\n",
            "Epoch 92/100\n",
            "32/32 [==============================] - 2s 49ms/step - loss: 0.4520 - accuracy: 0.8679 - val_loss: 0.3892 - val_accuracy: 0.9020\n",
            "Epoch 93/100\n",
            "32/32 [==============================] - 2s 50ms/step - loss: 0.4295 - accuracy: 0.8875 - val_loss: 0.3773 - val_accuracy: 0.9216\n",
            "Epoch 94/100\n",
            "32/32 [==============================] - 2s 50ms/step - loss: 0.4567 - accuracy: 0.8748 - val_loss: 0.3800 - val_accuracy: 0.9183\n",
            "Epoch 95/100\n",
            "32/32 [==============================] - 2s 50ms/step - loss: 0.4394 - accuracy: 0.8757 - val_loss: 0.3821 - val_accuracy: 0.9183\n",
            "Epoch 96/100\n",
            "32/32 [==============================] - 2s 50ms/step - loss: 0.4470 - accuracy: 0.8718 - val_loss: 0.3797 - val_accuracy: 0.9216\n",
            "Epoch 97/100\n",
            "32/32 [==============================] - 2s 50ms/step - loss: 0.4372 - accuracy: 0.8796 - val_loss: 0.3837 - val_accuracy: 0.9183\n",
            "Epoch 98/100\n",
            "32/32 [==============================] - 2s 50ms/step - loss: 0.4283 - accuracy: 0.8826 - val_loss: 0.3916 - val_accuracy: 0.9183\n",
            "Epoch 99/100\n",
            "32/32 [==============================] - 2s 50ms/step - loss: 0.4337 - accuracy: 0.8777 - val_loss: 0.4079 - val_accuracy: 0.9183\n",
            "Epoch 100/100\n",
            "32/32 [==============================] - 2s 50ms/step - loss: 0.4406 - accuracy: 0.8728 - val_loss: 0.3802 - val_accuracy: 0.9085\n"
          ]
        }
      ]
    },
    {
      "cell_type": "code",
      "metadata": {
        "colab": {
          "base_uri": "https://localhost:8080/",
          "height": 295
        },
        "id": "q5TpvnHvNqW0",
        "outputId": "4551a18a-7e48-4de9-d6bb-23765188e416"
      },
      "source": [
        "plt.plot(hist_3.history['loss'])\n",
        "plt.plot(hist_3.history['val_loss'])\n",
        "plt.title('Model loss')\n",
        "plt.ylabel('Loss')\n",
        "plt.xlabel('Epoch')\n",
        "plt.legend(['Train', 'Val'], loc='upper right')\n",
        "plt.ylim(top=1.2, bottom=0)\n",
        "plt.show()"
      ],
      "execution_count": 42,
      "outputs": [
        {
          "output_type": "display_data",
          "data": {
            "image/png": "[encoded data removed]",
            "text/plain": [
              "<Figure size 432x288 with 1 Axes>"
            ]
          },
          "metadata": {
            "needs_background": "light"
          }
        }
      ]
    },
    {
      "cell_type": "code",
      "metadata": {
        "colab": {
          "base_uri": "https://localhost:8080/",
          "height": 295
        },
        "id": "M9j0CPJPNynr",
        "outputId": "991c67a3-6f21-477f-c5e4-c1637ebe8296"
      },
      "source": [
        "plt.plot(hist_3.history['accuracy'])\n",
        "plt.plot(hist_3.history['val_accuracy'])\n",
        "plt.title('Model accuracy')\n",
        "plt.ylabel('Accuracy')\n",
        "plt.xlabel('Epoch')\n",
        "plt.legend(['Train', 'Val'], loc='lower right')\n",
        "plt.show()"
      ],
      "execution_count": 43,
      "outputs": [
        {
          "output_type": "display_data",
          "data": {
            "image/png": "[encoded data removed]",
            "text/plain": [
              "<Figure size 432x288 with 1 Axes>"
            ]
          },
          "metadata": {
            "needs_background": "light"
          }
        }
      ]
    }
  ]
}