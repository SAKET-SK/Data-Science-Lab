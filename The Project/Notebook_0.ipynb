{
 "cells": [
  {
   "cell_type": "markdown",
   "id": "dbf7e850-2fbb-4354-88c6-47639b44d43f",
   "metadata": {},
   "source": [
    "## PREP AND BASELINE "
   ]
  },
  {
   "cell_type": "markdown",
   "id": "aecb192e-f645-4a12-9f8a-295c12313603",
   "metadata": {},
   "source": [
    "### langchain → our orchestration framework\n",
    "\n",
    "### langchain-community → integrations like FAISS\n",
    "\n",
    "### langchain-groq → to call Groq’s free LLaMA 3 models\n",
    "\n",
    "### faiss-cpu → local vector DB\n",
    "\n",
    "### sentence-transformers → local embeddings\n",
    "\n",
    "### python-dotenv → load API keys from .env"
   ]
  },
  {
   "cell_type": "code",
   "execution_count": 2,
   "id": "99e93832-4ee4-4f5e-9928-6c2371a47041",
   "metadata": {},
   "outputs": [
    {
     "name": "stdout",
     "output_type": "stream",
     "text": [
      "Requirement already satisfied: langchain in c:\\users\\saket.khopkar\\anaconda3\\lib\\site-packages (0.3.26)\n",
      "Requirement already satisfied: langchain-community in c:\\users\\saket.khopkar\\anaconda3\\lib\\site-packages (0.3.27)\n",
      "Collecting langchain-groq\n",
      "  Downloading langchain_groq-0.3.7-py3-none-any.whl.metadata (2.6 kB)\n",
      "Collecting faiss-cpu\n",
      "  Downloading faiss_cpu-1.12.0-cp312-cp312-win_amd64.whl.metadata (5.2 kB)\n",
      "Collecting sentence-transformers\n",
      "  Downloading sentence_transformers-5.1.0-py3-none-any.whl.metadata (16 kB)\n",
      "Requirement already satisfied: langchain-core<1.0.0,>=0.3.66 in c:\\users\\saket.khopkar\\anaconda3\\lib\\site-packages (from langchain) (0.3.68)\n",
      "Requirement already satisfied: langchain-text-splitters<1.0.0,>=0.3.8 in c:\\users\\saket.khopkar\\anaconda3\\lib\\site-packages (from langchain) (0.3.8)\n",
      "Requirement already satisfied: langsmith>=0.1.17 in c:\\users\\saket.khopkar\\anaconda3\\lib\\site-packages (from langchain) (0.3.45)\n",
      "Requirement already satisfied: pydantic<3.0.0,>=2.7.4 in c:\\users\\saket.khopkar\\anaconda3\\lib\\site-packages (from langchain) (2.11.7)\n",
      "Requirement already satisfied: SQLAlchemy<3,>=1.4 in c:\\users\\saket.khopkar\\anaconda3\\lib\\site-packages (from langchain) (2.0.34)\n",
      "Requirement already satisfied: requests<3,>=2 in c:\\users\\saket.khopkar\\anaconda3\\lib\\site-packages (from langchain) (2.32.3)\n",
      "Requirement already satisfied: PyYAML>=5.3 in c:\\users\\saket.khopkar\\anaconda3\\lib\\site-packages (from langchain) (6.0.1)\n",
      "Requirement already satisfied: aiohttp<4.0.0,>=3.8.3 in c:\\users\\saket.khopkar\\anaconda3\\lib\\site-packages (from langchain-community) (3.12.13)\n",
      "Requirement already satisfied: tenacity!=8.4.0,<10,>=8.1.0 in c:\\users\\saket.khopkar\\anaconda3\\lib\\site-packages (from langchain-community) (8.2.3)\n",
      "Requirement already satisfied: dataclasses-json<0.7,>=0.5.7 in c:\\users\\saket.khopkar\\anaconda3\\lib\\site-packages (from langchain-community) (0.6.7)\n",
      "Requirement already satisfied: pydantic-settings<3.0.0,>=2.4.0 in c:\\users\\saket.khopkar\\anaconda3\\lib\\site-packages (from langchain-community) (2.10.1)\n",
      "Requirement already satisfied: httpx-sse<1.0.0,>=0.4.0 in c:\\users\\saket.khopkar\\anaconda3\\lib\\site-packages (from langchain-community) (0.4.0)\n",
      "Requirement already satisfied: numpy>=1.26.2 in c:\\users\\saket.khopkar\\anaconda3\\lib\\site-packages (from langchain-community) (1.26.4)\n",
      "Collecting langchain-core<1.0.0,>=0.3.66 (from langchain)\n",
      "  Downloading langchain_core-0.3.74-py3-none-any.whl.metadata (5.8 kB)\n",
      "Collecting groq<1,>=0.30.0 (from langchain-groq)\n",
      "  Downloading groq-0.31.0-py3-none-any.whl.metadata (16 kB)\n",
      "Requirement already satisfied: packaging in c:\\users\\saket.khopkar\\anaconda3\\lib\\site-packages (from faiss-cpu) (23.2)\n",
      "Collecting transformers<5.0.0,>=4.41.0 (from sentence-transformers)\n",
      "  Downloading transformers-4.55.2-py3-none-any.whl.metadata (41 kB)\n",
      "Requirement already satisfied: tqdm in c:\\users\\saket.khopkar\\anaconda3\\lib\\site-packages (from sentence-transformers) (4.66.5)\n",
      "Collecting torch>=1.11.0 (from sentence-transformers)\n",
      "  Downloading torch-2.8.0-cp312-cp312-win_amd64.whl.metadata (30 kB)\n",
      "Requirement already satisfied: scikit-learn in c:\\users\\saket.khopkar\\anaconda3\\lib\\site-packages (from sentence-transformers) (1.5.1)\n",
      "Requirement already satisfied: scipy in c:\\users\\saket.khopkar\\anaconda3\\lib\\site-packages (from sentence-transformers) (1.13.1)\n",
      "Requirement already satisfied: huggingface-hub>=0.20.0 in c:\\users\\saket.khopkar\\anaconda3\\lib\\site-packages (from sentence-transformers) (0.33.0)\n",
      "Requirement already satisfied: Pillow in c:\\users\\saket.khopkar\\anaconda3\\lib\\site-packages (from sentence-transformers) (11.2.1)\n",
      "Requirement already satisfied: typing_extensions>=4.5.0 in c:\\users\\saket.khopkar\\anaconda3\\lib\\site-packages (from sentence-transformers) (4.14.0)\n",
      "Requirement already satisfied: aiohappyeyeballs>=2.5.0 in c:\\users\\saket.khopkar\\anaconda3\\lib\\site-packages (from aiohttp<4.0.0,>=3.8.3->langchain-community) (2.6.1)\n",
      "Requirement already satisfied: aiosignal>=1.1.2 in c:\\users\\saket.khopkar\\anaconda3\\lib\\site-packages (from aiohttp<4.0.0,>=3.8.3->langchain-community) (1.2.0)\n",
      "Requirement already satisfied: attrs>=17.3.0 in c:\\users\\saket.khopkar\\anaconda3\\lib\\site-packages (from aiohttp<4.0.0,>=3.8.3->langchain-community) (25.3.0)\n",
      "Requirement already satisfied: frozenlist>=1.1.1 in c:\\users\\saket.khopkar\\anaconda3\\lib\\site-packages (from aiohttp<4.0.0,>=3.8.3->langchain-community) (1.4.0)\n",
      "Requirement already satisfied: multidict<7.0,>=4.5 in c:\\users\\saket.khopkar\\anaconda3\\lib\\site-packages (from aiohttp<4.0.0,>=3.8.3->langchain-community) (6.0.4)\n",
      "Requirement already satisfied: propcache>=0.2.0 in c:\\users\\saket.khopkar\\anaconda3\\lib\\site-packages (from aiohttp<4.0.0,>=3.8.3->langchain-community) (0.3.2)\n",
      "Requirement already satisfied: yarl<2.0,>=1.17.0 in c:\\users\\saket.khopkar\\anaconda3\\lib\\site-packages (from aiohttp<4.0.0,>=3.8.3->langchain-community) (1.20.1)\n",
      "Requirement already satisfied: marshmallow<4.0.0,>=3.18.0 in c:\\users\\saket.khopkar\\anaconda3\\lib\\site-packages (from dataclasses-json<0.7,>=0.5.7->langchain-community) (3.26.1)\n",
      "Requirement already satisfied: typing-inspect<1,>=0.4.0 in c:\\users\\saket.khopkar\\anaconda3\\lib\\site-packages (from dataclasses-json<0.7,>=0.5.7->langchain-community) (0.9.0)\n",
      "Requirement already satisfied: anyio<5,>=3.5.0 in c:\\users\\saket.khopkar\\anaconda3\\lib\\site-packages (from groq<1,>=0.30.0->langchain-groq) (4.9.0)\n",
      "Requirement already satisfied: distro<2,>=1.7.0 in c:\\users\\saket.khopkar\\anaconda3\\lib\\site-packages (from groq<1,>=0.30.0->langchain-groq) (1.9.0)\n",
      "Requirement already satisfied: httpx<1,>=0.23.0 in c:\\users\\saket.khopkar\\anaconda3\\lib\\site-packages (from groq<1,>=0.30.0->langchain-groq) (0.28.1)\n",
      "Requirement already satisfied: sniffio in c:\\users\\saket.khopkar\\anaconda3\\lib\\site-packages (from groq<1,>=0.30.0->langchain-groq) (1.3.0)\n",
      "Requirement already satisfied: filelock in c:\\users\\saket.khopkar\\anaconda3\\lib\\site-packages (from huggingface-hub>=0.20.0->sentence-transformers) (3.13.1)\n",
      "Requirement already satisfied: fsspec>=2023.5.0 in c:\\users\\saket.khopkar\\anaconda3\\lib\\site-packages (from huggingface-hub>=0.20.0->sentence-transformers) (2024.6.1)\n",
      "Requirement already satisfied: jsonpatch<2.0,>=1.33 in c:\\users\\saket.khopkar\\anaconda3\\lib\\site-packages (from langchain-core<1.0.0,>=0.3.66->langchain) (1.33)\n",
      "Requirement already satisfied: orjson<4.0.0,>=3.9.14 in c:\\users\\saket.khopkar\\anaconda3\\lib\\site-packages (from langsmith>=0.1.17->langchain) (3.10.18)\n",
      "Requirement already satisfied: requests-toolbelt<2.0.0,>=1.0.0 in c:\\users\\saket.khopkar\\anaconda3\\lib\\site-packages (from langsmith>=0.1.17->langchain) (1.0.0)\n",
      "Requirement already satisfied: zstandard<0.24.0,>=0.23.0 in c:\\users\\saket.khopkar\\anaconda3\\lib\\site-packages (from langsmith>=0.1.17->langchain) (0.23.0)\n",
      "Requirement already satisfied: annotated-types>=0.6.0 in c:\\users\\saket.khopkar\\anaconda3\\lib\\site-packages (from pydantic<3.0.0,>=2.7.4->langchain) (0.6.0)\n",
      "Requirement already satisfied: pydantic-core==2.33.2 in c:\\users\\saket.khopkar\\anaconda3\\lib\\site-packages (from pydantic<3.0.0,>=2.7.4->langchain) (2.33.2)\n",
      "Requirement already satisfied: typing-inspection>=0.4.0 in c:\\users\\saket.khopkar\\anaconda3\\lib\\site-packages (from pydantic<3.0.0,>=2.7.4->langchain) (0.4.1)\n",
      "Requirement already satisfied: python-dotenv>=0.21.0 in c:\\users\\saket.khopkar\\anaconda3\\lib\\site-packages (from pydantic-settings<3.0.0,>=2.4.0->langchain-community) (1.1.1)\n",
      "Requirement already satisfied: charset-normalizer<4,>=2 in c:\\users\\saket.khopkar\\anaconda3\\lib\\site-packages (from requests<3,>=2->langchain) (3.3.2)\n",
      "Requirement already satisfied: idna<4,>=2.5 in c:\\users\\saket.khopkar\\anaconda3\\lib\\site-packages (from requests<3,>=2->langchain) (3.7)\n",
      "Requirement already satisfied: urllib3<3,>=1.21.1 in c:\\users\\saket.khopkar\\anaconda3\\lib\\site-packages (from requests<3,>=2->langchain) (2.5.0)\n",
      "Requirement already satisfied: certifi>=2017.4.17 in c:\\users\\saket.khopkar\\anaconda3\\lib\\site-packages (from requests<3,>=2->langchain) (2025.7.9)\n",
      "Requirement already satisfied: greenlet!=0.4.17 in c:\\users\\saket.khopkar\\anaconda3\\lib\\site-packages (from SQLAlchemy<3,>=1.4->langchain) (3.0.1)\n",
      "Collecting sympy>=1.13.3 (from torch>=1.11.0->sentence-transformers)\n",
      "  Downloading sympy-1.14.0-py3-none-any.whl.metadata (12 kB)\n",
      "Requirement already satisfied: networkx in c:\\users\\saket.khopkar\\anaconda3\\lib\\site-packages (from torch>=1.11.0->sentence-transformers) (3.3)\n",
      "Requirement already satisfied: jinja2 in c:\\users\\saket.khopkar\\anaconda3\\lib\\site-packages (from torch>=1.11.0->sentence-transformers) (3.1.4)\n",
      "Requirement already satisfied: setuptools in c:\\users\\saket.khopkar\\anaconda3\\lib\\site-packages (from torch>=1.11.0->sentence-transformers) (75.1.0)\n",
      "Requirement already satisfied: colorama in c:\\users\\saket.khopkar\\anaconda3\\lib\\site-packages (from tqdm->sentence-transformers) (0.4.6)\n",
      "Collecting huggingface-hub>=0.20.0 (from sentence-transformers)\n",
      "  Downloading huggingface_hub-0.34.4-py3-none-any.whl.metadata (14 kB)\n",
      "Requirement already satisfied: regex!=2019.12.17 in c:\\users\\saket.khopkar\\anaconda3\\lib\\site-packages (from transformers<5.0.0,>=4.41.0->sentence-transformers) (2024.11.6)\n",
      "Collecting tokenizers<0.22,>=0.21 (from transformers<5.0.0,>=4.41.0->sentence-transformers)\n",
      "  Downloading tokenizers-0.21.4-cp39-abi3-win_amd64.whl.metadata (6.9 kB)\n",
      "Collecting safetensors>=0.4.3 (from transformers<5.0.0,>=4.41.0->sentence-transformers)\n",
      "  Downloading safetensors-0.6.2-cp38-abi3-win_amd64.whl.metadata (4.1 kB)\n",
      "Requirement already satisfied: joblib>=1.2.0 in c:\\users\\saket.khopkar\\anaconda3\\lib\\site-packages (from scikit-learn->sentence-transformers) (1.4.2)\n",
      "Requirement already satisfied: threadpoolctl>=3.1.0 in c:\\users\\saket.khopkar\\anaconda3\\lib\\site-packages (from scikit-learn->sentence-transformers) (3.5.0)\n",
      "Requirement already satisfied: httpcore==1.* in c:\\users\\saket.khopkar\\anaconda3\\lib\\site-packages (from httpx<1,>=0.23.0->groq<1,>=0.30.0->langchain-groq) (1.0.2)\n",
      "Requirement already satisfied: h11<0.15,>=0.13 in c:\\users\\saket.khopkar\\anaconda3\\lib\\site-packages (from httpcore==1.*->httpx<1,>=0.23.0->groq<1,>=0.30.0->langchain-groq) (0.14.0)\n",
      "Requirement already satisfied: jsonpointer>=1.9 in c:\\users\\saket.khopkar\\anaconda3\\lib\\site-packages (from jsonpatch<2.0,>=1.33->langchain-core<1.0.0,>=0.3.66->langchain) (2.1)\n",
      "Requirement already satisfied: mpmath<1.4,>=1.1.0 in c:\\users\\saket.khopkar\\anaconda3\\lib\\site-packages (from sympy>=1.13.3->torch>=1.11.0->sentence-transformers) (1.3.0)\n",
      "Requirement already satisfied: mypy-extensions>=0.3.0 in c:\\users\\saket.khopkar\\anaconda3\\lib\\site-packages (from typing-inspect<1,>=0.4.0->dataclasses-json<0.7,>=0.5.7->langchain-community) (1.0.0)\n",
      "Requirement already satisfied: MarkupSafe>=2.0 in c:\\users\\saket.khopkar\\anaconda3\\lib\\site-packages (from jinja2->torch>=1.11.0->sentence-transformers) (2.1.3)\n",
      "Downloading langchain_groq-0.3.7-py3-none-any.whl (16 kB)\n",
      "Downloading faiss_cpu-1.12.0-cp312-cp312-win_amd64.whl (18.2 MB)\n",
      "   ---------------------------------------- 0.0/18.2 MB ? eta -:--:--\n",
      "   ----- ---------------------------------- 2.4/18.2 MB 12.2 MB/s eta 0:00:02\n",
      "   ----------- ---------------------------- 5.2/18.2 MB 12.8 MB/s eta 0:00:02\n",
      "   ------------------ --------------------- 8.4/18.2 MB 14.5 MB/s eta 0:00:01\n",
      "   ----------------------------- ---------- 13.4/18.2 MB 16.4 MB/s eta 0:00:01\n",
      "   ---------------------------------------  17.8/18.2 MB 17.6 MB/s eta 0:00:01\n",
      "   ---------------------------------------- 18.2/18.2 MB 16.4 MB/s eta 0:00:00\n",
      "Downloading sentence_transformers-5.1.0-py3-none-any.whl (483 kB)\n",
      "Downloading groq-0.31.0-py3-none-any.whl (131 kB)\n",
      "Downloading langchain_core-0.3.74-py3-none-any.whl (443 kB)\n",
      "Downloading torch-2.8.0-cp312-cp312-win_amd64.whl (241.3 MB)\n",
      "   ---------------------------------------- 0.0/241.3 MB ? eta -:--:--\n",
      "    --------------------------------------- 4.2/241.3 MB 19.4 MB/s eta 0:00:13\n",
      "   - -------------------------------------- 7.9/241.3 MB 18.7 MB/s eta 0:00:13\n",
      "   - -------------------------------------- 11.0/241.3 MB 20.2 MB/s eta 0:00:12\n",
      "   -- ------------------------------------- 12.8/241.3 MB 15.2 MB/s eta 0:00:16\n",
      "   -- ------------------------------------- 16.5/241.3 MB 15.8 MB/s eta 0:00:15\n",
      "   --- ------------------------------------ 19.9/241.3 MB 15.9 MB/s eta 0:00:14\n",
      "   --- ------------------------------------ 23.3/241.3 MB 15.9 MB/s eta 0:00:14\n",
      "   ---- ----------------------------------- 26.7/241.3 MB 15.8 MB/s eta 0:00:14\n",
      "   ---- ----------------------------------- 30.1/241.3 MB 15.9 MB/s eta 0:00:14\n",
      "   ----- ---------------------------------- 32.8/241.3 MB 15.6 MB/s eta 0:00:14\n",
      "   ----- ---------------------------------- 35.9/241.3 MB 15.4 MB/s eta 0:00:14\n",
      "   ------ --------------------------------- 39.1/241.3 MB 15.5 MB/s eta 0:00:14\n",
      "   ------- -------------------------------- 42.7/241.3 MB 15.7 MB/s eta 0:00:13\n",
      "   ------- -------------------------------- 46.1/241.3 MB 15.7 MB/s eta 0:00:13\n",
      "   -------- ------------------------------- 48.5/241.3 MB 15.5 MB/s eta 0:00:13\n",
      "   -------- ------------------------------- 51.1/241.3 MB 15.2 MB/s eta 0:00:13\n",
      "   -------- ------------------------------- 53.5/241.3 MB 15.1 MB/s eta 0:00:13\n",
      "   --------- ------------------------------ 56.4/241.3 MB 14.8 MB/s eta 0:00:13\n",
      "   --------- ------------------------------ 59.0/241.3 MB 14.8 MB/s eta 0:00:13\n",
      "   ---------- ----------------------------- 62.7/241.3 MB 14.9 MB/s eta 0:00:12\n",
      "   ---------- ----------------------------- 66.1/241.3 MB 14.9 MB/s eta 0:00:12\n",
      "   ----------- ---------------------------- 69.5/241.3 MB 15.0 MB/s eta 0:00:12\n",
      "   ------------ --------------------------- 73.7/241.3 MB 15.3 MB/s eta 0:00:11\n",
      "   ------------ --------------------------- 77.3/241.3 MB 15.4 MB/s eta 0:00:11\n",
      "   ------------- -------------------------- 81.0/241.3 MB 15.4 MB/s eta 0:00:11\n",
      "   -------------- ------------------------- 84.9/241.3 MB 15.5 MB/s eta 0:00:11\n",
      "   -------------- ------------------------- 88.6/241.3 MB 15.6 MB/s eta 0:00:10\n",
      "   --------------- ------------------------ 91.5/241.3 MB 15.6 MB/s eta 0:00:10\n",
      "   --------------- ------------------------ 94.4/241.3 MB 15.5 MB/s eta 0:00:10\n",
      "   ---------------- ----------------------- 97.3/241.3 MB 15.4 MB/s eta 0:00:10\n",
      "   ---------------- ----------------------- 99.6/241.3 MB 15.3 MB/s eta 0:00:10\n",
      "   ---------------- ---------------------- 102.2/241.3 MB 15.2 MB/s eta 0:00:10\n",
      "   ----------------- --------------------- 105.6/241.3 MB 15.3 MB/s eta 0:00:09\n",
      "   ----------------- --------------------- 108.3/241.3 MB 15.2 MB/s eta 0:00:09\n",
      "   ----------------- --------------------- 110.4/241.3 MB 15.1 MB/s eta 0:00:09\n",
      "   ------------------ -------------------- 113.0/241.3 MB 15.0 MB/s eta 0:00:09\n",
      "   ------------------ -------------------- 116.4/241.3 MB 15.0 MB/s eta 0:00:09\n",
      "   ------------------- ------------------- 119.8/241.3 MB 15.0 MB/s eta 0:00:09\n",
      "   ------------------- ------------------- 122.9/241.3 MB 15.0 MB/s eta 0:00:08\n",
      "   -------------------- ------------------ 126.6/241.3 MB 15.1 MB/s eta 0:00:08\n",
      "   --------------------- ----------------- 130.5/241.3 MB 15.2 MB/s eta 0:00:08\n",
      "   --------------------- ----------------- 134.2/241.3 MB 15.2 MB/s eta 0:00:08\n",
      "   ---------------------- ---------------- 138.4/241.3 MB 15.3 MB/s eta 0:00:07\n",
      "   ----------------------- --------------- 142.3/241.3 MB 15.4 MB/s eta 0:00:07\n",
      "   ----------------------- --------------- 147.1/241.3 MB 15.6 MB/s eta 0:00:07\n",
      "   ------------------------ -------------- 150.5/241.3 MB 15.6 MB/s eta 0:00:06\n",
      "   ------------------------- ------------- 155.2/241.3 MB 15.7 MB/s eta 0:00:06\n",
      "   ------------------------- ------------- 159.1/241.3 MB 15.8 MB/s eta 0:00:06\n",
      "   -------------------------- ------------ 161.5/241.3 MB 15.7 MB/s eta 0:00:06\n",
      "   -------------------------- ------------ 164.1/241.3 MB 15.6 MB/s eta 0:00:05\n",
      "   -------------------------- ------------ 166.5/241.3 MB 15.5 MB/s eta 0:00:05\n",
      "   --------------------------- ----------- 168.0/241.3 MB 15.4 MB/s eta 0:00:05\n",
      "   --------------------------- ----------- 170.7/241.3 MB 15.3 MB/s eta 0:00:05\n",
      "   --------------------------- ----------- 173.0/241.3 MB 15.3 MB/s eta 0:00:05\n",
      "   ---------------------------- ---------- 174.9/241.3 MB 15.2 MB/s eta 0:00:05\n",
      "   ---------------------------- ---------- 177.2/241.3 MB 15.0 MB/s eta 0:00:05\n",
      "   ----------------------------- --------- 179.6/241.3 MB 15.0 MB/s eta 0:00:05\n",
      "   ----------------------------- --------- 181.7/241.3 MB 14.9 MB/s eta 0:00:05\n",
      "   ----------------------------- --------- 184.5/241.3 MB 14.9 MB/s eta 0:00:04\n",
      "   ------------------------------ -------- 187.2/241.3 MB 14.8 MB/s eta 0:00:04\n",
      "   ------------------------------ -------- 189.8/241.3 MB 14.8 MB/s eta 0:00:04\n",
      "   ------------------------------- ------- 192.9/241.3 MB 14.8 MB/s eta 0:00:04\n",
      "   ------------------------------- ------- 196.1/241.3 MB 14.8 MB/s eta 0:00:04\n",
      "   -------------------------------- ------ 199.8/241.3 MB 14.8 MB/s eta 0:00:03\n",
      "   -------------------------------- ------ 203.9/241.3 MB 14.9 MB/s eta 0:00:03\n",
      "   --------------------------------- ----- 208.1/241.3 MB 15.0 MB/s eta 0:00:03\n",
      "   --------------------------------- ----- 210.2/241.3 MB 15.0 MB/s eta 0:00:03\n",
      "   --------------------------------- ----- 210.2/241.3 MB 15.0 MB/s eta 0:00:03\n",
      "   ---------------------------------- ---- 212.3/241.3 MB 14.6 MB/s eta 0:00:02\n",
      "   ---------------------------------- ---- 214.2/241.3 MB 14.5 MB/s eta 0:00:02\n",
      "   ---------------------------------- ---- 216.0/241.3 MB 14.4 MB/s eta 0:00:02\n",
      "   ----------------------------------- --- 216.8/241.3 MB 14.3 MB/s eta 0:00:02\n",
      "   ----------------------------------- --- 217.8/241.3 MB 14.2 MB/s eta 0:00:02\n",
      "   ----------------------------------- --- 219.4/241.3 MB 14.1 MB/s eta 0:00:02\n",
      "   ----------------------------------- --- 221.5/241.3 MB 14.0 MB/s eta 0:00:02\n",
      "   ------------------------------------ -- 223.3/241.3 MB 14.0 MB/s eta 0:00:02\n",
      "   ------------------------------------ -- 225.2/241.3 MB 13.9 MB/s eta 0:00:02\n",
      "   ------------------------------------ -- 226.8/241.3 MB 13.8 MB/s eta 0:00:02\n",
      "   ------------------------------------ -- 228.9/241.3 MB 13.7 MB/s eta 0:00:01\n",
      "   ------------------------------------- - 230.4/241.3 MB 13.7 MB/s eta 0:00:01\n",
      "   ------------------------------------- - 232.0/241.3 MB 13.6 MB/s eta 0:00:01\n",
      "   ------------------------------------- - 233.8/241.3 MB 13.5 MB/s eta 0:00:01\n",
      "   --------------------------------------  235.7/241.3 MB 13.5 MB/s eta 0:00:01\n",
      "   --------------------------------------  237.5/241.3 MB 13.4 MB/s eta 0:00:01\n",
      "   --------------------------------------  239.3/241.3 MB 13.4 MB/s eta 0:00:01\n",
      "   --------------------------------------  241.2/241.3 MB 13.3 MB/s eta 0:00:01\n",
      "   --------------------------------------  241.2/241.3 MB 13.3 MB/s eta 0:00:01\n",
      "   --------------------------------------  241.2/241.3 MB 13.3 MB/s eta 0:00:01\n",
      "   --------------------------------------  241.2/241.3 MB 13.3 MB/s eta 0:00:01\n",
      "   --------------------------------------  241.2/241.3 MB 13.3 MB/s eta 0:00:01\n",
      "   --------------------------------------- 241.3/241.3 MB 12.6 MB/s eta 0:00:00\n",
      "Downloading transformers-4.55.2-py3-none-any.whl (11.3 MB)\n",
      "   ---------------------------------------- 0.0/11.3 MB ? eta -:--:--\n",
      "   ----- ---------------------------------- 1.6/11.3 MB 7.6 MB/s eta 0:00:02\n",
      "   ----------- ---------------------------- 3.1/11.3 MB 7.7 MB/s eta 0:00:02\n",
      "   ----------------- ---------------------- 5.0/11.3 MB 8.2 MB/s eta 0:00:01\n",
      "   ----------------------- ---------------- 6.6/11.3 MB 8.1 MB/s eta 0:00:01\n",
      "   --------------------------- ------------ 7.9/11.3 MB 7.6 MB/s eta 0:00:01\n",
      "   --------------------------------- ------ 9.4/11.3 MB 7.4 MB/s eta 0:00:01\n",
      "   ------------------------------------- -- 10.5/11.3 MB 7.1 MB/s eta 0:00:01\n",
      "   ---------------------------------------- 11.3/11.3 MB 6.7 MB/s eta 0:00:00\n",
      "Downloading huggingface_hub-0.34.4-py3-none-any.whl (561 kB)\n",
      "   ---------------------------------------- 0.0/561.5 kB ? eta -:--:--\n",
      "   ---------------------------------------- 561.5/561.5 kB 4.8 MB/s eta 0:00:00\n",
      "Downloading safetensors-0.6.2-cp38-abi3-win_amd64.whl (320 kB)\n",
      "Downloading sympy-1.14.0-py3-none-any.whl (6.3 MB)\n",
      "   ---------------------------------------- 0.0/6.3 MB ? eta -:--:--\n",
      "   ---- ----------------------------------- 0.8/6.3 MB 5.6 MB/s eta 0:00:01\n",
      "   ----------- ---------------------------- 1.8/6.3 MB 4.2 MB/s eta 0:00:02\n",
      "   ------------------- -------------------- 3.1/6.3 MB 5.0 MB/s eta 0:00:01\n",
      "   ----------------------------- ---------- 4.7/6.3 MB 5.7 MB/s eta 0:00:01\n",
      "   ---------------------------------------  6.3/6.3 MB 6.2 MB/s eta 0:00:01\n",
      "   ---------------------------------------- 6.3/6.3 MB 6.0 MB/s eta 0:00:00\n",
      "Downloading tokenizers-0.21.4-cp39-abi3-win_amd64.whl (2.5 MB)\n",
      "   ---------------------------------------- 0.0/2.5 MB ? eta -:--:--\n",
      "   --------------------------------- ------ 2.1/2.5 MB 10.7 MB/s eta 0:00:01\n",
      "   ---------------------------------------- 2.5/2.5 MB 9.0 MB/s eta 0:00:00\n",
      "Installing collected packages: sympy, safetensors, faiss-cpu, torch, huggingface-hub, tokenizers, groq, transformers, langchain-core, sentence-transformers, langchain-groq\n",
      "  Attempting uninstall: sympy\n",
      "    Found existing installation: sympy 1.13.2\n",
      "    Uninstalling sympy-1.13.2:\n",
      "      Successfully uninstalled sympy-1.13.2\n",
      "  Attempting uninstall: huggingface-hub\n",
      "    Found existing installation: huggingface-hub 0.33.0\n",
      "    Uninstalling huggingface-hub-0.33.0:\n",
      "      Successfully uninstalled huggingface-hub-0.33.0\n",
      "  Attempting uninstall: tokenizers\n",
      "    Found existing installation: tokenizers 0.20.3\n",
      "    Uninstalling tokenizers-0.20.3:\n",
      "      Successfully uninstalled tokenizers-0.20.3\n",
      "  Attempting uninstall: langchain-core\n",
      "    Found existing installation: langchain-core 0.3.68\n",
      "    Uninstalling langchain-core-0.3.68:\n",
      "      Successfully uninstalled langchain-core-0.3.68\n",
      "Successfully installed faiss-cpu-1.12.0 groq-0.31.0 huggingface-hub-0.34.4 langchain-core-0.3.74 langchain-groq-0.3.7 safetensors-0.6.2 sentence-transformers-5.1.0 sympy-1.14.0 tokenizers-0.21.4 torch-2.8.0 transformers-4.55.2\n"
     ]
    },
    {
     "name": "stderr",
     "output_type": "stream",
     "text": [
      "ERROR: pip's dependency resolver does not currently take into account all the packages that are installed. This behaviour is the source of the following dependency conflicts.\n",
      "chromadb 0.5.23 requires tokenizers<=0.20.3,>=0.13.2, but you have tokenizers 0.21.4 which is incompatible.\n"
     ]
    },
    {
     "name": "stdout",
     "output_type": "stream",
     "text": [
      "Requirement already satisfied: python-dotenv in c:\\users\\saket.khopkar\\anaconda3\\lib\\site-packages (1.1.1)\n"
     ]
    }
   ],
   "source": [
    "!pip install langchain langchain-community langchain-groq faiss-cpu sentence-transformers\n",
    "!pip install python-dotenv"
   ]
  },
  {
   "cell_type": "markdown",
   "id": "efc68748-9801-4289-ac4f-771a6039c4b9",
   "metadata": {},
   "source": [
    "### Create a .env file in the same folder as your notebook. Grab your Groq API Key from : https://console.groq.com/keys"
   ]
  },
  {
   "cell_type": "code",
   "execution_count": 3,
   "id": "663a3378-43d6-41b7-97d3-e28c9cf0ac85",
   "metadata": {},
   "outputs": [],
   "source": [
    "import os\n",
    "from dotenv import load_dotenv\n",
    "\n",
    "load_dotenv()\n",
    "GROQ_API_KEY = os.getenv(\"GROQ_API_KEY\")\n",
    "\n",
    "if not GROQ_API_KEY:\n",
    "    raise ValueError(\"⚠️ Please set GROQ_API_KEY in your .env file\")"
   ]
  },
  {
   "cell_type": "markdown",
   "id": "4c0547d1-4cce-4cdd-9f57-a97c125166c7",
   "metadata": {},
   "source": [
    "### For now, we’ll hardcode small policies, FAQs, and past conversation examples."
   ]
  },
  {
   "cell_type": "code",
   "execution_count": 4,
   "id": "7137de9e-8edd-44c2-90c1-930f8763ff41",
   "metadata": {},
   "outputs": [],
   "source": [
    "knowledge_base = [\n",
    "    {\n",
    "        \"source\": \"policy\",\n",
    "        \"text\": \"Return Policy: Customers can return products within 30 days of purchase with the original receipt.\"\n",
    "    },\n",
    "    {\n",
    "        \"source\": \"faq\",\n",
    "        \"text\": \"FAQ: Our customer support is available 24/7 via chat and email.\"\n",
    "    },\n",
    "    {\n",
    "        \"source\": \"history\",\n",
    "        \"text\": \"Customer: I ordered a laptop last week, when will it arrive? Agent: Your laptop is scheduled to arrive by Friday.\"\n",
    "    }\n",
    "]"
   ]
  },
  {
   "cell_type": "markdown",
   "id": "4850b50e-c6f2-4642-abba-af82cfa1b0c0",
   "metadata": {},
   "source": [
    "### Create embeddings & store in FAISS"
   ]
  },
  {
   "cell_type": "code",
   "execution_count": 5,
   "id": "e56a888c-f999-438b-b6ff-468c34c81089",
   "metadata": {},
   "outputs": [
    {
     "name": "stderr",
     "output_type": "stream",
     "text": [
      "C:\\Users\\saket.khopkar\\AppData\\Local\\Temp\\ipykernel_11676\\1996417352.py:5: LangChainDeprecationWarning: The class `HuggingFaceEmbeddings` was deprecated in LangChain 0.2.2 and will be removed in 1.0. An updated version of the class exists in the :class:`~langchain-huggingface package and should be used instead. To use it run `pip install -U :class:`~langchain-huggingface` and import as `from :class:`~langchain_huggingface import HuggingFaceEmbeddings``.\n",
      "  embedding_model = SentenceTransformerEmbeddings(model_name=\"all-MiniLM-L6-v2\")\n"
     ]
    },
    {
     "data": {
      "application/vnd.jupyter.widget-view+json": {
       "model_id": "29254a2e80ac4456b8a8cedaf9f5c601",
       "version_major": 2,
       "version_minor": 0
      },
      "text/plain": [
       "modules.json:   0%|          | 0.00/349 [00:00<?, ?B/s]"
      ]
     },
     "metadata": {},
     "output_type": "display_data"
    },
    {
     "name": "stderr",
     "output_type": "stream",
     "text": [
      "C:\\Users\\saket.khopkar\\anaconda3\\Lib\\site-packages\\huggingface_hub\\file_download.py:143: UserWarning: `huggingface_hub` cache-system uses symlinks by default to efficiently store duplicated files but your machine does not support them in C:\\Users\\saket.khopkar\\.cache\\huggingface\\hub\\models--sentence-transformers--all-MiniLM-L6-v2. Caching files will still work but in a degraded version that might require more space on your disk. This warning can be disabled by setting the `HF_HUB_DISABLE_SYMLINKS_WARNING` environment variable. For more details, see https://huggingface.co/docs/huggingface_hub/how-to-cache#limitations.\n",
      "To support symlinks on Windows, you either need to activate Developer Mode or to run Python as an administrator. In order to activate developer mode, see this article: https://docs.microsoft.com/en-us/windows/apps/get-started/enable-your-device-for-development\n",
      "  warnings.warn(message)\n"
     ]
    },
    {
     "data": {
      "application/vnd.jupyter.widget-view+json": {
       "model_id": "87faad6558ea49d3846c5c969a8111a2",
       "version_major": 2,
       "version_minor": 0
      },
      "text/plain": [
       "config_sentence_transformers.json:   0%|          | 0.00/116 [00:00<?, ?B/s]"
      ]
     },
     "metadata": {},
     "output_type": "display_data"
    },
    {
     "data": {
      "application/vnd.jupyter.widget-view+json": {
       "model_id": "24389208cd3e4832883d3af8d6eb1753",
       "version_major": 2,
       "version_minor": 0
      },
      "text/plain": [
       "README.md: 0.00B [00:00, ?B/s]"
      ]
     },
     "metadata": {},
     "output_type": "display_data"
    },
    {
     "data": {
      "application/vnd.jupyter.widget-view+json": {
       "model_id": "e78d2ca92e93415ab32a5f7cbba8cc98",
       "version_major": 2,
       "version_minor": 0
      },
      "text/plain": [
       "sentence_bert_config.json:   0%|          | 0.00/53.0 [00:00<?, ?B/s]"
      ]
     },
     "metadata": {},
     "output_type": "display_data"
    },
    {
     "data": {
      "application/vnd.jupyter.widget-view+json": {
       "model_id": "8cbe37dac3a94b859d3438d014da0a82",
       "version_major": 2,
       "version_minor": 0
      },
      "text/plain": [
       "config.json:   0%|          | 0.00/612 [00:00<?, ?B/s]"
      ]
     },
     "metadata": {},
     "output_type": "display_data"
    },
    {
     "name": "stderr",
     "output_type": "stream",
     "text": [
      "Xet Storage is enabled for this repo, but the 'hf_xet' package is not installed. Falling back to regular HTTP download. For better performance, install the package with: `pip install huggingface_hub[hf_xet]` or `pip install hf_xet`\n"
     ]
    },
    {
     "data": {
      "application/vnd.jupyter.widget-view+json": {
       "model_id": "4cd63651d39d4fb3a21ef87372de7688",
       "version_major": 2,
       "version_minor": 0
      },
      "text/plain": [
       "model.safetensors:   0%|          | 0.00/90.9M [00:00<?, ?B/s]"
      ]
     },
     "metadata": {},
     "output_type": "display_data"
    },
    {
     "data": {
      "application/vnd.jupyter.widget-view+json": {
       "model_id": "f9434168828049a9af7c093ec09e1c82",
       "version_major": 2,
       "version_minor": 0
      },
      "text/plain": [
       "tokenizer_config.json:   0%|          | 0.00/350 [00:00<?, ?B/s]"
      ]
     },
     "metadata": {},
     "output_type": "display_data"
    },
    {
     "data": {
      "application/vnd.jupyter.widget-view+json": {
       "model_id": "3d5b4bc38bbb450a9c8c18780f4f9844",
       "version_major": 2,
       "version_minor": 0
      },
      "text/plain": [
       "vocab.txt: 0.00B [00:00, ?B/s]"
      ]
     },
     "metadata": {},
     "output_type": "display_data"
    },
    {
     "data": {
      "application/vnd.jupyter.widget-view+json": {
       "model_id": "3fe59293f7724661b94cd162786330da",
       "version_major": 2,
       "version_minor": 0
      },
      "text/plain": [
       "tokenizer.json: 0.00B [00:00, ?B/s]"
      ]
     },
     "metadata": {},
     "output_type": "display_data"
    },
    {
     "data": {
      "application/vnd.jupyter.widget-view+json": {
       "model_id": "1fffc8b61019491c8c2aa6fbff2d382e",
       "version_major": 2,
       "version_minor": 0
      },
      "text/plain": [
       "special_tokens_map.json:   0%|          | 0.00/112 [00:00<?, ?B/s]"
      ]
     },
     "metadata": {},
     "output_type": "display_data"
    },
    {
     "data": {
      "application/vnd.jupyter.widget-view+json": {
       "model_id": "6ff99c2ff5a94e7389e95064ac33856a",
       "version_major": 2,
       "version_minor": 0
      },
      "text/plain": [
       "config.json:   0%|          | 0.00/190 [00:00<?, ?B/s]"
      ]
     },
     "metadata": {},
     "output_type": "display_data"
    },
    {
     "name": "stdout",
     "output_type": "stream",
     "text": [
      "✅ Vector store created with 3 documents\n"
     ]
    }
   ],
   "source": [
    "from langchain_community.embeddings import SentenceTransformerEmbeddings\n",
    "from langchain_community.vectorstores import FAISS\n",
    "\n",
    "# Create local embeddings model\n",
    "embedding_model = SentenceTransformerEmbeddings(model_name=\"all-MiniLM-L6-v2\")\n",
    "\n",
    "# Extract texts\n",
    "texts = [doc[\"text\"] for doc in knowledge_base]\n",
    "\n",
    "# Create FAISS vector store\n",
    "vectorstore = FAISS.from_texts(texts, embedding_model)\n",
    "\n",
    "print(\"✅ Vector store created with\", len(texts), \"documents\")"
   ]
  },
  {
   "cell_type": "markdown",
   "id": "2e6de53b-4c29-4023-b424-c41a02067ec4",
   "metadata": {},
   "source": [
    "### Set up free LLM via Groq"
   ]
  },
  {
   "cell_type": "code",
   "execution_count": 6,
   "id": "aa202031-2af4-4978-9248-f39771a2eccc",
   "metadata": {},
   "outputs": [],
   "source": [
    "from langchain_groq import ChatGroq\n",
    "from langchain.prompts import ChatPromptTemplate\n",
    "from langchain.chains import RetrievalQA\n",
    "\n",
    "# LLaMA 3 free via Groq\n",
    "llm = ChatGroq(\n",
    "    groq_api_key=GROQ_API_KEY,\n",
    "    model_name=\"llama3-8b-8192\",\n",
    "    temperature=0.1\n",
    ")\n",
    "\n",
    "# Create retriever\n",
    "retriever = vectorstore.as_retriever(search_kwargs={\"k\": 2})\n",
    "\n",
    "# Build simple RAG pipeline\n",
    "qa_chain = RetrievalQA.from_chain_type(\n",
    "    llm=llm,\n",
    "    retriever=retriever,\n",
    "    chain_type=\"stuff\"\n",
    ")"
   ]
  },
  {
   "cell_type": "markdown",
   "id": "83d7ba88-602e-40dd-b878-14a80250991a",
   "metadata": {},
   "source": [
    "### TESTING"
   ]
  },
  {
   "cell_type": "code",
   "execution_count": 7,
   "id": "d5ac903a-d70f-49e5-8523-029a2840cd38",
   "metadata": {},
   "outputs": [
    {
     "name": "stderr",
     "output_type": "stream",
     "text": [
      "C:\\Users\\saket.khopkar\\AppData\\Local\\Temp\\ipykernel_11676\\4052937287.py:2: LangChainDeprecationWarning: The method `Chain.run` was deprecated in langchain 0.1.0 and will be removed in 1.0. Use :meth:`~invoke` instead.\n",
      "  response = qa_chain.run(query)\n"
     ]
    },
    {
     "name": "stdout",
     "output_type": "stream",
     "text": [
      "Q: What is your return policy?\n",
      "A: According to our Return Policy, customers can return products within 30 days of purchase with the original receipt.\n",
      "\n",
      "Q: When will my laptop arrive?\n",
      "A: According to the information I have, your laptop is scheduled to arrive by Friday.\n"
     ]
    }
   ],
   "source": [
    "query = \"What is your return policy?\"\n",
    "response = qa_chain.run(query)\n",
    "print(\"Q:\", query)\n",
    "print(\"A:\", response)\n",
    "\n",
    "query = \"When will my laptop arrive?\"\n",
    "response = qa_chain.run(query)\n",
    "print(\"\\nQ:\", query)\n",
    "print(\"A:\", response)"
   ]
  },
  {
   "cell_type": "code",
   "execution_count": 8,
   "id": "9bbd774e-6789-4531-adbf-bf2f56e7ed2f",
   "metadata": {},
   "outputs": [
    {
     "name": "stdout",
     "output_type": "stream",
     "text": [
      "Q: How can I contact customer support?\n",
      "A: According to our FAQ, you can contact our customer support 24/7 via chat and email.\n"
     ]
    }
   ],
   "source": [
    "query = \"How can I contact customer support?\"\n",
    "response = qa_chain.run(query)\n",
    "print(\"Q:\", query)\n",
    "print(\"A:\", response)"
   ]
  },
  {
   "cell_type": "code",
   "execution_count": 9,
   "id": "f57062db-7d1b-42eb-972c-ec155b5b6f2f",
   "metadata": {},
   "outputs": [
    {
     "name": "stdout",
     "output_type": "stream",
     "text": [
      "Q: Do you have 24/7 support?\n",
      "A: Yes, our customer support is available 24/7 via chat and email.\n"
     ]
    }
   ],
   "source": [
    "query = \"Do you have 24/7 support?\"\n",
    "response = qa_chain.run(query)\n",
    "print(\"Q:\", query)\n",
    "print(\"A:\", response)"
   ]
  },
  {
   "cell_type": "code",
   "execution_count": 10,
   "id": "a4e47403-d003-4367-b9b0-ef29e74972f0",
   "metadata": {},
   "outputs": [
    {
     "name": "stdout",
     "output_type": "stream",
     "text": [
      "Q: Can I return an item after a month?\n",
      "A: No, according to our Return Policy, you can return an item within 30 days of purchase with the original receipt. If it's been more than 30 days, you would not be able to return the item.\n"
     ]
    }
   ],
   "source": [
    "query = \"Can I return an item after a month?\"\n",
    "response = qa_chain.run(query)\n",
    "print(\"Q:\", query)\n",
    "print(\"A:\", response)"
   ]
  },
  {
   "cell_type": "code",
   "execution_count": 11,
   "id": "16923c40-2f3c-4170-8067-38bd824cd4c6",
   "metadata": {},
   "outputs": [
    {
     "name": "stdout",
     "output_type": "stream",
     "text": [
      "Q: I bought an item and it broke. Can I return it?\n",
      "A: Yes, you can return the item. According to our Return Policy, customers can return products within 30 days of purchase with the original receipt. Since you purchased the item recently, you should be able to return it.\n"
     ]
    }
   ],
   "source": [
    "query = \"I bought an item and it broke. Can I return it?\"\n",
    "response = qa_chain.run(query)\n",
    "print(\"Q:\", query)\n",
    "print(\"A:\", response)"
   ]
  },
  {
   "cell_type": "code",
   "execution_count": 12,
   "id": "199d5862-1abb-4591-8443-ee46b26333b2",
   "metadata": {},
   "outputs": [
    {
     "name": "stdout",
     "output_type": "stream",
     "text": [
      "Q: If my order is delayed, what should I do?\n",
      "A: If your order is delayed, I would recommend contacting the agent who provided you with the estimated delivery date. They may be able to provide you with an updated estimated delivery date or offer alternative solutions. Additionally, you can also check the tracking information for your order to see if there are any updates on the delivery status. If you have any concerns or issues with your order, you can also reach out to the customer service team for assistance.\n"
     ]
    }
   ],
   "source": [
    "query = \"If my order is delayed, what should I do?\"\n",
    "response = qa_chain.run(query)\n",
    "print(\"Q:\", query)\n",
    "print(\"A:\", response)"
   ]
  },
  {
   "cell_type": "code",
   "execution_count": null,
   "id": "162db002-cb84-4d8a-9c18-73b466150b95",
   "metadata": {},
   "outputs": [],
   "source": []
  }
 ],
 "metadata": {
  "kernelspec": {
   "display_name": "Python 3 (ipykernel)",
   "language": "python",
   "name": "python3"
  },
  "language_info": {
   "codemirror_mode": {
    "name": "ipython",
    "version": 3
   },
   "file_extension": ".py",
   "mimetype": "text/x-python",
   "name": "python",
   "nbconvert_exporter": "python",
   "pygments_lexer": "ipython3",
   "version": "3.12.7"
  }
 },
 "nbformat": 4,
 "nbformat_minor": 5
}
